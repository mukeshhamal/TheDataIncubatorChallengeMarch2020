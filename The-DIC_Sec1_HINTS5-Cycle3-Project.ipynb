{
 "cells": [
  {
   "cell_type": "markdown",
   "metadata": {},
   "source": [
    "# Health Information National Trends Survey [HINTS] Cycle 3 (2019)\n",
    "\n",
    "Note: the data - \"HINTS 5, Cycle 3 (2019) dataset, updated March 2020\" (STATA data) - can be accessed online at: https://hints.cancer.gov/data/download-data.aspx"
   ]
  },
  {
   "cell_type": "markdown",
   "metadata": {},
   "source": [
    "About the Health Information National Trends Survey (HINTS):\n",
    "-\ta nationally representative survey conducted every few years by the National Cancer Institute since 2003\n",
    "-\ttarget population is all adults aged 18 or older in the civilian non-institutionalized population of the United States (U.S.)\n",
    "-\tcollects cancer-related data on the American public's need for, access to, and use of health-related information and health-related behaviors, perceptions, and knowledge\n",
    "\n",
    "HINTS 5 Cycle 3:\n",
    "-\tconducted from January 2019 to April 2019\n",
    "-\tdata collected through self-administered mailed questionnaire and web-based questionnaire\n",
    "-\ttwo strata of samples: i) addresses in areas with high concentrations of minority populations; and ii) addresses in areas with low concentrations of minority populations"
   ]
  },
  {
   "cell_type": "markdown",
   "metadata": {},
   "source": [
    "### Planned project: To develop a model to predict cancer among the 18 years and above adults in the U.S. using the HINTS-5 Cycle-3 data"
   ]
  },
  {
   "cell_type": "markdown",
   "metadata": {},
   "source": [
    "### Step 1: Import libraries and dataset"
   ]
  },
  {
   "cell_type": "code",
   "execution_count": 1,
   "metadata": {},
   "outputs": [],
   "source": [
    "#import pandas as pd\n",
    "#import numpy as np\n",
    "\n",
    "import pandas as pd\n",
    "import numpy as np"
   ]
  },
  {
   "cell_type": "code",
   "execution_count": 2,
   "metadata": {},
   "outputs": [
    {
     "data": {
      "text/html": [
       "<div>\n",
       "<style scoped>\n",
       "    .dataframe tbody tr th:only-of-type {\n",
       "        vertical-align: middle;\n",
       "    }\n",
       "\n",
       "    .dataframe tbody tr th {\n",
       "        vertical-align: top;\n",
       "    }\n",
       "\n",
       "    .dataframe thead th {\n",
       "        text-align: right;\n",
       "    }\n",
       "</style>\n",
       "<table border=\"1\" class=\"dataframe\">\n",
       "  <thead>\n",
       "    <tr style=\"text-align: right;\">\n",
       "      <th></th>\n",
       "      <th>hhid</th>\n",
       "      <th>personid</th>\n",
       "      <th>stratum</th>\n",
       "      <th>app_region</th>\n",
       "      <th>highspanli</th>\n",
       "      <th>hispsurname</th>\n",
       "      <th>hisp_hh</th>\n",
       "      <th>ruc2003</th>\n",
       "      <th>ruc2013</th>\n",
       "      <th>pr_ruca_2010</th>\n",
       "      <th>...</th>\n",
       "      <th>hhinc</th>\n",
       "      <th>bmi</th>\n",
       "      <th>agedx</th>\n",
       "      <th>timesincedx</th>\n",
       "      <th>smokestat</th>\n",
       "      <th>phq4</th>\n",
       "      <th>weeklyminutesmoderateexercise</th>\n",
       "      <th>eciguse</th>\n",
       "      <th>avgdrinksperweek</th>\n",
       "      <th>incomeranges_imp</th>\n",
       "    </tr>\n",
       "  </thead>\n",
       "  <tbody>\n",
       "    <tr>\n",
       "      <td>0</td>\n",
       "      <td>91000002.0</td>\n",
       "      <td>91000002-02</td>\n",
       "      <td>HM</td>\n",
       "      <td></td>\n",
       "      <td>No</td>\n",
       "      <td>No</td>\n",
       "      <td>No</td>\n",
       "      <td>Nonmetro county with urban population of 2,500...</td>\n",
       "      <td>Nonmetro - Urban population of 2,500 to 19,999...</td>\n",
       "      <td>Small town core: primary flow within an Urban ...</td>\n",
       "      <td>...</td>\n",
       "      <td>Less than $20,000</td>\n",
       "      <td>26.3</td>\n",
       "      <td>Inapplicable, coded 2 in EverHadCancer</td>\n",
       "      <td>Inapplicable, coded 2 in EverHadCancer</td>\n",
       "      <td>Never</td>\n",
       "      <td>5</td>\n",
       "      <td>0</td>\n",
       "      <td>Never</td>\n",
       "      <td>0</td>\n",
       "      <td>$15,000 to $19,999</td>\n",
       "    </tr>\n",
       "    <tr>\n",
       "      <td>1</td>\n",
       "      <td>91000006.0</td>\n",
       "      <td>91000006-02</td>\n",
       "      <td>HM</td>\n",
       "      <td></td>\n",
       "      <td>No</td>\n",
       "      <td>No</td>\n",
       "      <td>No</td>\n",
       "      <td>Nonmetro county with urban population of 2,500...</td>\n",
       "      <td>Nonmetro - Urban population of 2,500 to 19,999...</td>\n",
       "      <td>Metropolitan area high commuting: primary flow...</td>\n",
       "      <td>...</td>\n",
       "      <td>$50,000 to &lt; $75,000</td>\n",
       "      <td>28.3</td>\n",
       "      <td>Inapplicable, coded 2 in EverHadCancer</td>\n",
       "      <td>Inapplicable, coded 2 in EverHadCancer</td>\n",
       "      <td>Never</td>\n",
       "      <td>0</td>\n",
       "      <td>30</td>\n",
       "      <td>Never</td>\n",
       "      <td>Missing Data (Not Ascertained)</td>\n",
       "      <td>$50,000 to $74,999</td>\n",
       "    </tr>\n",
       "    <tr>\n",
       "      <td>2</td>\n",
       "      <td>91000007.0</td>\n",
       "      <td>91000007-03</td>\n",
       "      <td>HM</td>\n",
       "      <td></td>\n",
       "      <td>No</td>\n",
       "      <td>No</td>\n",
       "      <td>No</td>\n",
       "      <td>Nonmetro county with urban population of 2,500...</td>\n",
       "      <td>Nonmetro - Urban population of 2,500 to 19,999...</td>\n",
       "      <td>Small town high commuting: primary flow 30% or...</td>\n",
       "      <td>...</td>\n",
       "      <td>Missing Data (Not Ascertained)</td>\n",
       "      <td>37.1</td>\n",
       "      <td>Missing Data (Filter Missing)</td>\n",
       "      <td>Missing Data (Filter Missing), coded -9 in Eve...</td>\n",
       "      <td>Former</td>\n",
       "      <td>6</td>\n",
       "      <td>0</td>\n",
       "      <td>Never</td>\n",
       "      <td>0</td>\n",
       "      <td>$35,000 to $49,999</td>\n",
       "    </tr>\n",
       "  </tbody>\n",
       "</table>\n",
       "<p>3 rows × 731 columns</p>\n",
       "</div>"
      ],
      "text/plain": [
       "         hhid     personid stratum app_region highspanli hispsurname hisp_hh  \\\n",
       "0  91000002.0  91000002-02      HM                    No          No      No   \n",
       "1  91000006.0  91000006-02      HM                    No          No      No   \n",
       "2  91000007.0  91000007-03      HM                    No          No      No   \n",
       "\n",
       "                                             ruc2003  \\\n",
       "0  Nonmetro county with urban population of 2,500...   \n",
       "1  Nonmetro county with urban population of 2,500...   \n",
       "2  Nonmetro county with urban population of 2,500...   \n",
       "\n",
       "                                             ruc2013  \\\n",
       "0  Nonmetro - Urban population of 2,500 to 19,999...   \n",
       "1  Nonmetro - Urban population of 2,500 to 19,999...   \n",
       "2  Nonmetro - Urban population of 2,500 to 19,999...   \n",
       "\n",
       "                                        pr_ruca_2010  ...  \\\n",
       "0  Small town core: primary flow within an Urban ...  ...   \n",
       "1  Metropolitan area high commuting: primary flow...  ...   \n",
       "2  Small town high commuting: primary flow 30% or...  ...   \n",
       "\n",
       "                            hhinc   bmi  \\\n",
       "0               Less than $20,000  26.3   \n",
       "1            $50,000 to < $75,000  28.3   \n",
       "2  Missing Data (Not Ascertained)  37.1   \n",
       "\n",
       "                                    agedx  \\\n",
       "0  Inapplicable, coded 2 in EverHadCancer   \n",
       "1  Inapplicable, coded 2 in EverHadCancer   \n",
       "2           Missing Data (Filter Missing)   \n",
       "\n",
       "                                         timesincedx smokestat phq4  \\\n",
       "0             Inapplicable, coded 2 in EverHadCancer     Never    5   \n",
       "1             Inapplicable, coded 2 in EverHadCancer     Never    0   \n",
       "2  Missing Data (Filter Missing), coded -9 in Eve...    Former    6   \n",
       "\n",
       "  weeklyminutesmoderateexercise eciguse                avgdrinksperweek  \\\n",
       "0                             0   Never                               0   \n",
       "1                            30   Never  Missing Data (Not Ascertained)   \n",
       "2                             0   Never                               0   \n",
       "\n",
       "     incomeranges_imp  \n",
       "0  $15,000 to $19,999  \n",
       "1  $50,000 to $74,999  \n",
       "2  $35,000 to $49,999  \n",
       "\n",
       "[3 rows x 731 columns]"
      ]
     },
     "execution_count": 2,
     "metadata": {},
     "output_type": "execute_result"
    }
   ],
   "source": [
    "#upload the available .dta (stata)\n",
    "#data files are avilable only in SAS, STATA and SPSS versions\n",
    "\n",
    "location = 'hints5_cycle3_public.dta'\n",
    "\n",
    "df = pd.read_stata(location)\n",
    "df.head(3)"
   ]
  },
  {
   "cell_type": "code",
   "execution_count": 3,
   "metadata": {},
   "outputs": [
    {
     "data": {
      "text/plain": [
       "(5438, 731)"
      ]
     },
     "execution_count": 3,
     "metadata": {},
     "output_type": "execute_result"
    }
   ],
   "source": [
    "#check the number of rows and columns\n",
    "df.shape"
   ]
  },
  {
   "cell_type": "markdown",
   "metadata": {},
   "source": [
    "### Step 2: Create the dataset with only necessary variables for the analysis"
   ]
  },
  {
   "cell_type": "code",
   "execution_count": 4,
   "metadata": {},
   "outputs": [
    {
     "data": {
      "text/plain": [
       "['hhid',\n",
       " 'personid',\n",
       " 'stratum',\n",
       " 'app_region',\n",
       " 'highspanli',\n",
       " 'hispsurname',\n",
       " 'hisp_hh',\n",
       " 'ruc2003',\n",
       " 'ruc2013',\n",
       " 'pr_ruca_2010',\n",
       " 'sec_ruca_2010',\n",
       " 'sec_ruca_2010_descript',\n",
       " 'dra',\n",
       " 'treatment_h5c3',\n",
       " 'nchsurcode2013',\n",
       " 'censdiv',\n",
       " 'censreg',\n",
       " 'var_stratum',\n",
       " 'var_cluster',\n",
       " 'formtype',\n",
       " 'language_flag',\n",
       " 'qdisp',\n",
       " 'updatedate',\n",
       " 'adultsinhh',\n",
       " 'mailhhadults',\n",
       " 'seekhealthinfo',\n",
       " 'whereseekhealthinfo',\n",
       " 'wholookingfor',\n",
       " 'lotofeffort',\n",
       " 'frustrated',\n",
       " 'confidentgethealthinf',\n",
       " 'trustdoctor',\n",
       " 'trustfamily',\n",
       " 'trustgov',\n",
       " 'trustcharities',\n",
       " 'trustreligiousorgs',\n",
       " 'strongneedhealthinfo',\n",
       " 'strongneedhealthinfo_os',\n",
       " 'seekcancerinfo',\n",
       " 'useinternet',\n",
       " 'internet_dialup',\n",
       " 'internet_broadbnd',\n",
       " 'internet_cell',\n",
       " 'internet_wifi',\n",
       " 'internetcancerinfoself',\n",
       " 'whereuseinternet_home',\n",
       " 'whereuseinternet_work',\n",
       " 'whereuseinternet_publicplace',\n",
       " 'whereuseinternet_mobiledevice',\n",
       " 'electronic_selfhealthinfo',\n",
       " 'electronic_buymedicine',\n",
       " 'electronic_talkdoctor',\n",
       " 'electronic_trackedhealthcosts',\n",
       " 'electronic_testresults',\n",
       " 'electronic_madeappts',\n",
       " 'electronic_ecigharms',\n",
       " 'havedevice_tablet',\n",
       " 'havedevice_smartph',\n",
       " 'havedevice_cellph',\n",
       " 'havedevice_none',\n",
       " 'havedevice_cat',\n",
       " 'tablethealthwellnessapps',\n",
       " 'tablet_achievegoal',\n",
       " 'tablet_makedecision',\n",
       " 'tablet_discussionshcp',\n",
       " 'wearabledevtrackhealth',\n",
       " 'freqweardevtrackhealth',\n",
       " 'willingsharedata_hcp',\n",
       " 'willingsharedata_fam',\n",
       " 'otherdevtrackhealth2',\n",
       " 'sharedhealthdeviceinfo',\n",
       " 'intrsn_visitedsocnet',\n",
       " 'intrsn_sharedsocnet',\n",
       " 'intrsn_wroteblog',\n",
       " 'intrsn_supportgroup',\n",
       " 'intrsn_youtube',\n",
       " 'textfromdoctor',\n",
       " 'regularprovider',\n",
       " 'freqgoprovider',\n",
       " 'qualitycare',\n",
       " 'freqgourgentcare',\n",
       " 'qualitycareurgentcare',\n",
       " 'chanceaskquestions',\n",
       " 'feelingsaddressed',\n",
       " 'involveddecisions',\n",
       " 'understoodnextsteps',\n",
       " 'explainedclearly',\n",
       " 'spentenoughtime',\n",
       " 'helpuncertainty',\n",
       " 'healthins_insuranceemp',\n",
       " 'healthins_insurancepriv',\n",
       " 'healthins_medicare',\n",
       " 'healthins_medicaid',\n",
       " 'healthins_tricare',\n",
       " 'healthins_va',\n",
       " 'healthins_ihs',\n",
       " 'healthins_other',\n",
       " 'healthins_other_os',\n",
       " 'healthinsurance',\n",
       " 'providermaintainemr2',\n",
       " 'offeredaccesshcp2',\n",
       " 'offeredaccessinsurer2',\n",
       " 'accessonlinerecord',\n",
       " 'notaccessed_speakdirectly',\n",
       " 'notaccessed_nointernet',\n",
       " 'notaccessed_noneed',\n",
       " 'notaccessed_concernedprivacy',\n",
       " 'notaccessed_norecord',\n",
       " 'notaccessed_loginprob',\n",
       " 'notaccessed_uncomfortable',\n",
       " 'notaccessed_multiplerec',\n",
       " 'recordsonline_refillmeds',\n",
       " 'recordsonline_viewresults',\n",
       " 'recordsonline_requestcorrection',\n",
       " 'recordsonline_messagehcp',\n",
       " 'recordsonline_downloadhealth',\n",
       " 'recordsonline_addhealthinfo',\n",
       " 'recordsonline_makedecision',\n",
       " 'accessusinghealthapp',\n",
       " 'onlinerecclinnotes',\n",
       " 'esent_anotherhcp',\n",
       " 'esent_family',\n",
       " 'esent_healthapp',\n",
       " 'understandonlinemedrec',\n",
       " 'usefulonlinemedrec',\n",
       " 'caregiving_child',\n",
       " 'caregiving_spouse',\n",
       " 'caregiving_parent',\n",
       " 'caregiving_anotherfam',\n",
       " 'caregiving_friend',\n",
       " 'caregiving_no',\n",
       " 'caregivingwho_cat',\n",
       " 'caregiving_professional',\n",
       " 'caregiving_hoursperweek2',\n",
       " 'caregiving_cancer',\n",
       " 'caregiving_alzheimers',\n",
       " 'caregiving_orthomusc',\n",
       " 'caregiving_mentalhealth',\n",
       " 'caregiving_chroniccond',\n",
       " 'caregiving_neurodev',\n",
       " 'caregiving_acutecond',\n",
       " 'caregiving_aging',\n",
       " 'caregiving_notsure',\n",
       " 'caregiving_other',\n",
       " 'caregiving_other_os',\n",
       " 'caregivingcond_cat',\n",
       " 'caregiving_accessmedrec',\n",
       " 'generalhealth',\n",
       " 'ownabilitytakecarehealth',\n",
       " 'avoiddoc',\n",
       " 'deaf',\n",
       " 'talkhealthfriends',\n",
       " 'medconditions_diabetes',\n",
       " 'medconditions_highbp',\n",
       " 'medconditions_heartcondition',\n",
       " 'medconditions_lungdisease',\n",
       " 'medconditions_depression',\n",
       " 'height_feet',\n",
       " 'height_inches',\n",
       " 'weight',\n",
       " 'weightperception',\n",
       " 'weightintention',\n",
       " 'littleinterest',\n",
       " 'hopeless',\n",
       " 'nervous',\n",
       " 'worrying',\n",
       " 'changethinking',\n",
       " 'considerfuture',\n",
       " 'fruit',\n",
       " 'vegetables',\n",
       " 'averagecaloriesperday',\n",
       " 'averagecaloriesperday_dk',\n",
       " 'noticecalorieinfoonmenu',\n",
       " 'understandcalorieinfo',\n",
       " 'calorieinfo_fewercalories',\n",
       " 'calorieinfo_morecalories',\n",
       " 'calorieinfo_feweritems',\n",
       " 'calorieinfo_smallersizes',\n",
       " 'calorieinfo_moreitems',\n",
       " 'calorieinfo_largersizes',\n",
       " 'drinkdaysperweek',\n",
       " 'drinksperday',\n",
       " 'alcoholconditions_cancer',\n",
       " 'alcoholconditions_heartdisease',\n",
       " 'alcoholconditions_diabetes',\n",
       " 'alcoholconditions_liverdisease',\n",
       " 'hcpalcoholconsequences',\n",
       " 'timesmoderateexercise',\n",
       " 'howlongmoderateexerciseminutes',\n",
       " 'timesstrengthtraining',\n",
       " 'averagetimesitting',\n",
       " 'enjoyexercise',\n",
       " 'regexercise_pressure',\n",
       " 'regexercise_appearance',\n",
       " 'regexercise_guilt',\n",
       " 'regexercise_enjoyment',\n",
       " 'govparec_hcp',\n",
       " 'govparec_internet',\n",
       " 'govparec_tv',\n",
       " 'govparec_magazine',\n",
       " 'exrec_increasedex',\n",
       " 'exrec_decreasedex',\n",
       " 'exrec_changedex',\n",
       " 'exrec_lookedinfo',\n",
       " 'exrec_nochange',\n",
       " 'exrec_notheard',\n",
       " 'exrec_cat',\n",
       " 'physact_helpsleep',\n",
       " 'physact_reduceanxiety',\n",
       " 'physact_reducepain',\n",
       " 'averagesleepnight',\n",
       " 'averagesleepquality',\n",
       " 'morningnightperson',\n",
       " 'spendtimeinsuntanning',\n",
       " 'enjoytimeinsun',\n",
       " 'timessunburned',\n",
       " 'sunburned_joboutside',\n",
       " 'sunburned_homeoutside',\n",
       " 'sunburned_sunbathing',\n",
       " 'sunburned_swimming',\n",
       " 'sunburned_exercise',\n",
       " 'sunburned_sportingevent',\n",
       " 'sunburned_outdoorevent',\n",
       " 'sunburned_daytoday',\n",
       " 'sunburned_other',\n",
       " 'sunburned_dk',\n",
       " 'sunburnedact_cat',\n",
       " 'sunburned_spf15',\n",
       " 'sunburned_protclothing',\n",
       " 'sunburned_shade',\n",
       " 'sunburned_none',\n",
       " 'sunburned_dontremember',\n",
       " 'sunburnedprot_cat',\n",
       " 'sunburned_alcohol',\n",
       " 'smoke100',\n",
       " 'smokenow',\n",
       " 'triedquit',\n",
       " 'considerquit',\n",
       " 'electciglessharm',\n",
       " 'usedecigever',\n",
       " 'useecignow',\n",
       " 'smokedayecig',\n",
       " 'nicotinewantsmoke',\n",
       " 'nicotinecausecancer',\n",
       " 'nicotineaddictionconcern',\n",
       " 'lownicotineharmful',\n",
       " 'lownicotineaddictive',\n",
       " 'seenfederalcourttobaccomessages2',\n",
       " 'tobaccomessages_hesmoking',\n",
       " 'tobaccomessages_hesecondhand',\n",
       " 'tobaccomessages_addictiveness',\n",
       " 'tobaccomessages_enhancedelivery',\n",
       " 'tobaccomessages_lowtarlight',\n",
       " 'tobaccomessages_cat',\n",
       " 'genderc',\n",
       " 'everhadpsatest',\n",
       " 'whenpaptest',\n",
       " 'whenmammogram',\n",
       " 'evertestedcolonca',\n",
       " 'heardhepc',\n",
       " 'heardhpv',\n",
       " 'hpvcausecancer_cervical',\n",
       " 'hpvcausecancer_penile',\n",
       " 'hpvcausecancer_anal',\n",
       " 'hpvcausecancer_oral',\n",
       " 'heardhpvvaccine2',\n",
       " 'everhadcancer',\n",
       " 'cabladder',\n",
       " 'cabone',\n",
       " 'cabreast',\n",
       " 'cacervical',\n",
       " 'cacolon',\n",
       " 'caendometrial',\n",
       " 'caheadneck',\n",
       " 'caleukemia',\n",
       " 'caliver',\n",
       " 'calung',\n",
       " 'cahodgkins',\n",
       " 'canonhodgkin',\n",
       " 'camelanoma',\n",
       " 'caoral',\n",
       " 'caovarian',\n",
       " 'capancreatic',\n",
       " 'capharyngeal',\n",
       " 'caprostate',\n",
       " 'carectal',\n",
       " 'carenal',\n",
       " 'caskin',\n",
       " 'castomach',\n",
       " 'caother',\n",
       " 'caother_os',\n",
       " 'cancer_cat',\n",
       " 'whendiagnosedcancer',\n",
       " 'chancegetcancernodx',\n",
       " 'freqworrycancernodx',\n",
       " 'familyeverhadcancer',\n",
       " 'everythingcausecancer',\n",
       " 'preventnotpossible',\n",
       " 'toomanyrecommendations',\n",
       " 'cancersign_unexpbleeding',\n",
       " 'cancersign_bowelbladderchange',\n",
       " 'cancersign_unexpweightloss',\n",
       " 'influencecancer_obesity',\n",
       " 'influencecancer_eatingfiber',\n",
       " 'influencecancer_processedmeat',\n",
       " 'influencecancer_eatingfruitveg',\n",
       " 'age',\n",
       " 'maritalstatus',\n",
       " 'education',\n",
       " 'speakenglish',\n",
       " 'nothisp',\n",
       " 'mexican',\n",
       " 'puertorican',\n",
       " 'cuban',\n",
       " 'othhisp',\n",
       " 'hisp_cat',\n",
       " 'white',\n",
       " 'black',\n",
       " 'amerind',\n",
       " 'asind',\n",
       " 'chinese',\n",
       " 'filipino',\n",
       " 'japanese',\n",
       " 'korean',\n",
       " 'vietnamese',\n",
       " 'othasian',\n",
       " 'hawaiian',\n",
       " 'guamanian',\n",
       " 'samoan',\n",
       " 'othpacisl',\n",
       " 'race_cat2',\n",
       " 'sexualorientation',\n",
       " 'sexualorientation_os',\n",
       " 'totalhousehold',\n",
       " 'r_hhadults',\n",
       " 'hhadults_num',\n",
       " 'selfgender',\n",
       " 'selfage',\n",
       " 'selfmob',\n",
       " 'hhadultgender2',\n",
       " 'hhadultage2',\n",
       " 'hhadultmob2',\n",
       " 'hhadultgender3',\n",
       " 'hhadultage3',\n",
       " 'hhadultmob3',\n",
       " 'hhadultgender4',\n",
       " 'hhadultage4',\n",
       " 'hhadultmob4',\n",
       " 'hhadultgender5',\n",
       " 'hhadultage5',\n",
       " 'hhadultmob5',\n",
       " 'hhadultgender6',\n",
       " 'hhadultage6',\n",
       " 'hhadultmob6',\n",
       " 'childreninhh',\n",
       " 'rentorown',\n",
       " 'incomeranges',\n",
       " 'incomefeelings',\n",
       " 'prompt',\n",
       " 'mailnum',\n",
       " 'tg_all_finwt1',\n",
       " 'tg_all_finwt2',\n",
       " 'tg_all_finwt3',\n",
       " 'tg_all_finwt4',\n",
       " 'tg_all_finwt5',\n",
       " 'tg_all_finwt6',\n",
       " 'tg_all_finwt7',\n",
       " 'tg_all_finwt8',\n",
       " 'tg_all_finwt9',\n",
       " 'tg_all_finwt10',\n",
       " 'tg_all_finwt11',\n",
       " 'tg_all_finwt12',\n",
       " 'tg_all_finwt13',\n",
       " 'tg_all_finwt14',\n",
       " 'tg_all_finwt15',\n",
       " 'tg_all_finwt16',\n",
       " 'tg_all_finwt17',\n",
       " 'tg_all_finwt18',\n",
       " 'tg_all_finwt19',\n",
       " 'tg_all_finwt20',\n",
       " 'tg_all_finwt21',\n",
       " 'tg_all_finwt22',\n",
       " 'tg_all_finwt23',\n",
       " 'tg_all_finwt24',\n",
       " 'tg_all_finwt25',\n",
       " 'tg_all_finwt26',\n",
       " 'tg_all_finwt27',\n",
       " 'tg_all_finwt28',\n",
       " 'tg_all_finwt29',\n",
       " 'tg_all_finwt30',\n",
       " 'tg_all_finwt31',\n",
       " 'tg_all_finwt32',\n",
       " 'tg_all_finwt33',\n",
       " 'tg_all_finwt34',\n",
       " 'tg_all_finwt35',\n",
       " 'tg_all_finwt36',\n",
       " 'tg_all_finwt37',\n",
       " 'tg_all_finwt38',\n",
       " 'tg_all_finwt39',\n",
       " 'tg_all_finwt40',\n",
       " 'tg_all_finwt41',\n",
       " 'tg_all_finwt42',\n",
       " 'tg_all_finwt43',\n",
       " 'tg_all_finwt44',\n",
       " 'tg_all_finwt45',\n",
       " 'tg_all_finwt46',\n",
       " 'tg_all_finwt47',\n",
       " 'tg_all_finwt48',\n",
       " 'tg_all_finwt49',\n",
       " 'tg_all_finwt50',\n",
       " 'tg_all_finwt0',\n",
       " 'tg1_finwt1',\n",
       " 'tg1_finwt2',\n",
       " 'tg1_finwt3',\n",
       " 'tg1_finwt4',\n",
       " 'tg1_finwt5',\n",
       " 'tg1_finwt6',\n",
       " 'tg1_finwt7',\n",
       " 'tg1_finwt8',\n",
       " 'tg1_finwt9',\n",
       " 'tg1_finwt10',\n",
       " 'tg1_finwt11',\n",
       " 'tg1_finwt12',\n",
       " 'tg1_finwt13',\n",
       " 'tg1_finwt14',\n",
       " 'tg1_finwt15',\n",
       " 'tg1_finwt16',\n",
       " 'tg1_finwt17',\n",
       " 'tg1_finwt18',\n",
       " 'tg1_finwt19',\n",
       " 'tg1_finwt20',\n",
       " 'tg1_finwt21',\n",
       " 'tg1_finwt22',\n",
       " 'tg1_finwt23',\n",
       " 'tg1_finwt24',\n",
       " 'tg1_finwt25',\n",
       " 'tg1_finwt26',\n",
       " 'tg1_finwt27',\n",
       " 'tg1_finwt28',\n",
       " 'tg1_finwt29',\n",
       " 'tg1_finwt30',\n",
       " 'tg1_finwt31',\n",
       " 'tg1_finwt32',\n",
       " 'tg1_finwt33',\n",
       " 'tg1_finwt34',\n",
       " 'tg1_finwt35',\n",
       " 'tg1_finwt36',\n",
       " 'tg1_finwt37',\n",
       " 'tg1_finwt38',\n",
       " 'tg1_finwt39',\n",
       " 'tg1_finwt40',\n",
       " 'tg1_finwt41',\n",
       " 'tg1_finwt42',\n",
       " 'tg1_finwt43',\n",
       " 'tg1_finwt44',\n",
       " 'tg1_finwt45',\n",
       " 'tg1_finwt46',\n",
       " 'tg1_finwt47',\n",
       " 'tg1_finwt48',\n",
       " 'tg1_finwt49',\n",
       " 'tg1_finwt50',\n",
       " 'tg1_finwt0',\n",
       " 'tg2_finwt1',\n",
       " 'tg2_finwt2',\n",
       " 'tg2_finwt3',\n",
       " 'tg2_finwt4',\n",
       " 'tg2_finwt5',\n",
       " 'tg2_finwt6',\n",
       " 'tg2_finwt7',\n",
       " 'tg2_finwt8',\n",
       " 'tg2_finwt9',\n",
       " 'tg2_finwt10',\n",
       " 'tg2_finwt11',\n",
       " 'tg2_finwt12',\n",
       " 'tg2_finwt13',\n",
       " 'tg2_finwt14',\n",
       " 'tg2_finwt15',\n",
       " 'tg2_finwt16',\n",
       " 'tg2_finwt17',\n",
       " 'tg2_finwt18',\n",
       " 'tg2_finwt19',\n",
       " 'tg2_finwt20',\n",
       " 'tg2_finwt21',\n",
       " 'tg2_finwt22',\n",
       " 'tg2_finwt23',\n",
       " 'tg2_finwt24',\n",
       " 'tg2_finwt25',\n",
       " 'tg2_finwt26',\n",
       " 'tg2_finwt27',\n",
       " 'tg2_finwt28',\n",
       " 'tg2_finwt29',\n",
       " 'tg2_finwt30',\n",
       " 'tg2_finwt31',\n",
       " 'tg2_finwt32',\n",
       " 'tg2_finwt33',\n",
       " 'tg2_finwt34',\n",
       " 'tg2_finwt35',\n",
       " 'tg2_finwt36',\n",
       " 'tg2_finwt37',\n",
       " 'tg2_finwt38',\n",
       " 'tg2_finwt39',\n",
       " 'tg2_finwt40',\n",
       " 'tg2_finwt41',\n",
       " 'tg2_finwt42',\n",
       " 'tg2_finwt43',\n",
       " 'tg2_finwt44',\n",
       " 'tg2_finwt45',\n",
       " 'tg2_finwt46',\n",
       " 'tg2_finwt47',\n",
       " 'tg2_finwt48',\n",
       " 'tg2_finwt49',\n",
       " 'tg2_finwt50',\n",
       " 'tg2_finwt0',\n",
       " 'tg3_finwt1',\n",
       " 'tg3_finwt2',\n",
       " 'tg3_finwt3',\n",
       " 'tg3_finwt4',\n",
       " 'tg3_finwt5',\n",
       " 'tg3_finwt6',\n",
       " 'tg3_finwt7',\n",
       " 'tg3_finwt8',\n",
       " 'tg3_finwt9',\n",
       " 'tg3_finwt10',\n",
       " 'tg3_finwt11',\n",
       " 'tg3_finwt12',\n",
       " 'tg3_finwt13',\n",
       " 'tg3_finwt14',\n",
       " 'tg3_finwt15',\n",
       " 'tg3_finwt16',\n",
       " 'tg3_finwt17',\n",
       " 'tg3_finwt18',\n",
       " 'tg3_finwt19',\n",
       " 'tg3_finwt20',\n",
       " 'tg3_finwt21',\n",
       " 'tg3_finwt22',\n",
       " 'tg3_finwt23',\n",
       " 'tg3_finwt24',\n",
       " 'tg3_finwt25',\n",
       " 'tg3_finwt26',\n",
       " 'tg3_finwt27',\n",
       " 'tg3_finwt28',\n",
       " 'tg3_finwt29',\n",
       " 'tg3_finwt30',\n",
       " 'tg3_finwt31',\n",
       " 'tg3_finwt32',\n",
       " 'tg3_finwt33',\n",
       " 'tg3_finwt34',\n",
       " 'tg3_finwt35',\n",
       " 'tg3_finwt36',\n",
       " 'tg3_finwt37',\n",
       " 'tg3_finwt38',\n",
       " 'tg3_finwt39',\n",
       " 'tg3_finwt40',\n",
       " 'tg3_finwt41',\n",
       " 'tg3_finwt42',\n",
       " 'tg3_finwt43',\n",
       " 'tg3_finwt44',\n",
       " 'tg3_finwt45',\n",
       " 'tg3_finwt46',\n",
       " 'tg3_finwt47',\n",
       " 'tg3_finwt48',\n",
       " 'tg3_finwt49',\n",
       " 'tg3_finwt50',\n",
       " 'tg3_finwt0',\n",
       " 'nwgt1',\n",
       " 'nwgt2',\n",
       " 'nwgt3',\n",
       " 'nwgt4',\n",
       " 'nwgt5',\n",
       " 'nwgt6',\n",
       " 'nwgt7',\n",
       " 'nwgt8',\n",
       " 'nwgt9',\n",
       " 'nwgt10',\n",
       " 'nwgt11',\n",
       " 'nwgt12',\n",
       " 'nwgt13',\n",
       " 'nwgt14',\n",
       " 'nwgt15',\n",
       " 'nwgt16',\n",
       " 'nwgt17',\n",
       " 'nwgt18',\n",
       " 'nwgt19',\n",
       " 'nwgt20',\n",
       " 'nwgt21',\n",
       " 'nwgt22',\n",
       " 'nwgt23',\n",
       " 'nwgt24',\n",
       " 'nwgt25',\n",
       " 'nwgt26',\n",
       " 'nwgt27',\n",
       " 'nwgt28',\n",
       " 'nwgt29',\n",
       " 'nwgt30',\n",
       " 'nwgt31',\n",
       " 'nwgt32',\n",
       " 'nwgt33',\n",
       " 'nwgt34',\n",
       " 'nwgt35',\n",
       " 'nwgt36',\n",
       " 'nwgt37',\n",
       " 'nwgt38',\n",
       " 'nwgt39',\n",
       " 'nwgt40',\n",
       " 'nwgt41',\n",
       " 'nwgt42',\n",
       " 'nwgt43',\n",
       " 'nwgt44',\n",
       " 'nwgt45',\n",
       " 'nwgt46',\n",
       " 'nwgt47',\n",
       " 'nwgt48',\n",
       " 'nwgt49',\n",
       " 'nwgt50',\n",
       " 'nwgt51',\n",
       " 'nwgt52',\n",
       " 'nwgt53',\n",
       " 'nwgt54',\n",
       " 'nwgt55',\n",
       " 'nwgt56',\n",
       " 'nwgt57',\n",
       " 'nwgt58',\n",
       " 'nwgt59',\n",
       " 'nwgt60',\n",
       " 'nwgt61',\n",
       " 'nwgt62',\n",
       " 'nwgt63',\n",
       " 'nwgt64',\n",
       " 'nwgt65',\n",
       " 'nwgt66',\n",
       " 'nwgt67',\n",
       " 'nwgt68',\n",
       " 'nwgt69',\n",
       " 'nwgt70',\n",
       " 'nwgt71',\n",
       " 'nwgt72',\n",
       " 'nwgt73',\n",
       " 'nwgt74',\n",
       " 'nwgt75',\n",
       " 'nwgt76',\n",
       " 'nwgt77',\n",
       " 'nwgt78',\n",
       " 'nwgt79',\n",
       " 'nwgt80',\n",
       " 'nwgt81',\n",
       " 'nwgt82',\n",
       " 'nwgt83',\n",
       " 'nwgt84',\n",
       " 'nwgt85',\n",
       " 'nwgt86',\n",
       " 'nwgt87',\n",
       " 'nwgt88',\n",
       " 'nwgt89',\n",
       " 'nwgt90',\n",
       " 'nwgt91',\n",
       " 'nwgt92',\n",
       " 'nwgt93',\n",
       " 'nwgt94',\n",
       " 'nwgt95',\n",
       " 'nwgt96',\n",
       " 'nwgt97',\n",
       " 'nwgt98',\n",
       " 'nwgt99',\n",
       " 'nwgt100',\n",
       " 'nwgt101',\n",
       " 'nwgt102',\n",
       " 'nwgt103',\n",
       " 'nwgt104',\n",
       " 'nwgt105',\n",
       " 'nwgt106',\n",
       " 'nwgt107',\n",
       " 'nwgt108',\n",
       " 'nwgt109',\n",
       " 'nwgt110',\n",
       " 'nwgt111',\n",
       " 'nwgt112',\n",
       " 'nwgt113',\n",
       " 'nwgt114',\n",
       " 'nwgt115',\n",
       " 'nwgt116',\n",
       " 'nwgt117',\n",
       " 'nwgt118',\n",
       " 'nwgt119',\n",
       " 'nwgt120',\n",
       " 'nwgt121',\n",
       " 'nwgt122',\n",
       " 'nwgt123',\n",
       " 'nwgt124',\n",
       " 'nwgt125',\n",
       " 'nwgt126',\n",
       " 'nwgt127',\n",
       " 'nwgt128',\n",
       " 'nwgt129',\n",
       " 'nwgt130',\n",
       " 'nwgt131',\n",
       " 'nwgt132',\n",
       " 'nwgt133',\n",
       " 'nwgt134',\n",
       " 'nwgt135',\n",
       " 'nwgt136',\n",
       " 'nwgt137',\n",
       " 'nwgt138',\n",
       " 'nwgt139',\n",
       " 'nwgt140',\n",
       " 'nwgt141',\n",
       " 'nwgt142',\n",
       " 'nwgt143',\n",
       " 'nwgt144',\n",
       " 'nwgt145',\n",
       " 'nwgt146',\n",
       " 'nwgt147',\n",
       " 'nwgt148',\n",
       " 'nwgt149',\n",
       " 'nwgt150',\n",
       " 'nwgt0',\n",
       " 'agegrpa',\n",
       " 'agegrpb',\n",
       " 'educa',\n",
       " 'educb',\n",
       " 'raceethn',\n",
       " 'raceethn5',\n",
       " 'hhinc',\n",
       " 'bmi',\n",
       " 'agedx',\n",
       " 'timesincedx',\n",
       " 'smokestat',\n",
       " 'phq4',\n",
       " 'weeklyminutesmoderateexercise',\n",
       " 'eciguse',\n",
       " 'avgdrinksperweek',\n",
       " 'incomeranges_imp']"
      ]
     },
     "execution_count": 4,
     "metadata": {},
     "output_type": "execute_result"
    }
   ],
   "source": [
    "#extract the list of columns\n",
    "list(df.columns)"
   ]
  },
  {
   "cell_type": "markdown",
   "metadata": {},
   "source": [
    "\n",
    "#### Selecting list of potential variables for the analysis\n",
    "\n",
    "'personid',\n",
    "\n",
    "'everhadcancer',\n",
    "'cancer_cat',\n",
    "'agedx','timesincedx'\n",
    "\n",
    "##### demographics and physical measures\n",
    "'age',\n",
    "'bmi',\n",
    "'genderc',\n",
    "'maritalstatus',\n",
    "'raceethn5',\n",
    "'educa',\n",
    "\n",
    "'familyeverhadcancer',\n",
    "\n",
    "##### health-seeking behavior\n",
    "'smokestat',\n",
    "'weeklyminutesmoderateexercise',\n",
    "'avgdrinksperweek',\n",
    "\n",
    "**cancer screening**\n",
    "'everhadpsatest',\n",
    "'evertestedcolonca',\n",
    "'whenpaptest',\n",
    "'whenmammogram'"
   ]
  },
  {
   "cell_type": "markdown",
   "metadata": {},
   "source": [
    "#### For an initial exploration, create a dataframe with cancer-related variables ('everhadcancer', 'cancer_cat', 'agedx', 'timesincedx'), demographics and physical measures and 'familyeverhadcancer'."
   ]
  },
  {
   "cell_type": "code",
   "execution_count": 5,
   "metadata": {},
   "outputs": [],
   "source": [
    "#creating dataframe 'df1' with the selected list of variables from 'df'\n",
    "df1 = df[[\n",
    "    'personid',\n",
    "    'everhadcancer',\n",
    "    'cancer_cat',\n",
    "    'agedx',\n",
    "    'timesincedx',\n",
    "    'age',\n",
    "    'bmi',\n",
    "    'genderc',\n",
    "    'maritalstatus',\n",
    "    'raceethn5',\n",
    "    'hhinc',\n",
    "    'educa',\n",
    "    'familyeverhadcancer'\n",
    "    ]]"
   ]
  },
  {
   "cell_type": "code",
   "execution_count": 6,
   "metadata": {},
   "outputs": [
    {
     "data": {
      "text/plain": [
       "(5438, 13)"
      ]
     },
     "execution_count": 6,
     "metadata": {},
     "output_type": "execute_result"
    }
   ],
   "source": [
    "#checking the number of rows and columns in df1\n",
    "df1.shape"
   ]
  },
  {
   "cell_type": "markdown",
   "metadata": {},
   "source": [
    "#### 2.1 Sort out the continuous and categorical variables"
   ]
  },
  {
   "cell_type": "code",
   "execution_count": 7,
   "metadata": {},
   "outputs": [
    {
     "data": {
      "text/html": [
       "<div>\n",
       "<style scoped>\n",
       "    .dataframe tbody tr th:only-of-type {\n",
       "        vertical-align: middle;\n",
       "    }\n",
       "\n",
       "    .dataframe tbody tr th {\n",
       "        vertical-align: top;\n",
       "    }\n",
       "\n",
       "    .dataframe thead th {\n",
       "        text-align: right;\n",
       "    }\n",
       "</style>\n",
       "<table border=\"1\" class=\"dataframe\">\n",
       "  <thead>\n",
       "    <tr style=\"text-align: right;\">\n",
       "      <th></th>\n",
       "      <th>personid</th>\n",
       "      <th>everhadcancer</th>\n",
       "      <th>cancer_cat</th>\n",
       "      <th>agedx</th>\n",
       "      <th>timesincedx</th>\n",
       "      <th>age</th>\n",
       "      <th>bmi</th>\n",
       "      <th>genderc</th>\n",
       "      <th>maritalstatus</th>\n",
       "      <th>raceethn5</th>\n",
       "      <th>hhinc</th>\n",
       "      <th>educa</th>\n",
       "      <th>familyeverhadcancer</th>\n",
       "    </tr>\n",
       "  </thead>\n",
       "  <tbody>\n",
       "    <tr>\n",
       "      <td>count</td>\n",
       "      <td>5438</td>\n",
       "      <td>5438</td>\n",
       "      <td>5438</td>\n",
       "      <td>5438</td>\n",
       "      <td>5438</td>\n",
       "      <td>5438</td>\n",
       "      <td>5438</td>\n",
       "      <td>5438</td>\n",
       "      <td>5438</td>\n",
       "      <td>5438</td>\n",
       "      <td>5438</td>\n",
       "      <td>5438</td>\n",
       "      <td>5438</td>\n",
       "    </tr>\n",
       "    <tr>\n",
       "      <td>unique</td>\n",
       "      <td>5438</td>\n",
       "      <td>4</td>\n",
       "      <td>28</td>\n",
       "      <td>85</td>\n",
       "      <td>9</td>\n",
       "      <td>82</td>\n",
       "      <td>364</td>\n",
       "      <td>4</td>\n",
       "      <td>9</td>\n",
       "      <td>7</td>\n",
       "      <td>7</td>\n",
       "      <td>6</td>\n",
       "      <td>6</td>\n",
       "    </tr>\n",
       "    <tr>\n",
       "      <td>top</td>\n",
       "      <td>93022696-01</td>\n",
       "      <td>No</td>\n",
       "      <td>Inapplicable, coded 2 in EverHadCancer</td>\n",
       "      <td>Inapplicable, coded 2 in EverHadCancer</td>\n",
       "      <td>Inapplicable, coded 2 in EverHadCancer</td>\n",
       "      <td>Missing data (Not Ascertained)</td>\n",
       "      <td>Missing Data (Not Ascertained)</td>\n",
       "      <td>Female</td>\n",
       "      <td>Married</td>\n",
       "      <td>Non-Hispanic White</td>\n",
       "      <td>$75,000 or More</td>\n",
       "      <td>College Graduate or More</td>\n",
       "      <td>Yes</td>\n",
       "    </tr>\n",
       "    <tr>\n",
       "      <td>freq</td>\n",
       "      <td>1</td>\n",
       "      <td>4470</td>\n",
       "      <td>4459</td>\n",
       "      <td>4449</td>\n",
       "      <td>4449</td>\n",
       "      <td>151</td>\n",
       "      <td>156</td>\n",
       "      <td>3073</td>\n",
       "      <td>2588</td>\n",
       "      <td>3054</td>\n",
       "      <td>1802</td>\n",
       "      <td>2410</td>\n",
       "      <td>3758</td>\n",
       "    </tr>\n",
       "  </tbody>\n",
       "</table>\n",
       "</div>"
      ],
      "text/plain": [
       "           personid everhadcancer                              cancer_cat  \\\n",
       "count          5438          5438                                    5438   \n",
       "unique         5438             4                                      28   \n",
       "top     93022696-01            No  Inapplicable, coded 2 in EverHadCancer   \n",
       "freq              1          4470                                    4459   \n",
       "\n",
       "                                         agedx  \\\n",
       "count                                     5438   \n",
       "unique                                      85   \n",
       "top     Inapplicable, coded 2 in EverHadCancer   \n",
       "freq                                      4449   \n",
       "\n",
       "                                   timesincedx  \\\n",
       "count                                     5438   \n",
       "unique                                       9   \n",
       "top     Inapplicable, coded 2 in EverHadCancer   \n",
       "freq                                      4449   \n",
       "\n",
       "                                   age                             bmi  \\\n",
       "count                             5438                            5438   \n",
       "unique                              82                             364   \n",
       "top     Missing data (Not Ascertained)  Missing Data (Not Ascertained)   \n",
       "freq                               151                             156   \n",
       "\n",
       "       genderc maritalstatus           raceethn5            hhinc  \\\n",
       "count     5438          5438                5438             5438   \n",
       "unique       4             9                   7                7   \n",
       "top     Female       Married  Non-Hispanic White  $75,000 or More   \n",
       "freq      3073          2588                3054             1802   \n",
       "\n",
       "                           educa familyeverhadcancer  \n",
       "count                       5438                5438  \n",
       "unique                         6                   6  \n",
       "top     College Graduate or More                 Yes  \n",
       "freq                        2410                3758  "
      ]
     },
     "execution_count": 7,
     "metadata": {},
     "output_type": "execute_result"
    }
   ],
   "source": [
    "#get the summary statistics of the continuous variables\n",
    "df1.describe()"
   ]
  },
  {
   "cell_type": "code",
   "execution_count": 8,
   "metadata": {},
   "outputs": [
    {
     "data": {
      "text/plain": [
       "personid                 object\n",
       "everhadcancer          category\n",
       "cancer_cat             category\n",
       "agedx                  category\n",
       "timesincedx            category\n",
       "age                    category\n",
       "bmi                    category\n",
       "genderc                category\n",
       "maritalstatus          category\n",
       "raceethn5              category\n",
       "hhinc                  category\n",
       "educa                  category\n",
       "familyeverhadcancer    category\n",
       "dtype: object"
      ]
     },
     "execution_count": 8,
     "metadata": {},
     "output_type": "execute_result"
    }
   ],
   "source": [
    "#checking the types of data in df1\n",
    "df1.dtypes"
   ]
  },
  {
   "cell_type": "markdown",
   "metadata": {},
   "source": [
    "##### Variables in df1 with discrepancies in dtypes  \n",
    "'age','bmi'"
   ]
  },
  {
   "cell_type": "code",
   "execution_count": 9,
   "metadata": {},
   "outputs": [
    {
     "data": {
      "text/plain": [
       "[71, 47, Missing data (Not Ascertained), 65, 45, ..., 18, Unreadable or Non-conforming numeric response, 98, 94, 95]\n",
       "Length: 82\n",
       "Categories (82, object): [Missing data (Not Ascertained) < Unreadable or Non-conforming numeric response < 18 < 19 ... 94 < 95 < 97 < 98]"
      ]
     },
     "execution_count": 9,
     "metadata": {},
     "output_type": "execute_result"
    }
   ],
   "source": [
    "#check the unique values in 'age'\n",
    "df1['age'].unique()"
   ]
  },
  {
   "cell_type": "markdown",
   "metadata": {},
   "source": [
    "#### 2.2 Clean missing and invalid values in 'age'"
   ]
  },
  {
   "cell_type": "code",
   "execution_count": 10,
   "metadata": {},
   "outputs": [
    {
     "name": "stderr",
     "output_type": "stream",
     "text": [
      "/Applications/anaconda3/lib/python3.7/site-packages/pandas/core/generic.py:6786: SettingWithCopyWarning: \n",
      "A value is trying to be set on a copy of a slice from a DataFrame\n",
      "\n",
      "See the caveats in the documentation: http://pandas.pydata.org/pandas-docs/stable/user_guide/indexing.html#returning-a-view-versus-a-copy\n",
      "  self._update_inplace(new_data)\n"
     ]
    }
   ],
   "source": [
    "#replace missing and invalid values with null values - ‘NaN’\n",
    "df1['age'].replace({\n",
    "    'Missing data (Not Ascertained)': np.nan, \n",
    "    'Unreadable or Non-conforming numeric response': np.nan}, \n",
    "    inplace=True)"
   ]
  },
  {
   "cell_type": "code",
   "execution_count": 11,
   "metadata": {},
   "outputs": [
    {
     "data": {
      "text/plain": [
       "array([71., 47., nan, 65., 45., 70., 53., 80., 23., 89., 68., 93., 63.,\n",
       "       55., 61., 75., 60., 44., 72., 50., 37., 62., 91., 73., 48., 69.,\n",
       "       28., 24., 86., 52., 78., 57., 39., 38., 30., 33., 43., 29., 67.,\n",
       "       34., 42., 81., 74., 87., 84., 54., 76., 51., 58., 59., 64., 27.,\n",
       "       77., 25., 41., 82., 56., 32., 83., 85., 35., 90., 26., 19., 36.,\n",
       "       22., 92., 40., 66., 31., 49., 88., 79., 46., 21., 20., 97., 18.,\n",
       "       98., 94., 95.])"
      ]
     },
     "execution_count": 11,
     "metadata": {},
     "output_type": "execute_result"
    }
   ],
   "source": [
    "#check the unique values in 'age'\n",
    "df1['age'].unique()"
   ]
  },
  {
   "cell_type": "code",
   "execution_count": 12,
   "metadata": {},
   "outputs": [
    {
     "data": {
      "text/plain": [
       "154"
      ]
     },
     "execution_count": 12,
     "metadata": {},
     "output_type": "execute_result"
    }
   ],
   "source": [
    "#confirm null values in 'age'\n",
    "df1['age'].isnull().sum()"
   ]
  },
  {
   "cell_type": "code",
   "execution_count": 13,
   "metadata": {},
   "outputs": [
    {
     "name": "stderr",
     "output_type": "stream",
     "text": [
      "/Applications/anaconda3/lib/python3.7/site-packages/ipykernel_launcher.py:2: SettingWithCopyWarning: \n",
      "A value is trying to be set on a copy of a slice from a DataFrame.\n",
      "Try using .loc[row_indexer,col_indexer] = value instead\n",
      "\n",
      "See the caveats in the documentation: http://pandas.pydata.org/pandas-docs/stable/user_guide/indexing.html#returning-a-view-versus-a-copy\n",
      "  \n"
     ]
    }
   ],
   "source": [
    "#change the data-type for 'age' to 'float'\n",
    "df1['age'] = df1['age'].astype('float')"
   ]
  },
  {
   "cell_type": "code",
   "execution_count": 14,
   "metadata": {},
   "outputs": [
    {
     "name": "stderr",
     "output_type": "stream",
     "text": [
      "/Applications/anaconda3/lib/python3.7/site-packages/pandas/core/generic.py:6287: SettingWithCopyWarning: \n",
      "A value is trying to be set on a copy of a slice from a DataFrame\n",
      "\n",
      "See the caveats in the documentation: http://pandas.pydata.org/pandas-docs/stable/user_guide/indexing.html#returning-a-view-versus-a-copy\n",
      "  self._update_inplace(new_data)\n"
     ]
    }
   ],
   "source": [
    "#replace null values by mean age\n",
    "df1['age'].fillna(df1['age'].mean(), inplace=True)"
   ]
  },
  {
   "cell_type": "code",
   "execution_count": 15,
   "metadata": {},
   "outputs": [
    {
     "data": {
      "text/plain": [
       "0"
      ]
     },
     "execution_count": 15,
     "metadata": {},
     "output_type": "execute_result"
    }
   ],
   "source": [
    "#check if the null values are replaced\n",
    "df1['age'].isnull().sum()"
   ]
  },
  {
   "cell_type": "code",
   "execution_count": 16,
   "metadata": {},
   "outputs": [
    {
     "data": {
      "text/plain": [
       "count    5438.000000\n",
       "mean       56.930167\n",
       "std        16.653824\n",
       "min        18.000000\n",
       "25%        45.000000\n",
       "50%        58.000000\n",
       "75%        69.000000\n",
       "max        98.000000\n",
       "Name: age, dtype: float64"
      ]
     },
     "execution_count": 16,
     "metadata": {},
     "output_type": "execute_result"
    }
   ],
   "source": [
    "df1['age'].describe()"
   ]
  },
  {
   "cell_type": "markdown",
   "metadata": {},
   "source": [
    "#### 2.3 Repeat the same steps to clean missing variables in 'bmi'"
   ]
  },
  {
   "cell_type": "code",
   "execution_count": 17,
   "metadata": {},
   "outputs": [
    {
     "data": {
      "text/plain": [
       "[26.3, 28.3, 37.1, 21.6, 28.8, ..., 48.5, 50.5, 17.6, 46.8, 54.2]\n",
       "Length: 364\n",
       "Categories (364, object): [Missing Data (Not Ascertained) < Missing data (Web partial - Question Never Seen) < Unreadable or Nonconforming Numeric Response < 9.4 ... 61.8 < 62.9 < 65.1 < 67.5]"
      ]
     },
     "execution_count": 17,
     "metadata": {},
     "output_type": "execute_result"
    }
   ],
   "source": [
    "df1['bmi'].unique()"
   ]
  },
  {
   "cell_type": "code",
   "execution_count": 18,
   "metadata": {},
   "outputs": [],
   "source": [
    "df1['bmi'].replace({\n",
    "    'Missing Data (Not Ascertained)': np.nan,\n",
    "    'Unreadable or Nonconforming Numeric Response': np.nan,\n",
    "    'Missing data (Web partial - Question Never Seen)': np.nan}, \n",
    "    inplace=True)"
   ]
  },
  {
   "cell_type": "code",
   "execution_count": 19,
   "metadata": {},
   "outputs": [
    {
     "data": {
      "text/plain": [
       "array([26.3, 28.3, 37.1, 21.6, 28.8, 40.3, 26.6, 30.2,  nan, 38.6, 25.7,\n",
       "       26.1, 34.7, 34.3, 28.9, 31.1, 31. , 24.5, 33.3, 29. , 34.1, 20.8,\n",
       "       25.2, 24.7, 28.2, 30.4, 25.1, 27.4, 38.1, 29.1, 25. , 22.1, 31.8,\n",
       "       23.6, 35.8, 28. , 24.3, 38. , 26.8, 17.5, 29.7, 36.3, 27.1, 23.5,\n",
       "       44.3, 20.5, 23.9, 27.6, 27.9, 26.5, 25.8, 32.9, 31.2, 32.4, 31.6,\n",
       "       27.5, 21.3, 27. , 46.3, 20. , 21.1, 33.9, 36.4, 44. , 30. , 33.4,\n",
       "       19.8, 42.6, 23.8, 48. , 19.2, 21.2, 39.2, 29.6, 24.9, 41.4, 50.3,\n",
       "       24.8, 32.3, 21.9, 35.2, 27.8, 31.9, 20.1, 22.6, 33.6, 45.9, 31.3,\n",
       "       23.3, 22.7, 10.6, 22.8, 30.8, 28.1, 31.7, 33.7, 24.2, 59.9, 32.8,\n",
       "       34.5, 43. , 43.9, 23. , 24.1, 33.2, 26.9, 38.5, 30.9, 27.3, 22.5,\n",
       "       19.4, 25.6, 27.2, 23.7, 23.2, 39.8, 18.8, 20.4, 27.7, 35.7, 17.8,\n",
       "       29.3, 24. , 19.6, 34.8, 30.1, 23.1, 20.9, 22.3, 43.7, 19.3, 24.4,\n",
       "       36.5, 22. , 14.9, 19.7, 29.2, 37.7, 35.9, 45.6, 36.9, 35.5, 42.1,\n",
       "       26.4, 40.2, 30.5, 21. , 18.6, 36. , 44.8, 35. , 22.9, 17.2, 21.8,\n",
       "       29.8, 34.6, 18.3, 38.4, 34. , 43.2, 39.5, 40.7, 32.7, 41.1, 28.6,\n",
       "       20.6, 37.4, 38.7, 36.6, 18.4, 34.4, 42.3, 41.7, 30.3, 37.9, 25.3,\n",
       "       43.5, 16.1, 29.4, 28.5, 39.3, 32.6, 24.6, 26.2, 46.9, 47.3, 37.8,\n",
       "       25.5, 25.4, 18. , 37.3, 21.4, 29.5, 32.1, 39. , 46. , 19.5, 40.6,\n",
       "       20.3, 53.2, 18.9, 18.1, 58.6, 20.2, 32. , 31.4, 21.7, 39.7, 20.7,\n",
       "       33.1, 52. , 23.4, 21.5, 28.4, 26. , 22.4, 30.7, 17.9, 35.4, 47.6,\n",
       "       53. , 32.5, 19.9, 53.4, 28.7, 31.5, 32.2, 41.5, 35.3, 34.2, 29.9,\n",
       "       37.6, 39.1, 42.9, 37.2, 43.3, 45.7, 22.2, 35.6, 42.4, 44.9, 38.3,\n",
       "       35.1, 19.1, 43.6, 16.8, 41.2, 19. , 38.8, 43.8, 36.8, 44.6, 34.9,\n",
       "       41.3, 17.3, 41.6, 40.1, 39.9, 33.5, 36.2, 45.5, 51.7, 33. , 18.2,\n",
       "       15.4, 42. , 39.4, 16.5, 36.7, 25.9, 52.5, 41.8, 48.1, 33.8, 67.5,\n",
       "       51.2, 52.7, 47.9, 53.7, 43.4, 45. , 50.8, 54.8, 16. , 48.4, 51.4,\n",
       "       41.9, 52.1, 46.6, 30.6, 26.7, 17.7, 18.7, 49.6, 47.4, 18.5, 54.1,\n",
       "       15.7, 46.2, 40.9, 42.8, 37. , 45.2, 50.1, 49.1, 15.2, 16.6,  9.4,\n",
       "       50. , 40.8, 60.7, 61.8, 44.4, 48.8, 16.4, 39.6, 47.5, 50.9, 61.1,\n",
       "       53.6, 44.1, 42.2, 40.4, 57.2, 53.3, 43.1, 17. , 16.9, 45.3, 40. ,\n",
       "       45.4, 62.9, 38.9, 54.7, 65.1, 42.5, 46.5, 47.2, 61.3, 41. , 42.7,\n",
       "       56.7, 56.8, 15.6, 49.3, 61.6, 45.8, 50.4, 15.1, 52.4, 17.4, 57.9,\n",
       "       48.3, 16.3, 44.5, 52.6, 47.8, 48.5, 50.5, 17.6, 46.8, 54.2])"
      ]
     },
     "execution_count": 19,
     "metadata": {},
     "output_type": "execute_result"
    }
   ],
   "source": [
    "df1['bmi'].unique()"
   ]
  },
  {
   "cell_type": "code",
   "execution_count": 20,
   "metadata": {},
   "outputs": [
    {
     "name": "stderr",
     "output_type": "stream",
     "text": [
      "/Applications/anaconda3/lib/python3.7/site-packages/ipykernel_launcher.py:1: SettingWithCopyWarning: \n",
      "A value is trying to be set on a copy of a slice from a DataFrame.\n",
      "Try using .loc[row_indexer,col_indexer] = value instead\n",
      "\n",
      "See the caveats in the documentation: http://pandas.pydata.org/pandas-docs/stable/user_guide/indexing.html#returning-a-view-versus-a-copy\n",
      "  \"\"\"Entry point for launching an IPython kernel.\n"
     ]
    }
   ],
   "source": [
    "df1['bmi'] = df1['bmi'].astype('float')"
   ]
  },
  {
   "cell_type": "code",
   "execution_count": 21,
   "metadata": {},
   "outputs": [
    {
     "data": {
      "text/plain": [
       "182"
      ]
     },
     "execution_count": 21,
     "metadata": {},
     "output_type": "execute_result"
    }
   ],
   "source": [
    "df1['bmi'].isnull().sum()"
   ]
  },
  {
   "cell_type": "code",
   "execution_count": 22,
   "metadata": {},
   "outputs": [],
   "source": [
    "df1['bmi'].fillna(df1['bmi'].mean(), inplace=True)"
   ]
  },
  {
   "cell_type": "code",
   "execution_count": 23,
   "metadata": {},
   "outputs": [
    {
     "data": {
      "text/plain": [
       "0"
      ]
     },
     "execution_count": 23,
     "metadata": {},
     "output_type": "execute_result"
    }
   ],
   "source": [
    "df1['bmi'].isnull().sum()"
   ]
  },
  {
   "cell_type": "code",
   "execution_count": 24,
   "metadata": {},
   "outputs": [
    {
     "data": {
      "text/plain": [
       "count    5438.000000\n",
       "mean       28.477778\n",
       "std         6.382929\n",
       "min         9.400000\n",
       "25%        24.100000\n",
       "50%        27.400000\n",
       "75%        31.500000\n",
       "max        67.500000\n",
       "Name: bmi, dtype: float64"
      ]
     },
     "execution_count": 24,
     "metadata": {},
     "output_type": "execute_result"
    }
   ],
   "source": [
    "df1['bmi'].describe()"
   ]
  },
  {
   "cell_type": "markdown",
   "metadata": {},
   "source": [
    "#### 2.4 Check and clean the target variable - 'everhadcancer'"
   ]
  },
  {
   "cell_type": "code",
   "execution_count": 25,
   "metadata": {},
   "outputs": [
    {
     "data": {
      "text/plain": [
       "No                                                  4470\n",
       "Yes                                                  856\n",
       "Missing data (Not Ascertained)                        72\n",
       "Missing data (Web partial - Question Never Seen)      40\n",
       "Name: everhadcancer, dtype: int64"
      ]
     },
     "execution_count": 25,
     "metadata": {},
     "output_type": "execute_result"
    }
   ],
   "source": [
    "#check and count values for 'everhadcancer'\n",
    "#it is also the target variable for 'analysis 1'\n",
    "df1['everhadcancer'].value_counts()"
   ]
  },
  {
   "cell_type": "markdown",
   "metadata": {},
   "source": [
    "##### Drop missing values"
   ]
  },
  {
   "cell_type": "code",
   "execution_count": 26,
   "metadata": {},
   "outputs": [],
   "source": [
    "df1a = df1.drop(df1[(df1.everhadcancer == 'Missing data (Not Ascertained)')].index)"
   ]
  },
  {
   "cell_type": "code",
   "execution_count": 27,
   "metadata": {},
   "outputs": [],
   "source": [
    "df1b = df1a.drop(df1a[(df1a.everhadcancer == 'Missing data (Web partial - Question Never Seen)')].index)"
   ]
  },
  {
   "cell_type": "code",
   "execution_count": 28,
   "metadata": {},
   "outputs": [
    {
     "data": {
      "text/plain": [
       "No                                                  4470\n",
       "Yes                                                  856\n",
       "Missing data (Web partial - Question Never Seen)       0\n",
       "Missing data (Not Ascertained)                         0\n",
       "Name: everhadcancer, dtype: int64"
      ]
     },
     "execution_count": 28,
     "metadata": {},
     "output_type": "execute_result"
    }
   ],
   "source": [
    "#check and count values in new dataset 'df1b'\n",
    "df1b['everhadcancer'].value_counts()"
   ]
  },
  {
   "cell_type": "code",
   "execution_count": 29,
   "metadata": {},
   "outputs": [
    {
     "data": {
      "text/plain": [
       "5326"
      ]
     },
     "execution_count": 29,
     "metadata": {},
     "output_type": "execute_result"
    }
   ],
   "source": [
    "total_valid_observations = 4470 + 856\n",
    "total_valid_observations"
   ]
  },
  {
   "cell_type": "markdown",
   "metadata": {},
   "source": [
    "#### 2.5 Identify and clean outliers in 'age' and 'bmi'"
   ]
  },
  {
   "cell_type": "markdown",
   "metadata": {},
   "source": [
    "##### Import libraries for data visualization and analysis"
   ]
  },
  {
   "cell_type": "code",
   "execution_count": 30,
   "metadata": {},
   "outputs": [],
   "source": [
    "import sklearn\n",
    "import matplotlib.pyplot as plt\n",
    "import seaborn as sns\n",
    "\n",
    "%matplotlib inline"
   ]
  },
  {
   "cell_type": "code",
   "execution_count": 31,
   "metadata": {},
   "outputs": [
    {
     "data": {
      "text/html": [
       "<div>\n",
       "<style scoped>\n",
       "    .dataframe tbody tr th:only-of-type {\n",
       "        vertical-align: middle;\n",
       "    }\n",
       "\n",
       "    .dataframe tbody tr th {\n",
       "        vertical-align: top;\n",
       "    }\n",
       "\n",
       "    .dataframe thead th {\n",
       "        text-align: right;\n",
       "    }\n",
       "</style>\n",
       "<table border=\"1\" class=\"dataframe\">\n",
       "  <thead>\n",
       "    <tr style=\"text-align: right;\">\n",
       "      <th></th>\n",
       "      <th>everhadcancer</th>\n",
       "      <th>age</th>\n",
       "      <th>bmi</th>\n",
       "    </tr>\n",
       "  </thead>\n",
       "  <tbody>\n",
       "    <tr>\n",
       "      <td>0</td>\n",
       "      <td>No</td>\n",
       "      <td>71.0</td>\n",
       "      <td>26.3</td>\n",
       "    </tr>\n",
       "    <tr>\n",
       "      <td>1</td>\n",
       "      <td>No</td>\n",
       "      <td>47.0</td>\n",
       "      <td>28.3</td>\n",
       "    </tr>\n",
       "  </tbody>\n",
       "</table>\n",
       "</div>"
      ],
      "text/plain": [
       "  everhadcancer   age   bmi\n",
       "0            No  71.0  26.3\n",
       "1            No  47.0  28.3"
      ]
     },
     "execution_count": 31,
     "metadata": {},
     "output_type": "execute_result"
    }
   ],
   "source": [
    "#create dataset 'vis_df1b' with 'everhadcancer','age', and 'bmi'\n",
    "vis_df1b = df1b[['everhadcancer','age','bmi']]\n",
    "vis_df1b.head(2)"
   ]
  },
  {
   "cell_type": "code",
   "execution_count": 32,
   "metadata": {
    "scrolled": false
   },
   "outputs": [
    {
     "data": {
      "text/plain": [
       "<matplotlib.axes._subplots.AxesSubplot at 0x1a1d2c9dd0>"
      ]
     },
     "execution_count": 32,
     "metadata": {},
     "output_type": "execute_result"
    },
    {
     "data": {
      "image/png": "[encoded data removed]",
      "text/plain": [
       "<Figure size 720x432 with 1 Axes>"
      ]
     },
     "metadata": {
      "needs_background": "light"
     },
     "output_type": "display_data"
    }
   ],
   "source": [
    "#assign size of plot\n",
    "plt.subplots(figsize=(10,6))\n",
    "\n",
    "#create a histogram of the distribution of age\n",
    "sns.distplot(df1b['age'])"
   ]
  },
  {
   "cell_type": "code",
   "execution_count": 33,
   "metadata": {},
   "outputs": [
    {
     "data": {
      "text/plain": [
       "<matplotlib.axes._subplots.AxesSubplot at 0x1a1d5363d0>"
      ]
     },
     "execution_count": 33,
     "metadata": {},
     "output_type": "execute_result"
    },
    {
     "data": {
      "image/png": "[encoded data removed]",
      "text/plain": [
       "<Figure size 720x432 with 1 Axes>"
      ]
     },
     "metadata": {
      "needs_background": "light"
     },
     "output_type": "display_data"
    }
   ],
   "source": [
    "#assign size of plot\n",
    "plt.subplots(figsize=(10,6))\n",
    "\n",
    "#create a histogram of the distribution of bmi\n",
    "sns.distplot(df1b['bmi'])"
   ]
  },
  {
   "cell_type": "code",
   "execution_count": 34,
   "metadata": {},
   "outputs": [
    {
     "data": {
      "text/plain": [
       "<matplotlib.axes._subplots.AxesSubplot at 0x1a1d76bc90>"
      ]
     },
     "execution_count": 34,
     "metadata": {},
     "output_type": "execute_result"
    },
    {
     "data": {
      "image/png": "[encoded data removed]",
      "text/plain": [
       "<Figure size 216x864 with 1 Axes>"
      ]
     },
     "metadata": {
      "needs_background": "light"
     },
     "output_type": "display_data"
    }
   ],
   "source": [
    "#assign size of plot\n",
    "plt.subplots(figsize=(3,12))\n",
    "\n",
    "#boxplot showing stats for age and bmi\n",
    "sns.boxplot(data=vis_df1b)"
   ]
  },
  {
   "cell_type": "markdown",
   "metadata": {},
   "source": [
    "###### Observation: the boxplot shows that the median for 'age' is near 60, while for 'bmi' it is near 30. The 'bmi' also has outliers - two below the first interquartile value and several above the thrid inter-quartile value."
   ]
  },
  {
   "cell_type": "code",
   "execution_count": 35,
   "metadata": {},
   "outputs": [
    {
     "data": {
      "text/html": [
       "<div>\n",
       "<style scoped>\n",
       "    .dataframe tbody tr th:only-of-type {\n",
       "        vertical-align: middle;\n",
       "    }\n",
       "\n",
       "    .dataframe tbody tr th {\n",
       "        vertical-align: top;\n",
       "    }\n",
       "\n",
       "    .dataframe thead th {\n",
       "        text-align: right;\n",
       "    }\n",
       "</style>\n",
       "<table border=\"1\" class=\"dataframe\">\n",
       "  <thead>\n",
       "    <tr style=\"text-align: right;\">\n",
       "      <th></th>\n",
       "      <th>bmi</th>\n",
       "    </tr>\n",
       "  </thead>\n",
       "  <tbody>\n",
       "    <tr>\n",
       "      <td>0</td>\n",
       "      <td>26.3</td>\n",
       "    </tr>\n",
       "    <tr>\n",
       "      <td>1</td>\n",
       "      <td>28.3</td>\n",
       "    </tr>\n",
       "  </tbody>\n",
       "</table>\n",
       "</div>"
      ],
      "text/plain": [
       "    bmi\n",
       "0  26.3\n",
       "1  28.3"
      ]
     },
     "execution_count": 35,
     "metadata": {},
     "output_type": "execute_result"
    }
   ],
   "source": [
    "#generate a dataset for bmi\n",
    "bmi_df1b = df1b[['bmi']]\n",
    "bmi_df1b.head(2)"
   ]
  },
  {
   "cell_type": "markdown",
   "metadata": {},
   "source": [
    "##### Remove outliers in 'bmi'"
   ]
  },
  {
   "cell_type": "code",
   "execution_count": 36,
   "metadata": {},
   "outputs": [],
   "source": [
    "#Using Interquartile Range (IQR) Method to locate and remove outliers in bmi\n",
    "\n",
    "q1 = vis_df1b['bmi'].quantile(.25)\n",
    "q3 = vis_df1b['bmi'].quantile(.75)\n",
    "iqr = q3-q1\n",
    "\n",
    "toprange = q3 + iqr * 1.5\n",
    "botrange = q1 - iqr * 1.5"
   ]
  },
  {
   "cell_type": "code",
   "execution_count": 37,
   "metadata": {},
   "outputs": [
    {
     "data": {
      "text/plain": [
       "42.85"
      ]
     },
     "execution_count": 37,
     "metadata": {},
     "output_type": "execute_result"
    }
   ],
   "source": [
    "toprange"
   ]
  },
  {
   "cell_type": "code",
   "execution_count": 38,
   "metadata": {},
   "outputs": [
    {
     "data": {
      "text/plain": [
       "12.850000000000001"
      ]
     },
     "execution_count": 38,
     "metadata": {},
     "output_type": "execute_result"
    }
   ],
   "source": [
    "botrange"
   ]
  },
  {
   "cell_type": "code",
   "execution_count": 39,
   "metadata": {},
   "outputs": [
    {
     "name": "stdout",
     "output_type": "stream",
     "text": [
      "2\n"
     ]
    }
   ],
   "source": [
    "#get a bool series representing rows satisfying the condition i.e. True for 'bmi' < 30\n",
    "bmi_br = bmi_df1b.apply(lambda x: True if x['bmi'] < 12.85 else False , axis=1)\n",
    " \n",
    "#count number of True in the series\n",
    "NumOfRows = len(bmi_br[bmi_br == True].index)\n",
    " \n",
    "print(NumOfRows)"
   ]
  },
  {
   "cell_type": "code",
   "execution_count": 40,
   "metadata": {},
   "outputs": [
    {
     "name": "stdout",
     "output_type": "stream",
     "text": [
      "193\n"
     ]
    }
   ],
   "source": [
    "#get a bool series representing rows satisfying the condition i.e. True for 'bmi' > 42.85\n",
    "bmi_tr = bmi_df1b.apply(lambda y: True if y['bmi'] > 42.85 else False , axis=1)\n",
    " \n",
    "#count number of True in the series\n",
    "NumOfRows01 = len(bmi_tr[bmi_tr == True].index)\n",
    " \n",
    "print(NumOfRows01)"
   ]
  },
  {
   "cell_type": "code",
   "execution_count": 41,
   "metadata": {},
   "outputs": [
    {
     "data": {
      "text/plain": [
       "195"
      ]
     },
     "execution_count": 41,
     "metadata": {},
     "output_type": "execute_result"
    }
   ],
   "source": [
    "outliers_bmi_count = NumOfRows + NumOfRows01\n",
    "outliers_bmi_count"
   ]
  },
  {
   "cell_type": "code",
   "execution_count": 42,
   "metadata": {},
   "outputs": [
    {
     "data": {
      "text/html": [
       "<div>\n",
       "<style scoped>\n",
       "    .dataframe tbody tr th:only-of-type {\n",
       "        vertical-align: middle;\n",
       "    }\n",
       "\n",
       "    .dataframe tbody tr th {\n",
       "        vertical-align: top;\n",
       "    }\n",
       "\n",
       "    .dataframe thead th {\n",
       "        text-align: right;\n",
       "    }\n",
       "</style>\n",
       "<table border=\"1\" class=\"dataframe\">\n",
       "  <thead>\n",
       "    <tr style=\"text-align: right;\">\n",
       "      <th></th>\n",
       "      <th>everhadcancer</th>\n",
       "      <th>age</th>\n",
       "      <th>bmi</th>\n",
       "    </tr>\n",
       "  </thead>\n",
       "  <tbody>\n",
       "    <tr>\n",
       "      <td>0</td>\n",
       "      <td>No</td>\n",
       "      <td>71.0</td>\n",
       "      <td>26.3</td>\n",
       "    </tr>\n",
       "    <tr>\n",
       "      <td>1</td>\n",
       "      <td>No</td>\n",
       "      <td>47.0</td>\n",
       "      <td>28.3</td>\n",
       "    </tr>\n",
       "  </tbody>\n",
       "</table>\n",
       "</div>"
      ],
      "text/plain": [
       "  everhadcancer   age   bmi\n",
       "0            No  71.0  26.3\n",
       "1            No  47.0  28.3"
      ]
     },
     "execution_count": 42,
     "metadata": {},
     "output_type": "execute_result"
    }
   ],
   "source": [
    "new_vis_df1b = vis_df1b.copy()\n",
    "new_vis_df1b = new_vis_df1b.drop(new_vis_df1b[new_vis_df1b['bmi'] > toprange].index)\n",
    "new_vis_df1b = new_vis_df1b.drop(new_vis_df1b[new_vis_df1b['bmi'] < botrange].index)\n",
    "\n",
    "new_vis_df1b.head(2)"
   ]
  },
  {
   "cell_type": "code",
   "execution_count": 43,
   "metadata": {},
   "outputs": [
    {
     "data": {
      "text/plain": [
       "(5131, 3)"
      ]
     },
     "execution_count": 43,
     "metadata": {},
     "output_type": "execute_result"
    }
   ],
   "source": [
    "new_vis_df1b.shape"
   ]
  },
  {
   "cell_type": "code",
   "execution_count": 44,
   "metadata": {},
   "outputs": [
    {
     "data": {
      "text/plain": [
       "[Text(0.5, 0, 'BMI')]"
      ]
     },
     "execution_count": 44,
     "metadata": {},
     "output_type": "execute_result"
    },
    {
     "data": {
      "image/png": "[encoded data removed]",
      "text/plain": [
       "<Figure size 720x432 with 1 Axes>"
      ]
     },
     "metadata": {
      "needs_background": "light"
     },
     "output_type": "display_data"
    }
   ],
   "source": [
    "#plot bmi by cancer status after removing outliers\n",
    "plt.figure(figsize=(10,6))\n",
    "\n",
    "ax = sns.kdeplot(new_vis_df1b['bmi'][new_vis_df1b['everhadcancer'] == 'Yes'],\n",
    "                 color=\"darkturquoise\",\n",
    "                 shade=True)\n",
    "\n",
    "sns.kdeplot(new_vis_df1b['bmi'][new_vis_df1b['everhadcancer'] == 'No'],\n",
    "            color=\"lightcoral\",\n",
    "            shade=True)\n",
    "\n",
    "plt.legend (['Yes', 'No'])\n",
    "plt.title(\"Density Plot of BMI for Ever Had Cancer (Yes/No) - after removing outliers\")\n",
    "\n",
    "ax.set(xlabel='BMI')"
   ]
  },
  {
   "cell_type": "markdown",
   "metadata": {},
   "source": [
    "##### Observation: the bmi does not seem to have any effect on cancer status, since the areas of the map covered by those having cancer and not  having cancer seem to overlap each other completely."
   ]
  },
  {
   "cell_type": "code",
   "execution_count": 45,
   "metadata": {},
   "outputs": [
    {
     "data": {
      "text/plain": [
       "[Text(0.5, 0, 'Age')]"
      ]
     },
     "execution_count": 45,
     "metadata": {},
     "output_type": "execute_result"
    },
    {
     "data": {
      "image/png": "[encoded data removed]",
      "text/plain": [
       "<Figure size 720x432 with 1 Axes>"
      ]
     },
     "metadata": {
      "needs_background": "light"
     },
     "output_type": "display_data"
    }
   ],
   "source": [
    "#plot age by cancer status\n",
    "plt.figure(figsize=(10,6))\n",
    "\n",
    "ax = sns.kdeplot(vis_df1b['age'][vis_df1b['everhadcancer'] == 'Yes'],\n",
    "                 color=\"darkturquoise\",\n",
    "                 shade=True)\n",
    "\n",
    "sns.kdeplot(vis_df1b['age'][vis_df1b['everhadcancer'] == 'No'],\n",
    "            color=\"lightcoral\",\n",
    "            shade=True)\n",
    "\n",
    "plt.legend (['Yes', 'No'])\n",
    "plt.title(\"Density Plot of Age for Cancer Status\")\n",
    "\n",
    "ax.set(xlabel='Age')"
   ]
  },
  {
   "cell_type": "markdown",
   "metadata": {},
   "source": [
    "##### Observation: age seems to have influence on the cancer status. More adults who have cancer seem to be of higher age than those not having cancer."
   ]
  },
  {
   "cell_type": "markdown",
   "metadata": {},
   "source": [
    "### 3. Explore and analyze categorical variables"
   ]
  },
  {
   "cell_type": "code",
   "execution_count": 46,
   "metadata": {},
   "outputs": [
    {
     "data": {
      "text/plain": [
       "Index(['personid', 'everhadcancer', 'cancer_cat', 'agedx', 'timesincedx',\n",
       "       'age', 'bmi', 'genderc', 'maritalstatus', 'raceethn5', 'hhinc', 'educa',\n",
       "       'familyeverhadcancer'],\n",
       "      dtype='object')"
      ]
     },
     "execution_count": 46,
     "metadata": {},
     "output_type": "execute_result"
    }
   ],
   "source": [
    "#retrieve the list of columns to work on categorical variables\n",
    "df1b.columns"
   ]
  },
  {
   "cell_type": "markdown",
   "metadata": {},
   "source": [
    "#### [a] Types of cancer ['cancer_cat']"
   ]
  },
  {
   "cell_type": "code",
   "execution_count": 47,
   "metadata": {},
   "outputs": [
    {
     "data": {
      "text/plain": [
       "Inapplicable, coded 2 in EverHadCancer              4459\n",
       "Skin cancer only                                     200\n",
       "More than one cancer checked                         161\n",
       "Breast cancer only                                   116\n",
       "Prostate cancer only                                  82\n",
       "Melanoma only                                         41\n",
       "Other cancer only                                     37\n",
       "Cervical cancer only                                  37\n",
       "Colon cancer only                                     31\n",
       "Endometrial cancer only                               19\n",
       "Renal cancer only                                     19\n",
       "Lung cancer only                                      18\n",
       "Non-Hodgkins only                                     17\n",
       "Bladder cancer only                                   17\n",
       "Leukemia only                                         14\n",
       "Ovarian cancer only                                   12\n",
       "Question answered in error (Commission Error)         11\n",
       "Missing data (Not Ascertained)                        10\n",
       "Head/Neck cancer only                                  6\n",
       "Liver cancer only                                      4\n",
       "Bone cancer only                                       4\n",
       "Rectal cancer only                                     4\n",
       "Hodgkins only                                          3\n",
       "Oral cancer only                                       2\n",
       "Pharyngeal cancer only                                 1\n",
       "Pancreatic cancer only                                 1\n",
       "Missing data (Filter Missing)                          0\n",
       "Missing data (Web partial - Question Never Seen)       0\n",
       "Name: cancer_cat, dtype: int64"
      ]
     },
     "execution_count": 47,
     "metadata": {},
     "output_type": "execute_result"
    }
   ],
   "source": [
    "#check and count values in 'cancer_cat'\n",
    "df1b['cancer_cat'].value_counts()"
   ]
  },
  {
   "cell_type": "code",
   "execution_count": 48,
   "metadata": {},
   "outputs": [
    {
     "data": {
      "text/plain": [
       "No                                                  4470\n",
       "Yes                                                  856\n",
       "Missing data (Web partial - Question Never Seen)       0\n",
       "Missing data (Not Ascertained)                         0\n",
       "Name: everhadcancer, dtype: int64"
      ]
     },
     "execution_count": 48,
     "metadata": {},
     "output_type": "execute_result"
    }
   ],
   "source": [
    "#verifying total type of cancers with the total cancer cases from 'everhadcancer' column\n",
    "df1b['everhadcancer'].value_counts()"
   ]
  },
  {
   "cell_type": "code",
   "execution_count": 49,
   "metadata": {},
   "outputs": [
    {
     "data": {
      "text/plain": [
       "856"
      ]
     },
     "execution_count": 49,
     "metadata": {},
     "output_type": "execute_result"
    }
   ],
   "source": [
    "#total cancer cases (from 'everhadcancer') = 856\n",
    "#total cancer cases (from 'cancer_cat'):\n",
    "tot_canc_cat = 5326 - (4459 + 11)\n",
    "tot_canc_cat"
   ]
  },
  {
   "cell_type": "code",
   "execution_count": 50,
   "metadata": {},
   "outputs": [
    {
     "data": {
      "text/html": [
       "<div>\n",
       "<style scoped>\n",
       "    .dataframe tbody tr th:only-of-type {\n",
       "        vertical-align: middle;\n",
       "    }\n",
       "\n",
       "    .dataframe tbody tr th {\n",
       "        vertical-align: top;\n",
       "    }\n",
       "\n",
       "    .dataframe thead th {\n",
       "        text-align: right;\n",
       "    }\n",
       "</style>\n",
       "<table border=\"1\" class=\"dataframe\">\n",
       "  <thead>\n",
       "    <tr style=\"text-align: right;\">\n",
       "      <th></th>\n",
       "      <th>everhadcancer</th>\n",
       "      <th>cancer_cat</th>\n",
       "    </tr>\n",
       "  </thead>\n",
       "  <tbody>\n",
       "    <tr>\n",
       "      <td>0</td>\n",
       "      <td>No</td>\n",
       "      <td>Inapplicable, coded 2 in EverHadCancer</td>\n",
       "    </tr>\n",
       "    <tr>\n",
       "      <td>1</td>\n",
       "      <td>No</td>\n",
       "      <td>Inapplicable, coded 2 in EverHadCancer</td>\n",
       "    </tr>\n",
       "  </tbody>\n",
       "</table>\n",
       "</div>"
      ],
      "text/plain": [
       "  everhadcancer                              cancer_cat\n",
       "0            No  Inapplicable, coded 2 in EverHadCancer\n",
       "1            No  Inapplicable, coded 2 in EverHadCancer"
      ]
     },
     "execution_count": 50,
     "metadata": {},
     "output_type": "execute_result"
    }
   ],
   "source": [
    "#creating a dataset for everhadcancer and cancer_cat\n",
    "cd_cc = df1b[['everhadcancer','cancer_cat']]\n",
    "cd_cc.head(2)"
   ]
  },
  {
   "cell_type": "code",
   "execution_count": 51,
   "metadata": {},
   "outputs": [
    {
     "data": {
      "text/plain": [
       "Inapplicable, coded 2 in EverHadCancer              4459\n",
       "Skin cancer only                                     200\n",
       "More than one cancer checked                         161\n",
       "Breast cancer only                                   116\n",
       "Prostate cancer only                                  82\n",
       "Melanoma only                                         41\n",
       "Other cancer only                                     37\n",
       "Cervical cancer only                                  37\n",
       "Colon cancer only                                     31\n",
       "Endometrial cancer only                               19\n",
       "Renal cancer only                                     19\n",
       "Lung cancer only                                      18\n",
       "Non-Hodgkins only                                     17\n",
       "Bladder cancer only                                   17\n",
       "Leukemia only                                         14\n",
       "Ovarian cancer only                                   12\n",
       "Question answered in error (Commission Error)         11\n",
       "Missing data (Not Ascertained)                        10\n",
       "Head/Neck cancer only                                  6\n",
       "Liver cancer only                                      4\n",
       "Bone cancer only                                       4\n",
       "Rectal cancer only                                     4\n",
       "Hodgkins only                                          3\n",
       "Oral cancer only                                       2\n",
       "Pharyngeal cancer only                                 1\n",
       "Pancreatic cancer only                                 1\n",
       "Missing data (Filter Missing)                          0\n",
       "Missing data (Web partial - Question Never Seen)       0\n",
       "Name: cancer_cat, dtype: int64"
      ]
     },
     "execution_count": 51,
     "metadata": {},
     "output_type": "execute_result"
    }
   ],
   "source": [
    "cd_cc['cancer_cat'].value_counts()"
   ]
  },
  {
   "cell_type": "code",
   "execution_count": 52,
   "metadata": {},
   "outputs": [
    {
     "name": "stderr",
     "output_type": "stream",
     "text": [
      "/Applications/anaconda3/lib/python3.7/site-packages/pandas/core/frame.py:4223: SettingWithCopyWarning: \n",
      "A value is trying to be set on a copy of a slice from a DataFrame\n",
      "\n",
      "See the caveats in the documentation: http://pandas.pydata.org/pandas-docs/stable/user_guide/indexing.html#returning-a-view-versus-a-copy\n",
      "  return super().rename(**kwargs)\n"
     ]
    },
    {
     "data": {
      "text/html": [
       "<div>\n",
       "<style scoped>\n",
       "    .dataframe tbody tr th:only-of-type {\n",
       "        vertical-align: middle;\n",
       "    }\n",
       "\n",
       "    .dataframe tbody tr th {\n",
       "        vertical-align: top;\n",
       "    }\n",
       "\n",
       "    .dataframe thead th {\n",
       "        text-align: right;\n",
       "    }\n",
       "</style>\n",
       "<table border=\"1\" class=\"dataframe\">\n",
       "  <thead>\n",
       "    <tr style=\"text-align: right;\">\n",
       "      <th></th>\n",
       "      <th>Cancer Status</th>\n",
       "      <th>Cancer Category</th>\n",
       "    </tr>\n",
       "  </thead>\n",
       "  <tbody>\n",
       "    <tr>\n",
       "      <td>0</td>\n",
       "      <td>No</td>\n",
       "      <td>Inapplicable, coded 2 in EverHadCancer</td>\n",
       "    </tr>\n",
       "    <tr>\n",
       "      <td>1</td>\n",
       "      <td>No</td>\n",
       "      <td>Inapplicable, coded 2 in EverHadCancer</td>\n",
       "    </tr>\n",
       "  </tbody>\n",
       "</table>\n",
       "</div>"
      ],
      "text/plain": [
       "  Cancer Status                         Cancer Category\n",
       "0            No  Inapplicable, coded 2 in EverHadCancer\n",
       "1            No  Inapplicable, coded 2 in EverHadCancer"
      ]
     },
     "execution_count": 52,
     "metadata": {},
     "output_type": "execute_result"
    }
   ],
   "source": [
    "#changing the column name for readability\n",
    "cd_cc.rename(columns={\n",
    "    'everhadcancer':'Cancer Status',\n",
    "    'cancer_cat':'Cancer Category'},\n",
    "             inplace = True)\n",
    "\n",
    "cd_cc.head(2)"
   ]
  },
  {
   "cell_type": "code",
   "execution_count": 53,
   "metadata": {},
   "outputs": [
    {
     "name": "stderr",
     "output_type": "stream",
     "text": [
      "/Applications/anaconda3/lib/python3.7/site-packages/pandas/core/generic.py:6786: SettingWithCopyWarning: \n",
      "A value is trying to be set on a copy of a slice from a DataFrame\n",
      "\n",
      "See the caveats in the documentation: http://pandas.pydata.org/pandas-docs/stable/user_guide/indexing.html#returning-a-view-versus-a-copy\n",
      "  self._update_inplace(new_data)\n"
     ]
    }
   ],
   "source": [
    "#dropping missing and invalid values in Cancer Category\n",
    "#first replace these values with null values (nan)\n",
    "cd_cc['Cancer Category'].replace({\n",
    "    'Inapplicable, coded 2 in EverHadCancer': np.nan,\n",
    "    'Question answered in error (Commission Error)': np.nan,\n",
    "    'Missing data (Not Ascertained)': np.nan}, \n",
    "    inplace=True)"
   ]
  },
  {
   "cell_type": "code",
   "execution_count": 54,
   "metadata": {},
   "outputs": [
    {
     "data": {
      "text/plain": [
       "<bound method DataFrame.dropna of      Cancer Status       Cancer Category\n",
       "0               No                   NaN\n",
       "1               No                   NaN\n",
       "3               No                   NaN\n",
       "4               No                   NaN\n",
       "5              Yes  Cervical cancer only\n",
       "...            ...                   ...\n",
       "5433            No                   NaN\n",
       "5434            No                   NaN\n",
       "5435            No                   NaN\n",
       "5436            No                   NaN\n",
       "5437            No                   NaN\n",
       "\n",
       "[5326 rows x 2 columns]>"
      ]
     },
     "execution_count": 54,
     "metadata": {},
     "output_type": "execute_result"
    }
   ],
   "source": [
    "cd_cc.dropna"
   ]
  },
  {
   "cell_type": "code",
   "execution_count": 55,
   "metadata": {},
   "outputs": [
    {
     "data": {
      "text/plain": [
       "(array([  0.,  25.,  50.,  75., 100., 125., 150., 175., 200., 225.]),\n",
       " <a list of 10 Text xticklabel objects>)"
      ]
     },
     "execution_count": 55,
     "metadata": {},
     "output_type": "execute_result"
    },
    {
     "data": {
      "image/png": "[encoded data removed]",
      "text/plain": [
       "<Figure size 1008x864 with 1 Axes>"
      ]
     },
     "metadata": {
      "needs_background": "light"
     },
     "output_type": "display_data"
    }
   ],
   "source": [
    "#assign size of plot\n",
    "plt.subplots(figsize=(14,12))\n",
    "\n",
    "#create a bar plot of Cancer Category frequency\n",
    "sns.countplot(y='Cancer Category',\n",
    "              data=cd_cc)\n",
    "\n",
    "plt.xticks(rotation=0)"
   ]
  },
  {
   "cell_type": "markdown",
   "metadata": {},
   "source": [
    "#### Work on remaining categorical variables\n",
    "\n",
    "##### First, change the column names of df1b for readability"
   ]
  },
  {
   "cell_type": "code",
   "execution_count": 56,
   "metadata": {},
   "outputs": [
    {
     "data": {
      "text/plain": [
       "Index(['personid', 'everhadcancer', 'cancer_cat', 'agedx', 'timesincedx',\n",
       "       'age', 'bmi', 'genderc', 'maritalstatus', 'raceethn5', 'hhinc', 'educa',\n",
       "       'familyeverhadcancer'],\n",
       "      dtype='object')"
      ]
     },
     "execution_count": 56,
     "metadata": {},
     "output_type": "execute_result"
    }
   ],
   "source": [
    "df1b.columns"
   ]
  },
  {
   "cell_type": "code",
   "execution_count": 57,
   "metadata": {},
   "outputs": [],
   "source": [
    "df1b.rename(columns={\n",
    "    'personid':'Person ID',\n",
    "    'everhadcancer':'Cancer Status', \n",
    "    'cancer_cat':'Type of Cancer', \n",
    "    'agedx':'Age of Diagnosis', \n",
    "    'timesincedx': 'Time since Diagnosis',\n",
    "    'age':'Age', \n",
    "    'bmi':'BMI', \n",
    "    'genderc':'Gender', \n",
    "    'maritalstatus':'Marital Status', \n",
    "    'raceethn5':'Race/Ethnicity', \n",
    "    'hhinc':'Household Income', \n",
    "    'educa':'Education',\n",
    "    'familyeverhadcancer':'Family History of Cancer'}, \n",
    "                   inplace = True)"
   ]
  },
  {
   "cell_type": "code",
   "execution_count": 58,
   "metadata": {},
   "outputs": [
    {
     "data": {
      "text/html": [
       "<div>\n",
       "<style scoped>\n",
       "    .dataframe tbody tr th:only-of-type {\n",
       "        vertical-align: middle;\n",
       "    }\n",
       "\n",
       "    .dataframe tbody tr th {\n",
       "        vertical-align: top;\n",
       "    }\n",
       "\n",
       "    .dataframe thead th {\n",
       "        text-align: right;\n",
       "    }\n",
       "</style>\n",
       "<table border=\"1\" class=\"dataframe\">\n",
       "  <thead>\n",
       "    <tr style=\"text-align: right;\">\n",
       "      <th></th>\n",
       "      <th>Person ID</th>\n",
       "      <th>Cancer Status</th>\n",
       "      <th>Type of Cancer</th>\n",
       "      <th>Age of Diagnosis</th>\n",
       "      <th>Time since Diagnosis</th>\n",
       "      <th>Age</th>\n",
       "      <th>BMI</th>\n",
       "      <th>Gender</th>\n",
       "      <th>Marital Status</th>\n",
       "      <th>Race/Ethnicity</th>\n",
       "      <th>Household Income</th>\n",
       "      <th>Education</th>\n",
       "      <th>Family History of Cancer</th>\n",
       "    </tr>\n",
       "  </thead>\n",
       "  <tbody>\n",
       "    <tr>\n",
       "      <td>0</td>\n",
       "      <td>91000002-02</td>\n",
       "      <td>No</td>\n",
       "      <td>Inapplicable, coded 2 in EverHadCancer</td>\n",
       "      <td>Inapplicable, coded 2 in EverHadCancer</td>\n",
       "      <td>Inapplicable, coded 2 in EverHadCancer</td>\n",
       "      <td>71.0</td>\n",
       "      <td>26.3</td>\n",
       "      <td>Female</td>\n",
       "      <td>Married</td>\n",
       "      <td>Non-Hispanic White</td>\n",
       "      <td>Less than $20,000</td>\n",
       "      <td>Less than High School</td>\n",
       "      <td>Not sure</td>\n",
       "    </tr>\n",
       "    <tr>\n",
       "      <td>1</td>\n",
       "      <td>91000006-02</td>\n",
       "      <td>No</td>\n",
       "      <td>Inapplicable, coded 2 in EverHadCancer</td>\n",
       "      <td>Inapplicable, coded 2 in EverHadCancer</td>\n",
       "      <td>Inapplicable, coded 2 in EverHadCancer</td>\n",
       "      <td>47.0</td>\n",
       "      <td>28.3</td>\n",
       "      <td>Female</td>\n",
       "      <td>Married</td>\n",
       "      <td>Non-Hispanic Black or African American</td>\n",
       "      <td>$50,000 to &lt; $75,000</td>\n",
       "      <td>Some College</td>\n",
       "      <td>Yes</td>\n",
       "    </tr>\n",
       "    <tr>\n",
       "      <td>3</td>\n",
       "      <td>91000008-01</td>\n",
       "      <td>No</td>\n",
       "      <td>Inapplicable, coded 2 in EverHadCancer</td>\n",
       "      <td>Inapplicable, coded 2 in EverHadCancer</td>\n",
       "      <td>Inapplicable, coded 2 in EverHadCancer</td>\n",
       "      <td>65.0</td>\n",
       "      <td>21.6</td>\n",
       "      <td>Female</td>\n",
       "      <td>Married</td>\n",
       "      <td>Non-Hispanic White</td>\n",
       "      <td>$20,000 to &lt; $35,000</td>\n",
       "      <td>College Graduate or More</td>\n",
       "      <td>Yes</td>\n",
       "    </tr>\n",
       "    <tr>\n",
       "      <td>4</td>\n",
       "      <td>91000012-01</td>\n",
       "      <td>No</td>\n",
       "      <td>Inapplicable, coded 2 in EverHadCancer</td>\n",
       "      <td>Inapplicable, coded 2 in EverHadCancer</td>\n",
       "      <td>Inapplicable, coded 2 in EverHadCancer</td>\n",
       "      <td>45.0</td>\n",
       "      <td>28.8</td>\n",
       "      <td>Female</td>\n",
       "      <td>Living as married or living with a romantic pa...</td>\n",
       "      <td>Non-Hispanic White</td>\n",
       "      <td>$35,000 to &lt; $50,000</td>\n",
       "      <td>Some College</td>\n",
       "      <td>Yes</td>\n",
       "    </tr>\n",
       "    <tr>\n",
       "      <td>5</td>\n",
       "      <td>91000021-01</td>\n",
       "      <td>Yes</td>\n",
       "      <td>Cervical cancer only</td>\n",
       "      <td>55</td>\n",
       "      <td>11+ Yrs Since DX</td>\n",
       "      <td>70.0</td>\n",
       "      <td>40.3</td>\n",
       "      <td>Female</td>\n",
       "      <td>Single, never been married</td>\n",
       "      <td>Missing Data (Not Ascertained)</td>\n",
       "      <td>Missing Data (Not Ascertained)</td>\n",
       "      <td>High School Graduate</td>\n",
       "      <td>Yes</td>\n",
       "    </tr>\n",
       "  </tbody>\n",
       "</table>\n",
       "</div>"
      ],
      "text/plain": [
       "     Person ID Cancer Status                          Type of Cancer  \\\n",
       "0  91000002-02            No  Inapplicable, coded 2 in EverHadCancer   \n",
       "1  91000006-02            No  Inapplicable, coded 2 in EverHadCancer   \n",
       "3  91000008-01            No  Inapplicable, coded 2 in EverHadCancer   \n",
       "4  91000012-01            No  Inapplicable, coded 2 in EverHadCancer   \n",
       "5  91000021-01           Yes                    Cervical cancer only   \n",
       "\n",
       "                         Age of Diagnosis  \\\n",
       "0  Inapplicable, coded 2 in EverHadCancer   \n",
       "1  Inapplicable, coded 2 in EverHadCancer   \n",
       "3  Inapplicable, coded 2 in EverHadCancer   \n",
       "4  Inapplicable, coded 2 in EverHadCancer   \n",
       "5                                      55   \n",
       "\n",
       "                     Time since Diagnosis   Age   BMI  Gender  \\\n",
       "0  Inapplicable, coded 2 in EverHadCancer  71.0  26.3  Female   \n",
       "1  Inapplicable, coded 2 in EverHadCancer  47.0  28.3  Female   \n",
       "3  Inapplicable, coded 2 in EverHadCancer  65.0  21.6  Female   \n",
       "4  Inapplicable, coded 2 in EverHadCancer  45.0  28.8  Female   \n",
       "5                        11+ Yrs Since DX  70.0  40.3  Female   \n",
       "\n",
       "                                      Marital Status  \\\n",
       "0                                            Married   \n",
       "1                                            Married   \n",
       "3                                            Married   \n",
       "4  Living as married or living with a romantic pa...   \n",
       "5                         Single, never been married   \n",
       "\n",
       "                           Race/Ethnicity                Household Income  \\\n",
       "0                      Non-Hispanic White               Less than $20,000   \n",
       "1  Non-Hispanic Black or African American            $50,000 to < $75,000   \n",
       "3                      Non-Hispanic White            $20,000 to < $35,000   \n",
       "4                      Non-Hispanic White            $35,000 to < $50,000   \n",
       "5          Missing Data (Not Ascertained)  Missing Data (Not Ascertained)   \n",
       "\n",
       "                  Education Family History of Cancer  \n",
       "0     Less than High School                 Not sure  \n",
       "1              Some College                      Yes  \n",
       "3  College Graduate or More                      Yes  \n",
       "4              Some College                      Yes  \n",
       "5      High School Graduate                      Yes  "
      ]
     },
     "execution_count": 58,
     "metadata": {},
     "output_type": "execute_result"
    }
   ],
   "source": [
    "df1b.head()"
   ]
  },
  {
   "cell_type": "markdown",
   "metadata": {},
   "source": [
    "#### 3.1 Explore and analyse data for demographical variables (Gender, Marital Status, Race/Ethnicity, Household Income, and Education)"
   ]
  },
  {
   "cell_type": "markdown",
   "metadata": {},
   "source": [
    "#### [a] Gender"
   ]
  },
  {
   "cell_type": "code",
   "execution_count": 59,
   "metadata": {},
   "outputs": [
    {
     "data": {
      "text/html": [
       "<div>\n",
       "<style scoped>\n",
       "    .dataframe tbody tr th:only-of-type {\n",
       "        vertical-align: middle;\n",
       "    }\n",
       "\n",
       "    .dataframe tbody tr th {\n",
       "        vertical-align: top;\n",
       "    }\n",
       "\n",
       "    .dataframe thead th {\n",
       "        text-align: right;\n",
       "    }\n",
       "</style>\n",
       "<table border=\"1\" class=\"dataframe\">\n",
       "  <thead>\n",
       "    <tr style=\"text-align: right;\">\n",
       "      <th></th>\n",
       "      <th>Cancer Status</th>\n",
       "      <th>Gender</th>\n",
       "    </tr>\n",
       "  </thead>\n",
       "  <tbody>\n",
       "    <tr>\n",
       "      <td>0</td>\n",
       "      <td>No</td>\n",
       "      <td>Female</td>\n",
       "    </tr>\n",
       "    <tr>\n",
       "      <td>1</td>\n",
       "      <td>No</td>\n",
       "      <td>Female</td>\n",
       "    </tr>\n",
       "  </tbody>\n",
       "</table>\n",
       "</div>"
      ],
      "text/plain": [
       "  Cancer Status  Gender\n",
       "0            No  Female\n",
       "1            No  Female"
      ]
     },
     "execution_count": 59,
     "metadata": {},
     "output_type": "execute_result"
    }
   ],
   "source": [
    "#create dataset (cd_g)of Cancer Status and Gender\n",
    "cd_g = df1b[['Cancer Status','Gender']]\n",
    "cd_g.head(2)"
   ]
  },
  {
   "cell_type": "code",
   "execution_count": 60,
   "metadata": {},
   "outputs": [
    {
     "data": {
      "text/plain": [
       "Female                                              3052\n",
       "Male                                                2220\n",
       "Missing data (Not Ascertained)                        54\n",
       "Missing data (Web partial - Question Never Seen)       0\n",
       "Name: Gender, dtype: int64"
      ]
     },
     "execution_count": 60,
     "metadata": {},
     "output_type": "execute_result"
    }
   ],
   "source": [
    "#identify the missing and invalid values\n",
    "cd_g['Gender'].value_counts()"
   ]
  },
  {
   "cell_type": "code",
   "execution_count": 61,
   "metadata": {},
   "outputs": [],
   "source": [
    "#replace missing and invalid values with null values -'NaN'\n",
    "cd_g['Gender'].replace({'Missing data (Not Ascertained)': np.nan}, inplace=True)"
   ]
  },
  {
   "cell_type": "code",
   "execution_count": 62,
   "metadata": {},
   "outputs": [
    {
     "data": {
      "text/plain": [
       "<bound method DataFrame.dropna of      Cancer Status  Gender\n",
       "0               No  Female\n",
       "1               No  Female\n",
       "3               No  Female\n",
       "4               No  Female\n",
       "5              Yes  Female\n",
       "...            ...     ...\n",
       "5433            No    Male\n",
       "5434            No  Female\n",
       "5435            No    Male\n",
       "5436            No    Male\n",
       "5437            No    Male\n",
       "\n",
       "[5326 rows x 2 columns]>"
      ]
     },
     "execution_count": 62,
     "metadata": {},
     "output_type": "execute_result"
    }
   ],
   "source": [
    "#drop null values\n",
    "cd_g.dropna"
   ]
  },
  {
   "cell_type": "code",
   "execution_count": 63,
   "metadata": {},
   "outputs": [
    {
     "data": {
      "text/plain": [
       "Female    3052\n",
       "Male      2220\n",
       "Name: Gender, dtype: int64"
      ]
     },
     "execution_count": 63,
     "metadata": {},
     "output_type": "execute_result"
    }
   ],
   "source": [
    "cd_g['Gender'].value_counts()"
   ]
  },
  {
   "cell_type": "code",
   "execution_count": 64,
   "metadata": {},
   "outputs": [
    {
     "data": {
      "text/plain": [
       "(array([0, 1]), <a list of 2 Text xticklabel objects>)"
      ]
     },
     "execution_count": 64,
     "metadata": {},
     "output_type": "execute_result"
    },
    {
     "data": {
      "image/png": "[encoded data removed]",
      "text/plain": [
       "<Figure size 216x432 with 1 Axes>"
      ]
     },
     "metadata": {
      "needs_background": "light"
     },
     "output_type": "display_data"
    }
   ],
   "source": [
    "#assign size of plot\n",
    "plt.subplots(figsize=(3,6))\n",
    "\n",
    "#create a bar plot of Cancer Category frequency\n",
    "sns.countplot(x='Gender',\n",
    "              data=cd_g)\n",
    "\n",
    "plt.xticks(rotation=0)"
   ]
  },
  {
   "cell_type": "code",
   "execution_count": 65,
   "metadata": {},
   "outputs": [
    {
     "data": {
      "text/html": [
       "<div>\n",
       "<style scoped>\n",
       "    .dataframe tbody tr th:only-of-type {\n",
       "        vertical-align: middle;\n",
       "    }\n",
       "\n",
       "    .dataframe tbody tr th {\n",
       "        vertical-align: top;\n",
       "    }\n",
       "\n",
       "    .dataframe thead th {\n",
       "        text-align: right;\n",
       "    }\n",
       "</style>\n",
       "<table border=\"1\" class=\"dataframe\">\n",
       "  <thead>\n",
       "    <tr style=\"text-align: right;\">\n",
       "      <th>Cancer Status</th>\n",
       "      <th>Yes</th>\n",
       "      <th>No</th>\n",
       "    </tr>\n",
       "    <tr>\n",
       "      <th>Gender</th>\n",
       "      <th></th>\n",
       "      <th></th>\n",
       "    </tr>\n",
       "  </thead>\n",
       "  <tbody>\n",
       "    <tr>\n",
       "      <td>Female</td>\n",
       "      <td>473</td>\n",
       "      <td>2579</td>\n",
       "    </tr>\n",
       "    <tr>\n",
       "      <td>Male</td>\n",
       "      <td>376</td>\n",
       "      <td>1844</td>\n",
       "    </tr>\n",
       "  </tbody>\n",
       "</table>\n",
       "</div>"
      ],
      "text/plain": [
       "Cancer Status  Yes    No\n",
       "Gender                  \n",
       "Female         473  2579\n",
       "Male           376  1844"
      ]
     },
     "execution_count": 65,
     "metadata": {},
     "output_type": "execute_result"
    }
   ],
   "source": [
    "#create a two-way table for Gender and Cancer Status\n",
    "gen_cs = pd.crosstab(index=cd_g['Gender'],\n",
    "                    columns=cd_g['Cancer Status'])\n",
    "\n",
    "gen_cs"
   ]
  },
  {
   "cell_type": "code",
   "execution_count": 66,
   "metadata": {},
   "outputs": [
    {
     "data": {
      "text/plain": [
       "(array([0, 1]), <a list of 2 Text xticklabel objects>)"
      ]
     },
     "execution_count": 66,
     "metadata": {},
     "output_type": "execute_result"
    },
    {
     "data": {
      "image/png": "[encoded data removed]",
      "text/plain": [
       "<Figure size 288x576 with 1 Axes>"
      ]
     },
     "metadata": {
      "needs_background": "light"
     },
     "output_type": "display_data"
    }
   ],
   "source": [
    "#create a stacked bar table for Gender by Cancer Status\n",
    "gen_cs.plot(kind=\"bar\",\n",
    "           figsize=(4,8),\n",
    "           stacked=True)\n",
    "\n",
    "plt.xticks(rotation=0)"
   ]
  },
  {
   "cell_type": "markdown",
   "metadata": {},
   "source": [
    "#### [b] Marital Status"
   ]
  },
  {
   "cell_type": "code",
   "execution_count": 67,
   "metadata": {},
   "outputs": [
    {
     "data": {
      "text/html": [
       "<div>\n",
       "<style scoped>\n",
       "    .dataframe tbody tr th:only-of-type {\n",
       "        vertical-align: middle;\n",
       "    }\n",
       "\n",
       "    .dataframe tbody tr th {\n",
       "        vertical-align: top;\n",
       "    }\n",
       "\n",
       "    .dataframe thead th {\n",
       "        text-align: right;\n",
       "    }\n",
       "</style>\n",
       "<table border=\"1\" class=\"dataframe\">\n",
       "  <thead>\n",
       "    <tr style=\"text-align: right;\">\n",
       "      <th></th>\n",
       "      <th>Cancer Status</th>\n",
       "      <th>Marital Status</th>\n",
       "    </tr>\n",
       "  </thead>\n",
       "  <tbody>\n",
       "    <tr>\n",
       "      <td>0</td>\n",
       "      <td>No</td>\n",
       "      <td>Married</td>\n",
       "    </tr>\n",
       "    <tr>\n",
       "      <td>1</td>\n",
       "      <td>No</td>\n",
       "      <td>Married</td>\n",
       "    </tr>\n",
       "  </tbody>\n",
       "</table>\n",
       "</div>"
      ],
      "text/plain": [
       "  Cancer Status Marital Status\n",
       "0            No        Married\n",
       "1            No        Married"
      ]
     },
     "execution_count": 67,
     "metadata": {},
     "output_type": "execute_result"
    }
   ],
   "source": [
    "#create a dataset of cancer status (everhadcancer) with marital status (maritalstatus)\n",
    "cd_ms = df1b[['Cancer Status','Marital Status']]\n",
    "cd_ms.head(2)"
   ]
  },
  {
   "cell_type": "code",
   "execution_count": 68,
   "metadata": {},
   "outputs": [
    {
     "data": {
      "text/plain": [
       "No                                                  4470\n",
       "Yes                                                  856\n",
       "Missing data (Web partial - Question Never Seen)       0\n",
       "Missing data (Not Ascertained)                         0\n",
       "Name: Cancer Status, dtype: int64"
      ]
     },
     "execution_count": 68,
     "metadata": {},
     "output_type": "execute_result"
    }
   ],
   "source": [
    "#get the value counts for cancer status\n",
    "cd_ms['Cancer Status'].value_counts()"
   ]
  },
  {
   "cell_type": "code",
   "execution_count": 69,
   "metadata": {},
   "outputs": [
    {
     "data": {
      "text/plain": [
       "Married                                                2587\n",
       "Single, never been married                              881\n",
       "Divorced                                                832\n",
       "Widowed                                                 588\n",
       "Living as married or living with a romantic partner     259\n",
       "Separated                                               111\n",
       "Missing data (Not Ascertained)                           57\n",
       "Multiple responses selected in error                      8\n",
       "Missing data (Web partial - Question Never Seen)          3\n",
       "Name: Marital Status, dtype: int64"
      ]
     },
     "execution_count": 69,
     "metadata": {},
     "output_type": "execute_result"
    }
   ],
   "source": [
    "#get the value counts \n",
    "cd_ms['Marital Status'].value_counts()"
   ]
  },
  {
   "cell_type": "code",
   "execution_count": 70,
   "metadata": {},
   "outputs": [],
   "source": [
    "cd_ms['Marital Status'].replace({\n",
    "    'Missing data (Not Ascertained)': np.nan,\n",
    "    'Multiple responses selected in error': np.nan,\n",
    "    'Missing data (Web partial - Question Never Seen)': np.nan}, \n",
    "    inplace=True)"
   ]
  },
  {
   "cell_type": "code",
   "execution_count": 71,
   "metadata": {},
   "outputs": [
    {
     "data": {
      "text/plain": [
       "<bound method DataFrame.dropna of      Cancer Status                                     Marital Status\n",
       "0               No                                            Married\n",
       "1               No                                            Married\n",
       "3               No                                            Married\n",
       "4               No  Living as married or living with a romantic pa...\n",
       "5              Yes                         Single, never been married\n",
       "...            ...                                                ...\n",
       "5433            No                         Single, never been married\n",
       "5434            No                                            Married\n",
       "5435            No                                           Divorced\n",
       "5436            No                         Single, never been married\n",
       "5437            No                         Single, never been married\n",
       "\n",
       "[5326 rows x 2 columns]>"
      ]
     },
     "execution_count": 71,
     "metadata": {},
     "output_type": "execute_result"
    }
   ],
   "source": [
    "cd_ms.dropna"
   ]
  },
  {
   "cell_type": "code",
   "execution_count": 72,
   "metadata": {},
   "outputs": [
    {
     "data": {
      "text/plain": [
       "Married                                                2587\n",
       "Single, never been married                              881\n",
       "Divorced                                                832\n",
       "Widowed                                                 588\n",
       "Living as married or living with a romantic partner     259\n",
       "Separated                                               111\n",
       "Name: Marital Status, dtype: int64"
      ]
     },
     "execution_count": 72,
     "metadata": {},
     "output_type": "execute_result"
    }
   ],
   "source": [
    "cd_ms['Marital Status'].value_counts()"
   ]
  },
  {
   "cell_type": "code",
   "execution_count": 73,
   "metadata": {},
   "outputs": [
    {
     "data": {
      "text/plain": [
       "(array([   0.,  500., 1000., 1500., 2000., 2500., 3000.]),\n",
       " <a list of 7 Text xticklabel objects>)"
      ]
     },
     "execution_count": 73,
     "metadata": {},
     "output_type": "execute_result"
    },
    {
     "data": {
      "image/png": "[encoded data removed]",
      "text/plain": [
       "<Figure size 576x360 with 1 Axes>"
      ]
     },
     "metadata": {
      "needs_background": "light"
     },
     "output_type": "display_data"
    }
   ],
   "source": [
    "#assign size of plot\n",
    "plt.subplots(figsize=(8,5))\n",
    "\n",
    "#create a bar plot of Cancer Category frequency\n",
    "sns.countplot(y='Marital Status',\n",
    "              data=cd_ms)\n",
    "\n",
    "plt.xticks(rotation=0)"
   ]
  },
  {
   "cell_type": "code",
   "execution_count": 74,
   "metadata": {},
   "outputs": [
    {
     "data": {
      "text/html": [
       "<div>\n",
       "<style scoped>\n",
       "    .dataframe tbody tr th:only-of-type {\n",
       "        vertical-align: middle;\n",
       "    }\n",
       "\n",
       "    .dataframe tbody tr th {\n",
       "        vertical-align: top;\n",
       "    }\n",
       "\n",
       "    .dataframe thead th {\n",
       "        text-align: right;\n",
       "    }\n",
       "</style>\n",
       "<table border=\"1\" class=\"dataframe\">\n",
       "  <thead>\n",
       "    <tr style=\"text-align: right;\">\n",
       "      <th>Cancer Status</th>\n",
       "      <th>Yes</th>\n",
       "      <th>No</th>\n",
       "    </tr>\n",
       "    <tr>\n",
       "      <th>Marital Status</th>\n",
       "      <th></th>\n",
       "      <th></th>\n",
       "    </tr>\n",
       "  </thead>\n",
       "  <tbody>\n",
       "    <tr>\n",
       "      <td>Divorced</td>\n",
       "      <td>161</td>\n",
       "      <td>671</td>\n",
       "    </tr>\n",
       "    <tr>\n",
       "      <td>Living as married or living with a romantic partner</td>\n",
       "      <td>28</td>\n",
       "      <td>231</td>\n",
       "    </tr>\n",
       "    <tr>\n",
       "      <td>Married</td>\n",
       "      <td>398</td>\n",
       "      <td>2189</td>\n",
       "    </tr>\n",
       "    <tr>\n",
       "      <td>Separated</td>\n",
       "      <td>18</td>\n",
       "      <td>93</td>\n",
       "    </tr>\n",
       "    <tr>\n",
       "      <td>Single, never been married</td>\n",
       "      <td>83</td>\n",
       "      <td>798</td>\n",
       "    </tr>\n",
       "    <tr>\n",
       "      <td>Widowed</td>\n",
       "      <td>163</td>\n",
       "      <td>425</td>\n",
       "    </tr>\n",
       "  </tbody>\n",
       "</table>\n",
       "</div>"
      ],
      "text/plain": [
       "Cancer Status                                       Yes    No\n",
       "Marital Status                                               \n",
       "Divorced                                            161   671\n",
       "Living as married or living with a romantic par...   28   231\n",
       "Married                                             398  2189\n",
       "Separated                                            18    93\n",
       "Single, never been married                           83   798\n",
       "Widowed                                             163   425"
      ]
     },
     "execution_count": 74,
     "metadata": {},
     "output_type": "execute_result"
    }
   ],
   "source": [
    "#create a two-way table for Marital Status and Cancer Status\n",
    "ms_cs = pd.crosstab(index=cd_ms['Marital Status'],\n",
    "                    columns=cd_ms['Cancer Status'])\n",
    "\n",
    "ms_cs"
   ]
  },
  {
   "cell_type": "code",
   "execution_count": 75,
   "metadata": {},
   "outputs": [
    {
     "data": {
      "text/plain": [
       "(array([0, 1, 2, 3, 4, 5]), <a list of 6 Text xticklabel objects>)"
      ]
     },
     "execution_count": 75,
     "metadata": {},
     "output_type": "execute_result"
    },
    {
     "data": {
      "image/png": "[encoded data removed]",
      "text/plain": [
       "<Figure size 1152x720 with 1 Axes>"
      ]
     },
     "metadata": {
      "needs_background": "light"
     },
     "output_type": "display_data"
    }
   ],
   "source": [
    "#plot a stacked-bar\n",
    "ms_cs.plot(kind=\"bar\",\n",
    "           figsize=(16,10),\n",
    "           stacked=True)\n",
    "\n",
    "plt.xticks(rotation=0)"
   ]
  },
  {
   "cell_type": "markdown",
   "metadata": {},
   "source": [
    "#### [c] Race/Ethnicity"
   ]
  },
  {
   "cell_type": "code",
   "execution_count": 76,
   "metadata": {},
   "outputs": [
    {
     "data": {
      "text/html": [
       "<div>\n",
       "<style scoped>\n",
       "    .dataframe tbody tr th:only-of-type {\n",
       "        vertical-align: middle;\n",
       "    }\n",
       "\n",
       "    .dataframe tbody tr th {\n",
       "        vertical-align: top;\n",
       "    }\n",
       "\n",
       "    .dataframe thead th {\n",
       "        text-align: right;\n",
       "    }\n",
       "</style>\n",
       "<table border=\"1\" class=\"dataframe\">\n",
       "  <thead>\n",
       "    <tr style=\"text-align: right;\">\n",
       "      <th></th>\n",
       "      <th>Cancer Status</th>\n",
       "      <th>Race/Ethnicity</th>\n",
       "    </tr>\n",
       "  </thead>\n",
       "  <tbody>\n",
       "    <tr>\n",
       "      <td>0</td>\n",
       "      <td>No</td>\n",
       "      <td>Non-Hispanic White</td>\n",
       "    </tr>\n",
       "    <tr>\n",
       "      <td>1</td>\n",
       "      <td>No</td>\n",
       "      <td>Non-Hispanic Black or African American</td>\n",
       "    </tr>\n",
       "  </tbody>\n",
       "</table>\n",
       "</div>"
      ],
      "text/plain": [
       "  Cancer Status                          Race/Ethnicity\n",
       "0            No                      Non-Hispanic White\n",
       "1            No  Non-Hispanic Black or African American"
      ]
     },
     "execution_count": 76,
     "metadata": {},
     "output_type": "execute_result"
    }
   ],
   "source": [
    "cd_r = df1b[['Cancer Status','Race/Ethnicity']]\n",
    "cd_r.head(2)"
   ]
  },
  {
   "cell_type": "code",
   "execution_count": 77,
   "metadata": {},
   "outputs": [
    {
     "data": {
      "text/plain": [
       "Non-Hispanic White                                  3042\n",
       "Hispanic                                             725\n",
       "Non-Hispanic Black or African American               673\n",
       "Missing Data (Not Ascertained)                       495\n",
       "Non-Hispanic Asian                                   223\n",
       "Non-Hispanic Other                                   165\n",
       "Missing data (Web partial - Question Never Seen)       3\n",
       "Name: Race/Ethnicity, dtype: int64"
      ]
     },
     "execution_count": 77,
     "metadata": {},
     "output_type": "execute_result"
    }
   ],
   "source": [
    "cd_r['Race/Ethnicity'].value_counts()"
   ]
  },
  {
   "cell_type": "code",
   "execution_count": 78,
   "metadata": {},
   "outputs": [],
   "source": [
    "cd_r['Race/Ethnicity'].replace({\n",
    "    'Missing Data (Not Ascertained)': np.nan,\n",
    "    'Missing data (Web partial - Question Never Seen)': np.nan}, \n",
    "    inplace=True)"
   ]
  },
  {
   "cell_type": "code",
   "execution_count": 79,
   "metadata": {},
   "outputs": [
    {
     "data": {
      "text/plain": [
       "<bound method DataFrame.dropna of      Cancer Status                          Race/Ethnicity\n",
       "0               No                      Non-Hispanic White\n",
       "1               No  Non-Hispanic Black or African American\n",
       "3               No                      Non-Hispanic White\n",
       "4               No                      Non-Hispanic White\n",
       "5              Yes                                     NaN\n",
       "...            ...                                     ...\n",
       "5433            No                      Non-Hispanic White\n",
       "5434            No                      Non-Hispanic White\n",
       "5435            No                      Non-Hispanic White\n",
       "5436            No                      Non-Hispanic White\n",
       "5437            No                                Hispanic\n",
       "\n",
       "[5326 rows x 2 columns]>"
      ]
     },
     "execution_count": 79,
     "metadata": {},
     "output_type": "execute_result"
    }
   ],
   "source": [
    "cd_r.dropna"
   ]
  },
  {
   "cell_type": "code",
   "execution_count": 80,
   "metadata": {},
   "outputs": [
    {
     "data": {
      "text/plain": [
       "Non-Hispanic White                        3042\n",
       "Hispanic                                   725\n",
       "Non-Hispanic Black or African American     673\n",
       "Non-Hispanic Asian                         223\n",
       "Non-Hispanic Other                         165\n",
       "Name: Race/Ethnicity, dtype: int64"
      ]
     },
     "execution_count": 80,
     "metadata": {},
     "output_type": "execute_result"
    }
   ],
   "source": [
    "cd_r['Race/Ethnicity'].value_counts()"
   ]
  },
  {
   "cell_type": "code",
   "execution_count": 81,
   "metadata": {},
   "outputs": [
    {
     "data": {
      "text/plain": [
       "(array([   0.,  500., 1000., 1500., 2000., 2500., 3000., 3500.]),\n",
       " <a list of 8 Text xticklabel objects>)"
      ]
     },
     "execution_count": 81,
     "metadata": {},
     "output_type": "execute_result"
    },
    {
     "data": {
      "image/png": "[encoded data removed]",
      "text/plain": [
       "<Figure size 576x288 with 1 Axes>"
      ]
     },
     "metadata": {
      "needs_background": "light"
     },
     "output_type": "display_data"
    }
   ],
   "source": [
    "#assign size of plot\n",
    "plt.subplots(figsize=(8,4))\n",
    "\n",
    "#create a bar plot of Cancer Category frequency\n",
    "sns.countplot(y='Race/Ethnicity',\n",
    "              data=cd_r)\n",
    "\n",
    "plt.xticks(rotation=0)"
   ]
  },
  {
   "cell_type": "code",
   "execution_count": 82,
   "metadata": {},
   "outputs": [
    {
     "data": {
      "image/png": "[encoded data removed]",
      "text/plain": [
       "<Figure size 1319.92x864 with 1 Axes>"
      ]
     },
     "metadata": {
      "needs_background": "light"
     },
     "output_type": "display_data"
    }
   ],
   "source": [
    "g = sns.catplot(x=\"Race/Ethnicity\",\n",
    "                hue=\"Cancer Status\",\n",
    "                data=cd_r,\n",
    "                kind=\"count\",\n",
    "                height=12,\n",
    "                aspect=1.2,\n",
    "                palette=\"Set2\")"
   ]
  },
  {
   "cell_type": "markdown",
   "metadata": {},
   "source": [
    "#### [d] Household Income"
   ]
  },
  {
   "cell_type": "code",
   "execution_count": 83,
   "metadata": {},
   "outputs": [
    {
     "data": {
      "text/html": [
       "<div>\n",
       "<style scoped>\n",
       "    .dataframe tbody tr th:only-of-type {\n",
       "        vertical-align: middle;\n",
       "    }\n",
       "\n",
       "    .dataframe tbody tr th {\n",
       "        vertical-align: top;\n",
       "    }\n",
       "\n",
       "    .dataframe thead th {\n",
       "        text-align: right;\n",
       "    }\n",
       "</style>\n",
       "<table border=\"1\" class=\"dataframe\">\n",
       "  <thead>\n",
       "    <tr style=\"text-align: right;\">\n",
       "      <th></th>\n",
       "      <th>Cancer Status</th>\n",
       "      <th>Household Income</th>\n",
       "    </tr>\n",
       "  </thead>\n",
       "  <tbody>\n",
       "    <tr>\n",
       "      <td>0</td>\n",
       "      <td>No</td>\n",
       "      <td>Less than $20,000</td>\n",
       "    </tr>\n",
       "    <tr>\n",
       "      <td>1</td>\n",
       "      <td>No</td>\n",
       "      <td>$50,000 to &lt; $75,000</td>\n",
       "    </tr>\n",
       "  </tbody>\n",
       "</table>\n",
       "</div>"
      ],
      "text/plain": [
       "  Cancer Status      Household Income\n",
       "0            No     Less than $20,000\n",
       "1            No  $50,000 to < $75,000"
      ]
     },
     "execution_count": 83,
     "metadata": {},
     "output_type": "execute_result"
    }
   ],
   "source": [
    "cd_h = df1b[['Cancer Status','Household Income']]\n",
    "cd_h.head(2)"
   ]
  },
  {
   "cell_type": "code",
   "execution_count": 84,
   "metadata": {},
   "outputs": [
    {
     "data": {
      "text/plain": [
       "$75,000 or More                                     1799\n",
       "Less than $20,000                                    894\n",
       "$50,000 to < $75,000                                 845\n",
       "$35,000 to < $50,000                                 619\n",
       "$20,000 to < $35,000                                 612\n",
       "Missing Data (Not Ascertained)                       548\n",
       "Missing data (Web partial - Question Never Seen)       9\n",
       "Name: Household Income, dtype: int64"
      ]
     },
     "execution_count": 84,
     "metadata": {},
     "output_type": "execute_result"
    }
   ],
   "source": [
    "#check missing values in Household Income\n",
    "cd_h['Household Income'].value_counts()"
   ]
  },
  {
   "cell_type": "code",
   "execution_count": 85,
   "metadata": {},
   "outputs": [],
   "source": [
    "#replace missing and invalid values with NaN\n",
    "cd_h['Household Income'].replace({\n",
    "    'Missing Data (Not Ascertained)': np.nan,\n",
    "    'Missing data (Web partial - Question Never Seen)': np.nan}, \n",
    "    inplace=True)"
   ]
  },
  {
   "cell_type": "code",
   "execution_count": 86,
   "metadata": {},
   "outputs": [
    {
     "data": {
      "text/plain": [
       "$75,000 or More         1799\n",
       "Less than $20,000        894\n",
       "$50,000 to < $75,000     845\n",
       "$35,000 to < $50,000     619\n",
       "$20,000 to < $35,000     612\n",
       "Name: Household Income, dtype: int64"
      ]
     },
     "execution_count": 86,
     "metadata": {},
     "output_type": "execute_result"
    }
   ],
   "source": [
    "#confirm the changes made\n",
    "cd_h['Household Income'].value_counts()"
   ]
  },
  {
   "cell_type": "code",
   "execution_count": 87,
   "metadata": {},
   "outputs": [
    {
     "data": {
      "text/plain": [
       "array(['Less than $20,000', '$50,000 to < $75,000',\n",
       "       '$20,000 to < $35,000', '$35,000 to < $50,000', nan,\n",
       "       '$75,000 or More'], dtype=object)"
      ]
     },
     "execution_count": 87,
     "metadata": {},
     "output_type": "execute_result"
    }
   ],
   "source": [
    "#get the unique values\n",
    "cd_h['Household Income'].unique()"
   ]
  },
  {
   "cell_type": "code",
   "execution_count": 88,
   "metadata": {},
   "outputs": [
    {
     "data": {
      "text/plain": [
       "<matplotlib.axes._subplots.AxesSubplot at 0x11407cd90>"
      ]
     },
     "execution_count": 88,
     "metadata": {},
     "output_type": "execute_result"
    },
    {
     "data": {
      "image/png": "[encoded data removed]",
      "text/plain": [
       "<Figure size 720x432 with 1 Axes>"
      ]
     },
     "metadata": {
      "needs_background": "light"
     },
     "output_type": "display_data"
    }
   ],
   "source": [
    "#assign size of plot\n",
    "plt.subplots(figsize=(10,6))\n",
    "\n",
    "#create a countplot for Household Income, assign order to bars from low to high\n",
    "sns.countplot(\n",
    "    x='Household Income', \n",
    "    data=cd_h, \n",
    "    order=['Less than $20,000',\n",
    "    '$20,000 to < $35,000',\n",
    "    '$35,000 to < $50,000',\n",
    "    '$50,000 to < $75,000',\n",
    "    '$75,000 or More'])"
   ]
  },
  {
   "cell_type": "code",
   "execution_count": 89,
   "metadata": {},
   "outputs": [
    {
     "data": {
      "image/png": "[encoded data removed]",
      "text/plain": [
       "<Figure size 1003.12x720 with 1 Axes>"
      ]
     },
     "metadata": {
      "needs_background": "light"
     },
     "output_type": "display_data"
    }
   ],
   "source": [
    "g = sns.catplot(x='Household Income',\n",
    "                hue=\"Cancer Status\",\n",
    "                data=cd_h,\n",
    "                kind=\"count\",\n",
    "                col_order = [\n",
    "                    'Less than $20,000',\n",
    "                    '$20,000 to < $35,000',\n",
    "                    '$35,000 to < $50,000',\n",
    "                    '$50,000 to < $75,000',\n",
    "                    '$75,000 or More'],\n",
    "                height=10,\n",
    "                aspect=1,\n",
    "                palette=\"Set2\")"
   ]
  },
  {
   "cell_type": "markdown",
   "metadata": {},
   "source": [
    "##### Observation: income level seem to have influence on cancer status, especially comparing the first two categories - the second category (50,000 to <75,000) seem to have more cancer cases than the first category (Less than 20,000)."
   ]
  },
  {
   "cell_type": "markdown",
   "metadata": {},
   "source": [
    "#### [e] Education"
   ]
  },
  {
   "cell_type": "code",
   "execution_count": 90,
   "metadata": {},
   "outputs": [
    {
     "data": {
      "text/html": [
       "<div>\n",
       "<style scoped>\n",
       "    .dataframe tbody tr th:only-of-type {\n",
       "        vertical-align: middle;\n",
       "    }\n",
       "\n",
       "    .dataframe tbody tr th {\n",
       "        vertical-align: top;\n",
       "    }\n",
       "\n",
       "    .dataframe thead th {\n",
       "        text-align: right;\n",
       "    }\n",
       "</style>\n",
       "<table border=\"1\" class=\"dataframe\">\n",
       "  <thead>\n",
       "    <tr style=\"text-align: right;\">\n",
       "      <th></th>\n",
       "      <th>Cancer Status</th>\n",
       "      <th>Education</th>\n",
       "    </tr>\n",
       "  </thead>\n",
       "  <tbody>\n",
       "    <tr>\n",
       "      <td>0</td>\n",
       "      <td>No</td>\n",
       "      <td>Less than High School</td>\n",
       "    </tr>\n",
       "    <tr>\n",
       "      <td>1</td>\n",
       "      <td>No</td>\n",
       "      <td>Some College</td>\n",
       "    </tr>\n",
       "  </tbody>\n",
       "</table>\n",
       "</div>"
      ],
      "text/plain": [
       "  Cancer Status              Education\n",
       "0            No  Less than High School\n",
       "1            No           Some College"
      ]
     },
     "execution_count": 90,
     "metadata": {},
     "output_type": "execute_result"
    }
   ],
   "source": [
    "cd_e = df1b[['Cancer Status','Education']]\n",
    "cd_e.head(2)"
   ]
  },
  {
   "cell_type": "code",
   "execution_count": 91,
   "metadata": {},
   "outputs": [
    {
     "data": {
      "text/plain": [
       "College Graduate or More                            2408\n",
       "Some College                                        1588\n",
       "High School Graduate                                 943\n",
       "Less than High School                                333\n",
       "Missing Data (Not Ascertained)                        51\n",
       "Missing data (Web partial - Question Never Seen)       3\n",
       "Name: Education, dtype: int64"
      ]
     },
     "execution_count": 91,
     "metadata": {},
     "output_type": "execute_result"
    }
   ],
   "source": [
    "cd_e['Education'].value_counts()"
   ]
  },
  {
   "cell_type": "code",
   "execution_count": 92,
   "metadata": {},
   "outputs": [],
   "source": [
    "cd_e['Education'].replace({\n",
    "    'Missing Data (Not Ascertained)': np.nan,\n",
    "    'Missing data (Web partial - Question Never Seen)': np.nan}, \n",
    "    inplace=True)"
   ]
  },
  {
   "cell_type": "code",
   "execution_count": 93,
   "metadata": {},
   "outputs": [
    {
     "data": {
      "text/plain": [
       "<bound method DataFrame.dropna of      Cancer Status                 Education\n",
       "0               No     Less than High School\n",
       "1               No              Some College\n",
       "3               No  College Graduate or More\n",
       "4               No              Some College\n",
       "5              Yes      High School Graduate\n",
       "...            ...                       ...\n",
       "5433            No      High School Graduate\n",
       "5434            No              Some College\n",
       "5435            No  College Graduate or More\n",
       "5436            No      High School Graduate\n",
       "5437            No  College Graduate or More\n",
       "\n",
       "[5326 rows x 2 columns]>"
      ]
     },
     "execution_count": 93,
     "metadata": {},
     "output_type": "execute_result"
    }
   ],
   "source": [
    "cd_e.dropna"
   ]
  },
  {
   "cell_type": "code",
   "execution_count": 94,
   "metadata": {},
   "outputs": [
    {
     "data": {
      "text/plain": [
       "College Graduate or More    2408\n",
       "Some College                1588\n",
       "High School Graduate         943\n",
       "Less than High School        333\n",
       "Name: Education, dtype: int64"
      ]
     },
     "execution_count": 94,
     "metadata": {},
     "output_type": "execute_result"
    }
   ],
   "source": [
    "cd_e['Education'].value_counts()"
   ]
  },
  {
   "cell_type": "code",
   "execution_count": 95,
   "metadata": {},
   "outputs": [
    {
     "data": {
      "text/plain": [
       "array(['Less than High School', 'Some College',\n",
       "       'College Graduate or More', 'High School Graduate', nan],\n",
       "      dtype=object)"
      ]
     },
     "execution_count": 95,
     "metadata": {},
     "output_type": "execute_result"
    }
   ],
   "source": [
    "cd_e['Education'].unique()"
   ]
  },
  {
   "cell_type": "code",
   "execution_count": 96,
   "metadata": {},
   "outputs": [
    {
     "data": {
      "text/plain": [
       "(array([   0.,  500., 1000., 1500., 2000., 2500., 3000.]),\n",
       " <a list of 7 Text xticklabel objects>)"
      ]
     },
     "execution_count": 96,
     "metadata": {},
     "output_type": "execute_result"
    },
    {
     "data": {
      "image/png": "[encoded data removed]",
      "text/plain": [
       "<Figure size 576x288 with 1 Axes>"
      ]
     },
     "metadata": {
      "needs_background": "light"
     },
     "output_type": "display_data"
    }
   ],
   "source": [
    "#assign size of plot\n",
    "plt.subplots(figsize=(8,4))\n",
    "\n",
    "#create a bar plot of Cancer Category frequency\n",
    "sns.countplot(y='Education',\n",
    "              order = ['Less than High School','High School Graduate','Some College','College Graduate or More'],\n",
    "              data=cd_e)\n",
    "\n",
    "plt.xticks(rotation=0)"
   ]
  },
  {
   "cell_type": "code",
   "execution_count": 97,
   "metadata": {},
   "outputs": [
    {
     "data": {
      "image/png": "[encoded data removed]",
      "text/plain": [
       "<Figure size 1147.12x576 with 1 Axes>"
      ]
     },
     "metadata": {
      "needs_background": "light"
     },
     "output_type": "display_data"
    }
   ],
   "source": [
    "g = sns.catplot(x='Education',\n",
    "                hue=\"Cancer Status\",\n",
    "                data=cd_e,\n",
    "                kind=\"count\",\n",
    "                col_order = [\n",
    "                    'Less than High School',\n",
    "                    'High School Graduate',\n",
    "                    'Some College',\n",
    "                    'College Graduate or More'],\n",
    "                height=8,\n",
    "                aspect=1.5,\n",
    "                palette=\"Set2\")"
   ]
  },
  {
   "cell_type": "markdown",
   "metadata": {},
   "source": [
    "##### Observation: the influence of education level on cancer status is not visible."
   ]
  },
  {
   "cell_type": "code",
   "execution_count": null,
   "metadata": {},
   "outputs": [],
   "source": []
  }
 ],
 "metadata": {
  "kernelspec": {
   "display_name": "Python 3",
   "language": "python",
   "name": "python3"
  },
  "language_info": {
   "codemirror_mode": {
    "name": "ipython",
    "version": 3
   },
   "file_extension": ".py",
   "mimetype": "text/x-python",
   "name": "python",
   "nbconvert_exporter": "python",
   "pygments_lexer": "ipython3",
   "version": "3.7.4"
  }
 },
 "nbformat": 4,
 "nbformat_minor": 2
}
