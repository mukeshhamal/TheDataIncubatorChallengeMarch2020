{
 "cells": [
  {
   "cell_type": "code",
   "execution_count": 1,
   "metadata": {},
   "outputs": [],
   "source": [
    "import pandas as pd\n",
    "import numpy as np"
   ]
  },
  {
   "cell_type": "code",
   "execution_count": 2,
   "metadata": {},
   "outputs": [],
   "source": [
    "location1 = ('mcpupdpdpstcy2017.csv')\n",
    "location2 = ('mcpupdpdpstcy2016.csv')"
   ]
  },
  {
   "cell_type": "code",
   "execution_count": 3,
   "metadata": {},
   "outputs": [],
   "source": [
    "df17 = pd.read_csv(location1)\n",
    "df16 = pd.read_csv(location2)"
   ]
  },
  {
   "cell_type": "code",
   "execution_count": 4,
   "metadata": {},
   "outputs": [
    {
     "data": {
      "text/plain": [
       "(1162898, 84)"
      ]
     },
     "execution_count": 4,
     "metadata": {},
     "output_type": "execute_result"
    }
   ],
   "source": [
    "df17.shape"
   ]
  },
  {
   "cell_type": "code",
   "execution_count": 5,
   "metadata": {},
   "outputs": [
    {
     "data": {
      "text/plain": [
       "(1131550, 84)"
      ]
     },
     "execution_count": 5,
     "metadata": {},
     "output_type": "execute_result"
    }
   ],
   "source": [
    "df16.shape"
   ]
  },
  {
   "cell_type": "code",
   "execution_count": 6,
   "metadata": {},
   "outputs": [
    {
     "data": {
      "text/plain": [
       "Index(['npi', 'nppes_provider_last_org_name', 'nppes_provider_first_name',\n",
       "       'nppes_provider_mi', 'nppes_credentials', 'nppes_provider_gender',\n",
       "       'nppes_entity_code', 'nppes_provider_street1', 'nppes_provider_street2',\n",
       "       'nppes_provider_city', 'nppes_provider_zip5', 'nppes_provider_zip4',\n",
       "       'nppes_provider_state', 'nppes_provider_country',\n",
       "       'specialty_description', 'description_flag',\n",
       "       'medicare_prvdr_enroll_status', 'total_claim_count',\n",
       "       'total_30_day_fill_count', 'total_drug_cost', 'total_day_supply',\n",
       "       'bene_count', 'ge65_suppress_flag', 'total_claim_count_ge65',\n",
       "       'total_30_day_fill_count_ge65', 'total_drug_cost_ge65',\n",
       "       'total_day_supply_ge65', 'bene_count_ge65_suppress_flag',\n",
       "       'bene_count_ge65', 'brand_suppress_flag', 'brand_claim_count',\n",
       "       'brand_drug_cost', 'generic_suppress_flag', 'generic_claim_count',\n",
       "       'generic_drug_cost', 'other_suppress_flag', 'other_claim_count',\n",
       "       'other_drug_cost', 'mapd_suppress_flag', 'mapd_claim_count',\n",
       "       'mapd_drug_cost', 'pdp_suppress_flag', 'pdp_claim_count',\n",
       "       'pdp_drug_cost', 'lis_suppress_flag', 'lis_claim_count',\n",
       "       'lis_drug_cost', 'nonlis_suppress_flag', 'nonlis_claim_count',\n",
       "       'nonlis_drug_cost', 'opioid_claim_count', 'opioid_drug_cost',\n",
       "       'opioid_day_supply', 'opioid_bene_count', 'opioid_prescriber_rate',\n",
       "       'la_opioid_claim_count', 'la_opioid_drug_cost', 'la_opioid_day_supply',\n",
       "       'la_opioid_bene_count', 'la_opioid_prescriber_rate',\n",
       "       'antibiotic_claim_count', 'antibiotic_drug_cost',\n",
       "       'antibiotic_bene_count', 'antipsych_ge65_suppress_flag',\n",
       "       'antipsych_claim_count_ge65', 'antipsych_drug_cost_ge65',\n",
       "       'antipsych_bene_ge65_suppress_flg', 'antipsych_bene_count_ge65',\n",
       "       'average_age_of_beneficiaries', 'beneficiary_age_less_65_count',\n",
       "       'beneficiary_age_65_74_count', 'beneficiary_age_75_84_count',\n",
       "       'beneficiary_age_greater_84_count', 'beneficiary_female_count',\n",
       "       'beneficiary_male_count', 'beneficiary_race_white_count',\n",
       "       'beneficiary_race_black_count', 'beneficiary_race_asian_pi_count',\n",
       "       'beneficiary_race_hispanic_count', 'beneficiary_race_nat_ind_count',\n",
       "       'beneficiary_race_other_count', 'beneficiary_nondual_count',\n",
       "       'beneficiary_dual_count', 'beneficiary_average_risk_score'],\n",
       "      dtype='object')"
      ]
     },
     "execution_count": 6,
     "metadata": {},
     "output_type": "execute_result"
    }
   ],
   "source": [
    "df17.columns"
   ]
  },
  {
   "cell_type": "code",
   "execution_count": 7,
   "metadata": {},
   "outputs": [
    {
     "data": {
      "text/plain": [
       "Index(['npi', 'nppes_provider_last_org_name', 'nppes_provider_first_name',\n",
       "       'nppes_provider_mi', 'nppes_credentials', 'nppes_provider_gender',\n",
       "       'nppes_entity_code', 'nppes_provider_street1', 'nppes_provider_street2',\n",
       "       'nppes_provider_city', 'nppes_provider_zip5', 'nppes_provider_zip4',\n",
       "       'nppes_provider_state', 'nppes_provider_country',\n",
       "       'specialty_description', 'description_flag',\n",
       "       'medicare_prvdr_enroll_status', 'total_claim_count',\n",
       "       'total_30_day_fill_count', 'total_drug_cost', 'total_day_supply',\n",
       "       'bene_count', 'ge65_suppress_flag', 'total_claim_count_ge65',\n",
       "       'total_30_day_fill_count_ge65', 'total_drug_cost_ge65',\n",
       "       'total_day_supply_ge65', 'bene_count_ge65_suppress_flag',\n",
       "       'bene_count_ge65', 'brand_suppress_flag', 'brand_claim_count',\n",
       "       'brand_drug_cost', 'generic_suppress_flag', 'generic_claim_count',\n",
       "       'generic_drug_cost', 'other_suppress_flag', 'other_claim_count',\n",
       "       'other_drug_cost', 'mapd_suppress_flag', 'mapd_claim_count',\n",
       "       'mapd_drug_cost', 'pdp_suppress_flag', 'pdp_claim_count',\n",
       "       'pdp_drug_cost', 'lis_suppress_flag', 'lis_claim_count',\n",
       "       'lis_drug_cost', 'nonlis_suppress_flag', 'nonlis_claim_count',\n",
       "       'nonlis_drug_cost', 'opioid_claim_count', 'opioid_drug_cost',\n",
       "       'opioid_day_supply', 'opioid_bene_count', 'opioid_prescriber_rate',\n",
       "       'la_opioid_claim_count', 'la_opioid_drug_cost', 'la_opioid_day_supply',\n",
       "       'la_opioid_bene_count', 'la_opioid_prescriber_rate',\n",
       "       'antibiotic_claim_count', 'antibiotic_drug_cost',\n",
       "       'antibiotic_bene_count', 'antipsych_ge65_suppress_flag',\n",
       "       'antipsych_claim_count_ge65', 'antipsych_drug_cost_ge65',\n",
       "       'antipsych_bene_ge65_suppress_flg', 'antipsych_bene_count_ge65',\n",
       "       'average_age_of_beneficiaries', 'beneficiary_age_less_65_count',\n",
       "       'beneficiary_age_65_74_count', 'beneficiary_age_75_84_count',\n",
       "       'beneficiary_age_greater_84_count', 'beneficiary_female_count',\n",
       "       'beneficiary_male_count', 'beneficiary_race_white_count',\n",
       "       'beneficiary_race_black_count', 'beneficiary_race_asian_pi_count',\n",
       "       'beneficiary_race_hispanic_count', 'beneficiary_race_nat_ind_count',\n",
       "       'beneficiary_race_other_count', 'beneficiary_nondual_count',\n",
       "       'beneficiary_dual_count', 'beneficiary_average_risk_score'],\n",
       "      dtype='object')"
      ]
     },
     "execution_count": 7,
     "metadata": {},
     "output_type": "execute_result"
    }
   ],
   "source": [
    "df16.columns"
   ]
  },
  {
   "cell_type": "markdown",
   "metadata": {},
   "source": [
    "### Problem 1: Average number of beneficiaries per provider in 2017 (only include those with more than 10 beneficiaries)"
   ]
  },
  {
   "cell_type": "code",
   "execution_count": 8,
   "metadata": {},
   "outputs": [
    {
     "data": {
      "text/plain": [
       "158.3494585173676"
      ]
     },
     "execution_count": 8,
     "metadata": {},
     "output_type": "execute_result"
    }
   ],
   "source": [
    "# Method 1 [Problem 1]: direct mean function\n",
    "\n",
    "df17['bene_count'].mean()"
   ]
  },
  {
   "cell_type": "code",
   "execution_count": 9,
   "metadata": {},
   "outputs": [
    {
     "data": {
      "text/plain": [
       "158.3494585173676"
      ]
     },
     "execution_count": 9,
     "metadata": {},
     "output_type": "execute_result"
    }
   ],
   "source": [
    "# Method 2 [Problem 1]: using groupby function\n",
    "\n",
    "#Step 1 - calculate the average (mean) beneficiaries for each provider\n",
    "benef_per_prov_df17_a = df17.groupby(df17['npi'])['bene_count'].mean()\n",
    "\n",
    "#Step 2 - calculate the average (mean) beneficiaries of all providers\n",
    "avg_benef_per_prov_a = benef_per_prov_df17_a.mean()\n",
    "\n",
    "avg_benef_per_prov_a"
   ]
  },
  {
   "cell_type": "code",
   "execution_count": 10,
   "metadata": {},
   "outputs": [
    {
     "data": {
      "text/plain": [
       "bene_count    158.349459\n",
       "dtype: float64"
      ]
     },
     "execution_count": 10,
     "metadata": {},
     "output_type": "execute_result"
    }
   ],
   "source": [
    "# Method 3 [Problem 1]: pivot table function\n",
    "\n",
    "# step 1 - calculate the average (mean) beneficiaries for each provider\n",
    "benef_per_prov_df17_b = pd.pivot_table(df17, values=['bene_count'], index=['npi'])\n",
    "\n",
    "# step 2 - calculate the average (mean) beneficiaries of all providers\n",
    "avg_benef_per_prov_b = benef_per_prov_df17_b.mean()\n",
    "\n",
    "avg_benef_per_prov_b"
   ]
  },
  {
   "cell_type": "markdown",
   "metadata": {},
   "source": [
    "### Problem 2:"
   ]
  },
  {
   "cell_type": "markdown",
   "metadata": {},
   "source": [
    "#### 2.1 length of average prescription from the total_day_supply for each provider"
   ]
  },
  {
   "cell_type": "code",
   "execution_count": 11,
   "metadata": {},
   "outputs": [
    {
     "data": {
      "text/plain": [
       "npi\n",
       "1003000126    14788\n",
       "1003000142    58605\n",
       "1003000167      430\n",
       "1003000175      150\n",
       "1003000282     2681\n",
       "              ...  \n",
       "1992999825     5566\n",
       "1992999833     1866\n",
       "1992999866      288\n",
       "1992999874     1879\n",
       "1992999882     7945\n",
       "Name: total_day_supply, Length: 1162898, dtype: int64"
      ]
     },
     "execution_count": 11,
     "metadata": {},
     "output_type": "execute_result"
    }
   ],
   "source": [
    "avg_day_supply_pres_for_each_prov = df17.groupby(df17['npi'])['total_day_supply'].mean()\n",
    "\n",
    "avg_day_supply_pres_for_each_prov"
   ]
  },
  {
   "cell_type": "markdown",
   "metadata": {},
   "source": [
    "#### 2.2 length of average prescription from the total_claim_count for each provider"
   ]
  },
  {
   "cell_type": "code",
   "execution_count": 12,
   "metadata": {},
   "outputs": [
    {
     "data": {
      "text/plain": [
       "npi\n",
       "1003000126     677\n",
       "1003000142    1946\n",
       "1003000167      55\n",
       "1003000175      18\n",
       "1003000282      90\n",
       "              ... \n",
       "1992999825     270\n",
       "1992999833      59\n",
       "1992999866      15\n",
       "1992999874      81\n",
       "1992999882     256\n",
       "Name: total_claim_count, Length: 1162898, dtype: int64"
      ]
     },
     "execution_count": 12,
     "metadata": {},
     "output_type": "execute_result"
    }
   ],
   "source": [
    "\n",
    "avg_claim_count_pres_for_each_prov = df17.groupby(df17['npi'])['total_claim_count'].mean()\n",
    "\n",
    "avg_claim_count_pres_for_each_prov"
   ]
  },
  {
   "cell_type": "markdown",
   "metadata": {},
   "source": [
    "#### 2.3 median (in days) of the distribution of total_day_supply across all providers"
   ]
  },
  {
   "cell_type": "code",
   "execution_count": 13,
   "metadata": {},
   "outputs": [
    {
     "data": {
      "text/plain": [
       "4685.0"
      ]
     },
     "execution_count": 13,
     "metadata": {},
     "output_type": "execute_result"
    }
   ],
   "source": [
    "med_day_supply_all_prov = df17['total_day_supply'].median()\n",
    "\n",
    "med_day_supply_all_prov"
   ]
  },
  {
   "cell_type": "markdown",
   "metadata": {},
   "source": [
    "### Problem 3:"
   ]
  },
  {
   "cell_type": "markdown",
   "metadata": {},
   "source": [
    "#### 3.1 (a) ratio of beneficiaries with opioid prescriptions to \n",
    "#### beneficiaries with antibiotics prescriptions in each state (including rows with null values)"
   ]
  },
  {
   "cell_type": "code",
   "execution_count": 14,
   "metadata": {},
   "outputs": [
    {
     "data": {
      "text/plain": [
       "nppes_provider_state\n",
       "AA    0.463247\n",
       "AE    0.724034\n",
       "AK         inf\n",
       "AL         inf\n",
       "AP         inf\n",
       "        ...   \n",
       "WI         inf\n",
       "WV         inf\n",
       "WY         inf\n",
       "XX    0.662638\n",
       "ZZ         inf\n",
       "Name: ratio_bene_opd_antb, Length: 61, dtype: float64"
      ]
     },
     "execution_count": 14,
     "metadata": {},
     "output_type": "execute_result"
    }
   ],
   "source": [
    "def ratio_op_ab(fn, ln):\n",
    "    return fn / ln\n",
    "\n",
    "df17['ratio_bene_opd_antb'] = ratio_op_ab(df17['opioid_bene_count'], df17['antibiotic_bene_count'])\n",
    "avg_ratio_bene_opd_antb_state = df17.groupby(df17['nppes_provider_state'])['ratio_bene_opd_antb'].mean()\n",
    "\n",
    "avg_ratio_bene_opd_antb_state"
   ]
  },
  {
   "cell_type": "markdown",
   "metadata": {},
   "source": [
    "#### 3.1 (b) ratio of beneficiaries with opioid prescriptions to \n",
    "#### beneficiaries with antibiotics prescriptions in each state (excluding rows with null values)"
   ]
  },
  {
   "cell_type": "code",
   "execution_count": 15,
   "metadata": {},
   "outputs": [
    {
     "data": {
      "text/html": [
       "<div>\n",
       "<style scoped>\n",
       "    .dataframe tbody tr th:only-of-type {\n",
       "        vertical-align: middle;\n",
       "    }\n",
       "\n",
       "    .dataframe tbody tr th {\n",
       "        vertical-align: top;\n",
       "    }\n",
       "\n",
       "    .dataframe thead th {\n",
       "        text-align: right;\n",
       "    }\n",
       "</style>\n",
       "<table border=\"1\" class=\"dataframe\">\n",
       "  <thead>\n",
       "    <tr style=\"text-align: right;\">\n",
       "      <th></th>\n",
       "      <th>npi</th>\n",
       "      <th>nppes_provider_state</th>\n",
       "      <th>opioid_bene_count</th>\n",
       "      <th>antibiotic_bene_count</th>\n",
       "    </tr>\n",
       "  </thead>\n",
       "  <tbody>\n",
       "    <tr>\n",
       "      <td>0</td>\n",
       "      <td>1003000126</td>\n",
       "      <td>MD</td>\n",
       "      <td>24.0</td>\n",
       "      <td>104.0</td>\n",
       "    </tr>\n",
       "    <tr>\n",
       "      <td>1</td>\n",
       "      <td>1003000142</td>\n",
       "      <td>OH</td>\n",
       "      <td>200.0</td>\n",
       "      <td>0.0</td>\n",
       "    </tr>\n",
       "    <tr>\n",
       "      <td>2</td>\n",
       "      <td>1003000167</td>\n",
       "      <td>NV</td>\n",
       "      <td>11.0</td>\n",
       "      <td>22.0</td>\n",
       "    </tr>\n",
       "    <tr>\n",
       "      <td>3</td>\n",
       "      <td>1003000175</td>\n",
       "      <td>CA</td>\n",
       "      <td>0.0</td>\n",
       "      <td>NaN</td>\n",
       "    </tr>\n",
       "    <tr>\n",
       "      <td>4</td>\n",
       "      <td>1003000282</td>\n",
       "      <td>TN</td>\n",
       "      <td>0.0</td>\n",
       "      <td>0.0</td>\n",
       "    </tr>\n",
       "  </tbody>\n",
       "</table>\n",
       "</div>"
      ],
      "text/plain": [
       "          npi nppes_provider_state  opioid_bene_count  antibiotic_bene_count\n",
       "0  1003000126                   MD               24.0                  104.0\n",
       "1  1003000142                   OH              200.0                    0.0\n",
       "2  1003000167                   NV               11.0                   22.0\n",
       "3  1003000175                   CA                0.0                    NaN\n",
       "4  1003000282                   TN                0.0                    0.0"
      ]
     },
     "execution_count": 15,
     "metadata": {},
     "output_type": "execute_result"
    }
   ],
   "source": [
    "df17a = df17[['npi','nppes_provider_state','opioid_bene_count','antibiotic_bene_count']]\n",
    "df17a.head()"
   ]
  },
  {
   "cell_type": "code",
   "execution_count": 16,
   "metadata": {},
   "outputs": [
    {
     "data": {
      "text/plain": [
       "(1162898, 4)"
      ]
     },
     "execution_count": 16,
     "metadata": {},
     "output_type": "execute_result"
    }
   ],
   "source": [
    "df17a.shape"
   ]
  },
  {
   "cell_type": "code",
   "execution_count": 17,
   "metadata": {},
   "outputs": [],
   "source": [
    "df17b1 = df17a[pd.notnull(df17a['opioid_bene_count'])]"
   ]
  },
  {
   "cell_type": "code",
   "execution_count": 18,
   "metadata": {},
   "outputs": [
    {
     "data": {
      "text/plain": [
       "(775464, 4)"
      ]
     },
     "execution_count": 18,
     "metadata": {},
     "output_type": "execute_result"
    }
   ],
   "source": [
    "df17b1.shape"
   ]
  },
  {
   "cell_type": "code",
   "execution_count": 19,
   "metadata": {},
   "outputs": [
    {
     "data": {
      "text/plain": [
       "npi                           0\n",
       "nppes_provider_state          0\n",
       "opioid_bene_count             0\n",
       "antibiotic_bene_count    234185\n",
       "dtype: int64"
      ]
     },
     "execution_count": 19,
     "metadata": {},
     "output_type": "execute_result"
    }
   ],
   "source": [
    "df17b1.isnull().sum()"
   ]
  },
  {
   "cell_type": "code",
   "execution_count": 20,
   "metadata": {},
   "outputs": [
    {
     "data": {
      "text/plain": [
       "387434"
      ]
     },
     "execution_count": 20,
     "metadata": {},
     "output_type": "execute_result"
    }
   ],
   "source": [
    "df17a['opioid_bene_count'].isnull().sum()"
   ]
  },
  {
   "cell_type": "code",
   "execution_count": 21,
   "metadata": {},
   "outputs": [],
   "source": [
    "df17b2 = df17b1[pd.notnull(df17b1['antibiotic_bene_count'])]"
   ]
  },
  {
   "cell_type": "code",
   "execution_count": 22,
   "metadata": {},
   "outputs": [
    {
     "data": {
      "text/plain": [
       "(541279, 4)"
      ]
     },
     "execution_count": 22,
     "metadata": {},
     "output_type": "execute_result"
    }
   ],
   "source": [
    "df17b2.shape"
   ]
  },
  {
   "cell_type": "code",
   "execution_count": 23,
   "metadata": {},
   "outputs": [
    {
     "data": {
      "text/plain": [
       "npi                      0\n",
       "nppes_provider_state     0\n",
       "opioid_bene_count        0\n",
       "antibiotic_bene_count    0\n",
       "dtype: int64"
      ]
     },
     "execution_count": 23,
     "metadata": {},
     "output_type": "execute_result"
    }
   ],
   "source": [
    "df17b2.isnull().sum()"
   ]
  },
  {
   "cell_type": "code",
   "execution_count": 24,
   "metadata": {},
   "outputs": [
    {
     "data": {
      "text/html": [
       "<div>\n",
       "<style scoped>\n",
       "    .dataframe tbody tr th:only-of-type {\n",
       "        vertical-align: middle;\n",
       "    }\n",
       "\n",
       "    .dataframe tbody tr th {\n",
       "        vertical-align: top;\n",
       "    }\n",
       "\n",
       "    .dataframe thead th {\n",
       "        text-align: right;\n",
       "    }\n",
       "</style>\n",
       "<table border=\"1\" class=\"dataframe\">\n",
       "  <thead>\n",
       "    <tr style=\"text-align: right;\">\n",
       "      <th></th>\n",
       "      <th>npi</th>\n",
       "      <th>nppes_provider_state</th>\n",
       "      <th>opioid_bene_count</th>\n",
       "      <th>antibiotic_bene_count</th>\n",
       "    </tr>\n",
       "  </thead>\n",
       "  <tbody>\n",
       "    <tr>\n",
       "      <td>0</td>\n",
       "      <td>1003000126</td>\n",
       "      <td>MD</td>\n",
       "      <td>24.0</td>\n",
       "      <td>104.0</td>\n",
       "    </tr>\n",
       "    <tr>\n",
       "      <td>1</td>\n",
       "      <td>1003000142</td>\n",
       "      <td>OH</td>\n",
       "      <td>200.0</td>\n",
       "      <td>0.0</td>\n",
       "    </tr>\n",
       "    <tr>\n",
       "      <td>2</td>\n",
       "      <td>1003000167</td>\n",
       "      <td>NV</td>\n",
       "      <td>11.0</td>\n",
       "      <td>22.0</td>\n",
       "    </tr>\n",
       "    <tr>\n",
       "      <td>4</td>\n",
       "      <td>1003000282</td>\n",
       "      <td>TN</td>\n",
       "      <td>0.0</td>\n",
       "      <td>0.0</td>\n",
       "    </tr>\n",
       "    <tr>\n",
       "      <td>5</td>\n",
       "      <td>1003000407</td>\n",
       "      <td>PA</td>\n",
       "      <td>11.0</td>\n",
       "      <td>55.0</td>\n",
       "    </tr>\n",
       "  </tbody>\n",
       "</table>\n",
       "</div>"
      ],
      "text/plain": [
       "          npi nppes_provider_state  opioid_bene_count  antibiotic_bene_count\n",
       "0  1003000126                   MD               24.0                  104.0\n",
       "1  1003000142                   OH              200.0                    0.0\n",
       "2  1003000167                   NV               11.0                   22.0\n",
       "4  1003000282                   TN                0.0                    0.0\n",
       "5  1003000407                   PA               11.0                   55.0"
      ]
     },
     "execution_count": 24,
     "metadata": {},
     "output_type": "execute_result"
    }
   ],
   "source": [
    "df17b2.head()"
   ]
  },
  {
   "cell_type": "code",
   "execution_count": 25,
   "metadata": {},
   "outputs": [
    {
     "data": {
      "text/plain": [
       "npi                        int64\n",
       "nppes_provider_state      object\n",
       "opioid_bene_count        float64\n",
       "antibiotic_bene_count    float64\n",
       "dtype: object"
      ]
     },
     "execution_count": 25,
     "metadata": {},
     "output_type": "execute_result"
    }
   ],
   "source": [
    "df17b2.dtypes"
   ]
  },
  {
   "cell_type": "code",
   "execution_count": 26,
   "metadata": {},
   "outputs": [],
   "source": [
    "df17b3 = df17b2.loc[(df17b2['opioid_bene_count'] != 0.0) & (df17b2['antibiotic_bene_count'] != 0.0)] "
   ]
  },
  {
   "cell_type": "code",
   "execution_count": 27,
   "metadata": {},
   "outputs": [
    {
     "data": {
      "text/plain": [
       "(346803, 4)"
      ]
     },
     "execution_count": 27,
     "metadata": {},
     "output_type": "execute_result"
    }
   ],
   "source": [
    "df17b3.shape"
   ]
  },
  {
   "cell_type": "code",
   "execution_count": 28,
   "metadata": {},
   "outputs": [
    {
     "data": {
      "text/plain": [
       "<bound method Series.unique of 0          24.0\n",
       "2          11.0\n",
       "5          11.0\n",
       "8          51.0\n",
       "9          36.0\n",
       "           ... \n",
       "1162880    57.0\n",
       "1162881    95.0\n",
       "1162885    61.0\n",
       "1162887    70.0\n",
       "1162893    27.0\n",
       "Name: opioid_bene_count, Length: 346803, dtype: float64>"
      ]
     },
     "execution_count": 28,
     "metadata": {},
     "output_type": "execute_result"
    }
   ],
   "source": [
    "df17b3['opioid_bene_count'].unique"
   ]
  },
  {
   "cell_type": "code",
   "execution_count": 29,
   "metadata": {},
   "outputs": [
    {
     "data": {
      "text/plain": [
       "<bound method Series.unique of 0          104.0\n",
       "2           22.0\n",
       "5           55.0\n",
       "8           98.0\n",
       "9           89.0\n",
       "           ...  \n",
       "1162880     22.0\n",
       "1162881    291.0\n",
       "1162885     63.0\n",
       "1162887    145.0\n",
       "1162893     59.0\n",
       "Name: antibiotic_bene_count, Length: 346803, dtype: float64>"
      ]
     },
     "execution_count": 29,
     "metadata": {},
     "output_type": "execute_result"
    }
   ],
   "source": [
    "df17b3['antibiotic_bene_count'].unique"
   ]
  },
  {
   "cell_type": "code",
   "execution_count": 30,
   "metadata": {},
   "outputs": [
    {
     "data": {
      "text/html": [
       "<div>\n",
       "<style scoped>\n",
       "    .dataframe tbody tr th:only-of-type {\n",
       "        vertical-align: middle;\n",
       "    }\n",
       "\n",
       "    .dataframe tbody tr th {\n",
       "        vertical-align: top;\n",
       "    }\n",
       "\n",
       "    .dataframe thead th {\n",
       "        text-align: right;\n",
       "    }\n",
       "</style>\n",
       "<table border=\"1\" class=\"dataframe\">\n",
       "  <thead>\n",
       "    <tr style=\"text-align: right;\">\n",
       "      <th></th>\n",
       "      <th>npi</th>\n",
       "      <th>nppes_provider_state</th>\n",
       "      <th>opioid_bene_count</th>\n",
       "      <th>antibiotic_bene_count</th>\n",
       "    </tr>\n",
       "  </thead>\n",
       "  <tbody>\n",
       "    <tr>\n",
       "      <td>0</td>\n",
       "      <td>1003000126</td>\n",
       "      <td>MD</td>\n",
       "      <td>24.0</td>\n",
       "      <td>104.0</td>\n",
       "    </tr>\n",
       "    <tr>\n",
       "      <td>2</td>\n",
       "      <td>1003000167</td>\n",
       "      <td>NV</td>\n",
       "      <td>11.0</td>\n",
       "      <td>22.0</td>\n",
       "    </tr>\n",
       "    <tr>\n",
       "      <td>5</td>\n",
       "      <td>1003000407</td>\n",
       "      <td>PA</td>\n",
       "      <td>11.0</td>\n",
       "      <td>55.0</td>\n",
       "    </tr>\n",
       "    <tr>\n",
       "      <td>8</td>\n",
       "      <td>1003000522</td>\n",
       "      <td>FL</td>\n",
       "      <td>51.0</td>\n",
       "      <td>98.0</td>\n",
       "    </tr>\n",
       "    <tr>\n",
       "      <td>9</td>\n",
       "      <td>1003000530</td>\n",
       "      <td>PA</td>\n",
       "      <td>36.0</td>\n",
       "      <td>89.0</td>\n",
       "    </tr>\n",
       "    <tr>\n",
       "      <td>10</td>\n",
       "      <td>1003000597</td>\n",
       "      <td>OK</td>\n",
       "      <td>77.0</td>\n",
       "      <td>96.0</td>\n",
       "    </tr>\n",
       "    <tr>\n",
       "      <td>16</td>\n",
       "      <td>1003000902</td>\n",
       "      <td>KY</td>\n",
       "      <td>53.0</td>\n",
       "      <td>112.0</td>\n",
       "    </tr>\n",
       "    <tr>\n",
       "      <td>21</td>\n",
       "      <td>1003001256</td>\n",
       "      <td>CO</td>\n",
       "      <td>19.0</td>\n",
       "      <td>14.0</td>\n",
       "    </tr>\n",
       "    <tr>\n",
       "      <td>26</td>\n",
       "      <td>1003001587</td>\n",
       "      <td>CT</td>\n",
       "      <td>23.0</td>\n",
       "      <td>28.0</td>\n",
       "    </tr>\n",
       "    <tr>\n",
       "      <td>31</td>\n",
       "      <td>1003001884</td>\n",
       "      <td>MI</td>\n",
       "      <td>26.0</td>\n",
       "      <td>58.0</td>\n",
       "    </tr>\n",
       "  </tbody>\n",
       "</table>\n",
       "</div>"
      ],
      "text/plain": [
       "           npi nppes_provider_state  opioid_bene_count  antibiotic_bene_count\n",
       "0   1003000126                   MD               24.0                  104.0\n",
       "2   1003000167                   NV               11.0                   22.0\n",
       "5   1003000407                   PA               11.0                   55.0\n",
       "8   1003000522                   FL               51.0                   98.0\n",
       "9   1003000530                   PA               36.0                   89.0\n",
       "10  1003000597                   OK               77.0                   96.0\n",
       "16  1003000902                   KY               53.0                  112.0\n",
       "21  1003001256                   CO               19.0                   14.0\n",
       "26  1003001587                   CT               23.0                   28.0\n",
       "31  1003001884                   MI               26.0                   58.0"
      ]
     },
     "execution_count": 30,
     "metadata": {},
     "output_type": "execute_result"
    }
   ],
   "source": [
    "df17b3.head(10)"
   ]
  },
  {
   "cell_type": "code",
   "execution_count": 31,
   "metadata": {},
   "outputs": [
    {
     "name": "stderr",
     "output_type": "stream",
     "text": [
      "/Applications/anaconda3/lib/python3.7/site-packages/ipykernel_launcher.py:4: SettingWithCopyWarning: \n",
      "A value is trying to be set on a copy of a slice from a DataFrame.\n",
      "Try using .loc[row_indexer,col_indexer] = value instead\n",
      "\n",
      "See the caveats in the documentation: http://pandas.pydata.org/pandas-docs/stable/user_guide/indexing.html#returning-a-view-versus-a-copy\n",
      "  after removing the cwd from sys.path.\n"
     ]
    }
   ],
   "source": [
    "def ratio_opid_antib(fn, ln):\n",
    "    return fn / ln\n",
    "\n",
    "df17b3['ratio_bene_opid_antib'] = ratio_opid_antib(df17b3['opioid_bene_count'], df17b3['antibiotic_bene_count'])\n"
   ]
  },
  {
   "cell_type": "code",
   "execution_count": 32,
   "metadata": {},
   "outputs": [
    {
     "data": {
      "text/plain": [
       "nppes_provider_state\n",
       "AA    0.648546\n",
       "AE    0.822766\n",
       "AK    0.979123\n",
       "AL    1.414440\n",
       "AP    0.759456\n",
       "        ...   \n",
       "WI    0.982913\n",
       "WV    1.042236\n",
       "WY    0.916116\n",
       "XX    1.104397\n",
       "ZZ    0.761130\n",
       "Name: ratio_bene_opid_antib, Length: 61, dtype: float64"
      ]
     },
     "execution_count": 32,
     "metadata": {},
     "output_type": "execute_result"
    }
   ],
   "source": [
    "avg_ratio_bene_opid_antib_state = df17b3.groupby(df17b3['nppes_provider_state'])['ratio_bene_opid_antib'].mean()\n",
    "\n",
    "avg_ratio_bene_opid_antib_state"
   ]
  },
  {
   "cell_type": "markdown",
   "metadata": {},
   "source": [
    "#### 3.2 assuming each beneficiary attends only a single provider, difference between the largest and smallest ratios"
   ]
  },
  {
   "cell_type": "code",
   "execution_count": 34,
   "metadata": {},
   "outputs": [
    {
     "data": {
      "text/plain": [
       "189.53282828282826"
      ]
     },
     "execution_count": 34,
     "metadata": {},
     "output_type": "execute_result"
    }
   ],
   "source": [
    "min_ratio = df17b3['ratio_bene_opid_antib'].min()\n",
    "max_ratio = df17b3['ratio_bene_opid_antib'].max()\n",
    "\n",
    "diff_bet_min_max = max_ratio - min_ratio\n",
    "diff_bet_min_max"
   ]
  },
  {
   "cell_type": "code",
   "execution_count": 35,
   "metadata": {},
   "outputs": [
    {
     "data": {
      "text/plain": [
       "0.012626262626262626"
      ]
     },
     "execution_count": 35,
     "metadata": {},
     "output_type": "execute_result"
    }
   ],
   "source": [
    "min_ratio"
   ]
  },
  {
   "cell_type": "code",
   "execution_count": 36,
   "metadata": {},
   "outputs": [
    {
     "data": {
      "text/plain": [
       "189.54545454545453"
      ]
     },
     "execution_count": 36,
     "metadata": {},
     "output_type": "execute_result"
    }
   ],
   "source": [
    "max_ratio"
   ]
  },
  {
   "cell_type": "markdown",
   "metadata": {},
   "source": [
    "### Problem 4:"
   ]
  },
  {
   "cell_type": "code",
   "execution_count": 37,
   "metadata": {},
   "outputs": [],
   "source": [
    "df_op = df17[['npi','nppes_provider_state','specialty_description','opioid_claim_count','opioid_day_supply']]"
   ]
  },
  {
   "cell_type": "code",
   "execution_count": 38,
   "metadata": {},
   "outputs": [
    {
     "data": {
      "text/plain": [
       "(1162898, 5)"
      ]
     },
     "execution_count": 38,
     "metadata": {},
     "output_type": "execute_result"
    }
   ],
   "source": [
    "df_op.shape"
   ]
  },
  {
   "cell_type": "code",
   "execution_count": 39,
   "metadata": {},
   "outputs": [
    {
     "data": {
      "text/html": [
       "<div>\n",
       "<style scoped>\n",
       "    .dataframe tbody tr th:only-of-type {\n",
       "        vertical-align: middle;\n",
       "    }\n",
       "\n",
       "    .dataframe tbody tr th {\n",
       "        vertical-align: top;\n",
       "    }\n",
       "\n",
       "    .dataframe thead th {\n",
       "        text-align: right;\n",
       "    }\n",
       "</style>\n",
       "<table border=\"1\" class=\"dataframe\">\n",
       "  <thead>\n",
       "    <tr style=\"text-align: right;\">\n",
       "      <th></th>\n",
       "      <th>npi</th>\n",
       "      <th>nppes_provider_state</th>\n",
       "      <th>specialty_description</th>\n",
       "      <th>opioid_claim_count</th>\n",
       "      <th>opioid_day_supply</th>\n",
       "    </tr>\n",
       "  </thead>\n",
       "  <tbody>\n",
       "    <tr>\n",
       "      <td>0</td>\n",
       "      <td>1003000126</td>\n",
       "      <td>MD</td>\n",
       "      <td>Internal Medicine</td>\n",
       "      <td>25.0</td>\n",
       "      <td>134.0</td>\n",
       "    </tr>\n",
       "    <tr>\n",
       "      <td>1</td>\n",
       "      <td>1003000142</td>\n",
       "      <td>OH</td>\n",
       "      <td>Anesthesiology</td>\n",
       "      <td>1040.0</td>\n",
       "      <td>29238.0</td>\n",
       "    </tr>\n",
       "    <tr>\n",
       "      <td>2</td>\n",
       "      <td>1003000167</td>\n",
       "      <td>NV</td>\n",
       "      <td>Dentist</td>\n",
       "      <td>14.0</td>\n",
       "      <td>35.0</td>\n",
       "    </tr>\n",
       "    <tr>\n",
       "      <td>3</td>\n",
       "      <td>1003000175</td>\n",
       "      <td>CA</td>\n",
       "      <td>Dentist</td>\n",
       "      <td>0.0</td>\n",
       "      <td>0.0</td>\n",
       "    </tr>\n",
       "    <tr>\n",
       "      <td>4</td>\n",
       "      <td>1003000282</td>\n",
       "      <td>TN</td>\n",
       "      <td>Nurse Practitioner</td>\n",
       "      <td>0.0</td>\n",
       "      <td>0.0</td>\n",
       "    </tr>\n",
       "  </tbody>\n",
       "</table>\n",
       "</div>"
      ],
      "text/plain": [
       "          npi nppes_provider_state specialty_description  opioid_claim_count  \\\n",
       "0  1003000126                   MD     Internal Medicine                25.0   \n",
       "1  1003000142                   OH        Anesthesiology              1040.0   \n",
       "2  1003000167                   NV               Dentist                14.0   \n",
       "3  1003000175                   CA               Dentist                 0.0   \n",
       "4  1003000282                   TN    Nurse Practitioner                 0.0   \n",
       "\n",
       "   opioid_day_supply  \n",
       "0              134.0  \n",
       "1            29238.0  \n",
       "2               35.0  \n",
       "3                0.0  \n",
       "4                0.0  "
      ]
     },
     "execution_count": 39,
     "metadata": {},
     "output_type": "execute_result"
    }
   ],
   "source": [
    "df_op.head()"
   ]
  },
  {
   "cell_type": "code",
   "execution_count": 40,
   "metadata": {},
   "outputs": [],
   "source": [
    "# 4.1 - states that have surprisingly high supply of opioids, conditioned on specialty "
   ]
  },
  {
   "cell_type": "code",
   "execution_count": 41,
   "metadata": {},
   "outputs": [
    {
     "data": {
      "text/html": [
       "<div>\n",
       "<style scoped>\n",
       "    .dataframe tbody tr th:only-of-type {\n",
       "        vertical-align: middle;\n",
       "    }\n",
       "\n",
       "    .dataframe tbody tr th {\n",
       "        vertical-align: top;\n",
       "    }\n",
       "\n",
       "    .dataframe thead th {\n",
       "        text-align: right;\n",
       "    }\n",
       "</style>\n",
       "<table border=\"1\" class=\"dataframe\">\n",
       "  <thead>\n",
       "    <tr style=\"text-align: right;\">\n",
       "      <th></th>\n",
       "      <th>npi</th>\n",
       "      <th>nppes_provider_state</th>\n",
       "      <th>specialty_description</th>\n",
       "      <th>opioid_day_supply</th>\n",
       "    </tr>\n",
       "  </thead>\n",
       "  <tbody>\n",
       "    <tr>\n",
       "      <td>0</td>\n",
       "      <td>1003000126</td>\n",
       "      <td>MD</td>\n",
       "      <td>Internal Medicine</td>\n",
       "      <td>134.0</td>\n",
       "    </tr>\n",
       "    <tr>\n",
       "      <td>1</td>\n",
       "      <td>1003000142</td>\n",
       "      <td>OH</td>\n",
       "      <td>Anesthesiology</td>\n",
       "      <td>29238.0</td>\n",
       "    </tr>\n",
       "    <tr>\n",
       "      <td>2</td>\n",
       "      <td>1003000167</td>\n",
       "      <td>NV</td>\n",
       "      <td>Dentist</td>\n",
       "      <td>35.0</td>\n",
       "    </tr>\n",
       "    <tr>\n",
       "      <td>3</td>\n",
       "      <td>1003000175</td>\n",
       "      <td>CA</td>\n",
       "      <td>Dentist</td>\n",
       "      <td>0.0</td>\n",
       "    </tr>\n",
       "    <tr>\n",
       "      <td>4</td>\n",
       "      <td>1003000282</td>\n",
       "      <td>TN</td>\n",
       "      <td>Nurse Practitioner</td>\n",
       "      <td>0.0</td>\n",
       "    </tr>\n",
       "    <tr>\n",
       "      <td>...</td>\n",
       "      <td>...</td>\n",
       "      <td>...</td>\n",
       "      <td>...</td>\n",
       "      <td>...</td>\n",
       "    </tr>\n",
       "    <tr>\n",
       "      <td>1162893</td>\n",
       "      <td>1992999825</td>\n",
       "      <td>WA</td>\n",
       "      <td>Otolaryngology</td>\n",
       "      <td>131.0</td>\n",
       "    </tr>\n",
       "    <tr>\n",
       "      <td>1162894</td>\n",
       "      <td>1992999833</td>\n",
       "      <td>NY</td>\n",
       "      <td>Psychoanalyst</td>\n",
       "      <td>0.0</td>\n",
       "    </tr>\n",
       "    <tr>\n",
       "      <td>1162895</td>\n",
       "      <td>1992999866</td>\n",
       "      <td>FL</td>\n",
       "      <td>Dentist</td>\n",
       "      <td>NaN</td>\n",
       "    </tr>\n",
       "    <tr>\n",
       "      <td>1162896</td>\n",
       "      <td>1992999874</td>\n",
       "      <td>VA</td>\n",
       "      <td>Internal Medicine</td>\n",
       "      <td>NaN</td>\n",
       "    </tr>\n",
       "    <tr>\n",
       "      <td>1162897</td>\n",
       "      <td>1992999882</td>\n",
       "      <td>PA</td>\n",
       "      <td>Physician Assistant</td>\n",
       "      <td>0.0</td>\n",
       "    </tr>\n",
       "  </tbody>\n",
       "</table>\n",
       "<p>1162898 rows × 4 columns</p>\n",
       "</div>"
      ],
      "text/plain": [
       "                npi nppes_provider_state specialty_description  \\\n",
       "0        1003000126                   MD     Internal Medicine   \n",
       "1        1003000142                   OH        Anesthesiology   \n",
       "2        1003000167                   NV               Dentist   \n",
       "3        1003000175                   CA               Dentist   \n",
       "4        1003000282                   TN    Nurse Practitioner   \n",
       "...             ...                  ...                   ...   \n",
       "1162893  1992999825                   WA        Otolaryngology   \n",
       "1162894  1992999833                   NY         Psychoanalyst   \n",
       "1162895  1992999866                   FL               Dentist   \n",
       "1162896  1992999874                   VA     Internal Medicine   \n",
       "1162897  1992999882                   PA   Physician Assistant   \n",
       "\n",
       "         opioid_day_supply  \n",
       "0                    134.0  \n",
       "1                  29238.0  \n",
       "2                     35.0  \n",
       "3                      0.0  \n",
       "4                      0.0  \n",
       "...                    ...  \n",
       "1162893              131.0  \n",
       "1162894                0.0  \n",
       "1162895                NaN  \n",
       "1162896                NaN  \n",
       "1162897                0.0  \n",
       "\n",
       "[1162898 rows x 4 columns]"
      ]
     },
     "execution_count": 41,
     "metadata": {},
     "output_type": "execute_result"
    }
   ],
   "source": [
    "df_op_supply = df_op[['npi','nppes_provider_state','specialty_description','opioid_day_supply']]\n",
    "df_op_supply"
   ]
  },
  {
   "cell_type": "code",
   "execution_count": 42,
   "metadata": {},
   "outputs": [],
   "source": [
    "df_op_supply1 = df_op_supply[pd.notnull(df_op_supply['opioid_day_supply'])]"
   ]
  },
  {
   "cell_type": "code",
   "execution_count": 43,
   "metadata": {},
   "outputs": [
    {
     "data": {
      "text/html": [
       "<div>\n",
       "<style scoped>\n",
       "    .dataframe tbody tr th:only-of-type {\n",
       "        vertical-align: middle;\n",
       "    }\n",
       "\n",
       "    .dataframe tbody tr th {\n",
       "        vertical-align: top;\n",
       "    }\n",
       "\n",
       "    .dataframe thead th {\n",
       "        text-align: right;\n",
       "    }\n",
       "</style>\n",
       "<table border=\"1\" class=\"dataframe\">\n",
       "  <thead>\n",
       "    <tr style=\"text-align: right;\">\n",
       "      <th></th>\n",
       "      <th>npi</th>\n",
       "      <th>nppes_provider_state</th>\n",
       "      <th>specialty_description</th>\n",
       "      <th>opioid_day_supply</th>\n",
       "    </tr>\n",
       "  </thead>\n",
       "  <tbody>\n",
       "    <tr>\n",
       "      <td>0</td>\n",
       "      <td>1003000126</td>\n",
       "      <td>MD</td>\n",
       "      <td>Internal Medicine</td>\n",
       "      <td>134.0</td>\n",
       "    </tr>\n",
       "    <tr>\n",
       "      <td>1</td>\n",
       "      <td>1003000142</td>\n",
       "      <td>OH</td>\n",
       "      <td>Anesthesiology</td>\n",
       "      <td>29238.0</td>\n",
       "    </tr>\n",
       "    <tr>\n",
       "      <td>2</td>\n",
       "      <td>1003000167</td>\n",
       "      <td>NV</td>\n",
       "      <td>Dentist</td>\n",
       "      <td>35.0</td>\n",
       "    </tr>\n",
       "    <tr>\n",
       "      <td>3</td>\n",
       "      <td>1003000175</td>\n",
       "      <td>CA</td>\n",
       "      <td>Dentist</td>\n",
       "      <td>0.0</td>\n",
       "    </tr>\n",
       "    <tr>\n",
       "      <td>4</td>\n",
       "      <td>1003000282</td>\n",
       "      <td>TN</td>\n",
       "      <td>Nurse Practitioner</td>\n",
       "      <td>0.0</td>\n",
       "    </tr>\n",
       "  </tbody>\n",
       "</table>\n",
       "</div>"
      ],
      "text/plain": [
       "          npi nppes_provider_state specialty_description  opioid_day_supply\n",
       "0  1003000126                   MD     Internal Medicine              134.0\n",
       "1  1003000142                   OH        Anesthesiology            29238.0\n",
       "2  1003000167                   NV               Dentist               35.0\n",
       "3  1003000175                   CA               Dentist                0.0\n",
       "4  1003000282                   TN    Nurse Practitioner                0.0"
      ]
     },
     "execution_count": 43,
     "metadata": {},
     "output_type": "execute_result"
    }
   ],
   "source": [
    "df_op_supply1.head()"
   ]
  },
  {
   "cell_type": "code",
   "execution_count": 44,
   "metadata": {},
   "outputs": [],
   "source": [
    "df_op_supply2 = df_op_supply1.loc[(df_op_supply1['opioid_day_supply'] != 0.0)]"
   ]
  },
  {
   "cell_type": "code",
   "execution_count": 45,
   "metadata": {},
   "outputs": [
    {
     "data": {
      "text/plain": [
       "(491831, 4)"
      ]
     },
     "execution_count": 45,
     "metadata": {},
     "output_type": "execute_result"
    }
   ],
   "source": [
    "df_op_supply2.shape"
   ]
  },
  {
   "cell_type": "code",
   "execution_count": 46,
   "metadata": {},
   "outputs": [
    {
     "data": {
      "text/plain": [
       "<bound method Series.unique of 0            134.0\n",
       "1          29238.0\n",
       "2             35.0\n",
       "5            622.0\n",
       "8           3509.0\n",
       "            ...   \n",
       "1162885      435.0\n",
       "1162887     5227.0\n",
       "1162891     1952.0\n",
       "1162892       85.0\n",
       "1162893      131.0\n",
       "Name: opioid_day_supply, Length: 491831, dtype: float64>"
      ]
     },
     "execution_count": 46,
     "metadata": {},
     "output_type": "execute_result"
    }
   ],
   "source": [
    "df_op_supply2['opioid_day_supply'].unique"
   ]
  },
  {
   "cell_type": "code",
   "execution_count": 47,
   "metadata": {},
   "outputs": [
    {
     "data": {
      "text/plain": [
       "array(['MD', 'OH', 'NV', 'PA', 'FL', 'OK', 'KY', 'CO', 'CA', 'TX', 'CT',\n",
       "       'MI', 'NJ', 'MA', 'MS', 'NY', 'SC', 'MN', 'WA', 'DC', 'NC', 'IA',\n",
       "       'AZ', 'LA', 'VA', 'AR', 'HI', 'OR', 'KS', 'RI', 'WI', 'ID', 'IN',\n",
       "       'NM', 'TN', 'PR', 'GA', 'WV', 'VT', 'AL', 'ME', 'ND', 'AE', 'MO',\n",
       "       'IL', 'UT', 'NH', 'NE', 'DE', 'MT', 'WY', 'SD', 'AK', 'ZZ', 'AP',\n",
       "       'MP', 'AA', 'GU', 'VI', 'XX', 'AS'], dtype=object)"
      ]
     },
     "execution_count": 47,
     "metadata": {},
     "output_type": "execute_result"
    }
   ],
   "source": [
    "df_op_supply2['nppes_provider_state'].unique()"
   ]
  },
  {
   "cell_type": "code",
   "execution_count": 49,
   "metadata": {},
   "outputs": [],
   "source": [
    "df_op_sort_by_state_specialty = df_op_supply2.sort_values(by=['nppes_provider_state',\n",
    "                                                              'specialty_description',\n",
    "                                                              'opioid_day_supply'], ascending = False)"
   ]
  },
  {
   "cell_type": "code",
   "execution_count": 50,
   "metadata": {
    "scrolled": true
   },
   "outputs": [
    {
     "data": {
      "text/html": [
       "<div>\n",
       "<style scoped>\n",
       "    .dataframe tbody tr th:only-of-type {\n",
       "        vertical-align: middle;\n",
       "    }\n",
       "\n",
       "    .dataframe tbody tr th {\n",
       "        vertical-align: top;\n",
       "    }\n",
       "\n",
       "    .dataframe thead th {\n",
       "        text-align: right;\n",
       "    }\n",
       "</style>\n",
       "<table border=\"1\" class=\"dataframe\">\n",
       "  <thead>\n",
       "    <tr style=\"text-align: right;\">\n",
       "      <th></th>\n",
       "      <th>npi</th>\n",
       "      <th>nppes_provider_state</th>\n",
       "      <th>specialty_description</th>\n",
       "      <th>opioid_day_supply</th>\n",
       "    </tr>\n",
       "  </thead>\n",
       "  <tbody>\n",
       "    <tr>\n",
       "      <td>314445</td>\n",
       "      <td>1265986087</td>\n",
       "      <td>ZZ</td>\n",
       "      <td>Urology</td>\n",
       "      <td>146.0</td>\n",
       "    </tr>\n",
       "    <tr>\n",
       "      <td>80950</td>\n",
       "      <td>1063934396</td>\n",
       "      <td>ZZ</td>\n",
       "      <td>Student in an Organized Health Care Education/...</td>\n",
       "      <td>63.0</td>\n",
       "    </tr>\n",
       "    <tr>\n",
       "      <td>792103</td>\n",
       "      <td>1689029159</td>\n",
       "      <td>ZZ</td>\n",
       "      <td>Student in an Organized Health Care Education/...</td>\n",
       "      <td>54.0</td>\n",
       "    </tr>\n",
       "    <tr>\n",
       "      <td>996041</td>\n",
       "      <td>1851594634</td>\n",
       "      <td>ZZ</td>\n",
       "      <td>Physician Assistant</td>\n",
       "      <td>13028.0</td>\n",
       "    </tr>\n",
       "    <tr>\n",
       "      <td>22357</td>\n",
       "      <td>1013975481</td>\n",
       "      <td>ZZ</td>\n",
       "      <td>Physician Assistant</td>\n",
       "      <td>1378.0</td>\n",
       "    </tr>\n",
       "    <tr>\n",
       "      <td>795317</td>\n",
       "      <td>1689644619</td>\n",
       "      <td>ZZ</td>\n",
       "      <td>Physician Assistant</td>\n",
       "      <td>391.0</td>\n",
       "    </tr>\n",
       "    <tr>\n",
       "      <td>350926</td>\n",
       "      <td>1306071816</td>\n",
       "      <td>ZZ</td>\n",
       "      <td>Physician Assistant</td>\n",
       "      <td>62.0</td>\n",
       "    </tr>\n",
       "    <tr>\n",
       "      <td>65437</td>\n",
       "      <td>1053571794</td>\n",
       "      <td>ZZ</td>\n",
       "      <td>Otolaryngology</td>\n",
       "      <td>224.0</td>\n",
       "    </tr>\n",
       "    <tr>\n",
       "      <td>238970</td>\n",
       "      <td>1205819497</td>\n",
       "      <td>ZZ</td>\n",
       "      <td>Otolaryngology</td>\n",
       "      <td>118.0</td>\n",
       "    </tr>\n",
       "    <tr>\n",
       "      <td>912280</td>\n",
       "      <td>1780679258</td>\n",
       "      <td>ZZ</td>\n",
       "      <td>Orthopedic Surgery</td>\n",
       "      <td>134.0</td>\n",
       "    </tr>\n",
       "    <tr>\n",
       "      <td>938502</td>\n",
       "      <td>1801875836</td>\n",
       "      <td>ZZ</td>\n",
       "      <td>Oral Surgery (Dentist only)</td>\n",
       "      <td>1309.0</td>\n",
       "    </tr>\n",
       "    <tr>\n",
       "      <td>796029</td>\n",
       "      <td>1689661845</td>\n",
       "      <td>ZZ</td>\n",
       "      <td>Oral Surgery (Dentist only)</td>\n",
       "      <td>261.0</td>\n",
       "    </tr>\n",
       "    <tr>\n",
       "      <td>1157972</td>\n",
       "      <td>1992780407</td>\n",
       "      <td>ZZ</td>\n",
       "      <td>Obstetrics &amp; Gynecology</td>\n",
       "      <td>79.0</td>\n",
       "    </tr>\n",
       "    <tr>\n",
       "      <td>1054977</td>\n",
       "      <td>1902888563</td>\n",
       "      <td>ZZ</td>\n",
       "      <td>Internal Medicine</td>\n",
       "      <td>6652.0</td>\n",
       "    </tr>\n",
       "    <tr>\n",
       "      <td>350381</td>\n",
       "      <td>1306043484</td>\n",
       "      <td>ZZ</td>\n",
       "      <td>Internal Medicine</td>\n",
       "      <td>3117.0</td>\n",
       "    </tr>\n",
       "    <tr>\n",
       "      <td>967251</td>\n",
       "      <td>1831164607</td>\n",
       "      <td>ZZ</td>\n",
       "      <td>Internal Medicine</td>\n",
       "      <td>131.0</td>\n",
       "    </tr>\n",
       "    <tr>\n",
       "      <td>731942</td>\n",
       "      <td>1629468145</td>\n",
       "      <td>ZZ</td>\n",
       "      <td>General Surgery</td>\n",
       "      <td>83.0</td>\n",
       "    </tr>\n",
       "    <tr>\n",
       "      <td>184882</td>\n",
       "      <td>1154774933</td>\n",
       "      <td>ZZ</td>\n",
       "      <td>General Practice</td>\n",
       "      <td>1449.0</td>\n",
       "    </tr>\n",
       "    <tr>\n",
       "      <td>746982</td>\n",
       "      <td>1649254392</td>\n",
       "      <td>ZZ</td>\n",
       "      <td>General Practice</td>\n",
       "      <td>249.0</td>\n",
       "    </tr>\n",
       "    <tr>\n",
       "      <td>642710</td>\n",
       "      <td>1558358077</td>\n",
       "      <td>ZZ</td>\n",
       "      <td>Family Practice</td>\n",
       "      <td>21078.0</td>\n",
       "    </tr>\n",
       "    <tr>\n",
       "      <td>725082</td>\n",
       "      <td>1629097506</td>\n",
       "      <td>ZZ</td>\n",
       "      <td>Family Practice</td>\n",
       "      <td>5494.0</td>\n",
       "    </tr>\n",
       "    <tr>\n",
       "      <td>892147</td>\n",
       "      <td>1760726707</td>\n",
       "      <td>ZZ</td>\n",
       "      <td>Family Practice</td>\n",
       "      <td>2130.0</td>\n",
       "    </tr>\n",
       "    <tr>\n",
       "      <td>618119</td>\n",
       "      <td>1538128665</td>\n",
       "      <td>ZZ</td>\n",
       "      <td>Family Practice</td>\n",
       "      <td>1800.0</td>\n",
       "    </tr>\n",
       "    <tr>\n",
       "      <td>278211</td>\n",
       "      <td>1235576695</td>\n",
       "      <td>ZZ</td>\n",
       "      <td>Family Practice</td>\n",
       "      <td>553.0</td>\n",
       "    </tr>\n",
       "    <tr>\n",
       "      <td>998726</td>\n",
       "      <td>1851757348</td>\n",
       "      <td>ZZ</td>\n",
       "      <td>Family Practice</td>\n",
       "      <td>391.0</td>\n",
       "    </tr>\n",
       "    <tr>\n",
       "      <td>12392</td>\n",
       "      <td>1013025915</td>\n",
       "      <td>ZZ</td>\n",
       "      <td>Family Practice</td>\n",
       "      <td>341.0</td>\n",
       "    </tr>\n",
       "    <tr>\n",
       "      <td>1145528</td>\n",
       "      <td>1982699302</td>\n",
       "      <td>ZZ</td>\n",
       "      <td>Family Practice</td>\n",
       "      <td>307.0</td>\n",
       "    </tr>\n",
       "    <tr>\n",
       "      <td>665686</td>\n",
       "      <td>1578542957</td>\n",
       "      <td>ZZ</td>\n",
       "      <td>Family Practice</td>\n",
       "      <td>290.0</td>\n",
       "    </tr>\n",
       "    <tr>\n",
       "      <td>1133466</td>\n",
       "      <td>1972661726</td>\n",
       "      <td>ZZ</td>\n",
       "      <td>Emergency Medicine</td>\n",
       "      <td>384.0</td>\n",
       "    </tr>\n",
       "    <tr>\n",
       "      <td>956078</td>\n",
       "      <td>1821076738</td>\n",
       "      <td>ZZ</td>\n",
       "      <td>Emergency Medicine</td>\n",
       "      <td>320.0</td>\n",
       "    </tr>\n",
       "    <tr>\n",
       "      <td>357285</td>\n",
       "      <td>1306854732</td>\n",
       "      <td>ZZ</td>\n",
       "      <td>Emergency Medicine</td>\n",
       "      <td>209.0</td>\n",
       "    </tr>\n",
       "    <tr>\n",
       "      <td>130529</td>\n",
       "      <td>1114140811</td>\n",
       "      <td>ZZ</td>\n",
       "      <td>Emergency Medicine</td>\n",
       "      <td>46.0</td>\n",
       "    </tr>\n",
       "    <tr>\n",
       "      <td>623128</td>\n",
       "      <td>1538289293</td>\n",
       "      <td>ZZ</td>\n",
       "      <td>Dentist</td>\n",
       "      <td>807.0</td>\n",
       "    </tr>\n",
       "    <tr>\n",
       "      <td>224553</td>\n",
       "      <td>1194701524</td>\n",
       "      <td>ZZ</td>\n",
       "      <td>Dentist</td>\n",
       "      <td>253.0</td>\n",
       "    </tr>\n",
       "    <tr>\n",
       "      <td>684087</td>\n",
       "      <td>1588833677</td>\n",
       "      <td>ZZ</td>\n",
       "      <td>Dentist</td>\n",
       "      <td>205.0</td>\n",
       "    </tr>\n",
       "    <tr>\n",
       "      <td>1062551</td>\n",
       "      <td>1912241035</td>\n",
       "      <td>ZZ</td>\n",
       "      <td>Dentist</td>\n",
       "      <td>193.0</td>\n",
       "    </tr>\n",
       "    <tr>\n",
       "      <td>147402</td>\n",
       "      <td>1124318555</td>\n",
       "      <td>ZZ</td>\n",
       "      <td>Dentist</td>\n",
       "      <td>165.0</td>\n",
       "    </tr>\n",
       "    <tr>\n",
       "      <td>770946</td>\n",
       "      <td>1669467213</td>\n",
       "      <td>ZZ</td>\n",
       "      <td>Dentist</td>\n",
       "      <td>143.0</td>\n",
       "    </tr>\n",
       "    <tr>\n",
       "      <td>1088796</td>\n",
       "      <td>1932389574</td>\n",
       "      <td>ZZ</td>\n",
       "      <td>Dentist</td>\n",
       "      <td>113.0</td>\n",
       "    </tr>\n",
       "    <tr>\n",
       "      <td>972682</td>\n",
       "      <td>1831384247</td>\n",
       "      <td>ZZ</td>\n",
       "      <td>Dentist</td>\n",
       "      <td>97.0</td>\n",
       "    </tr>\n",
       "    <tr>\n",
       "      <td>25020</td>\n",
       "      <td>1023043734</td>\n",
       "      <td>ZZ</td>\n",
       "      <td>Dentist</td>\n",
       "      <td>96.0</td>\n",
       "    </tr>\n",
       "    <tr>\n",
       "      <td>781525</td>\n",
       "      <td>1679532550</td>\n",
       "      <td>ZZ</td>\n",
       "      <td>Dentist</td>\n",
       "      <td>93.0</td>\n",
       "    </tr>\n",
       "    <tr>\n",
       "      <td>808675</td>\n",
       "      <td>1699752410</td>\n",
       "      <td>ZZ</td>\n",
       "      <td>Dentist</td>\n",
       "      <td>71.0</td>\n",
       "    </tr>\n",
       "    <tr>\n",
       "      <td>292140</td>\n",
       "      <td>1255328068</td>\n",
       "      <td>ZZ</td>\n",
       "      <td>Dentist</td>\n",
       "      <td>59.0</td>\n",
       "    </tr>\n",
       "    <tr>\n",
       "      <td>1005652</td>\n",
       "      <td>1861582801</td>\n",
       "      <td>ZZ</td>\n",
       "      <td>Dentist</td>\n",
       "      <td>31.0</td>\n",
       "    </tr>\n",
       "    <tr>\n",
       "      <td>25823</td>\n",
       "      <td>1023067295</td>\n",
       "      <td>ZZ</td>\n",
       "      <td>Dentist</td>\n",
       "      <td>30.0</td>\n",
       "    </tr>\n",
       "    <tr>\n",
       "      <td>618600</td>\n",
       "      <td>1538140124</td>\n",
       "      <td>ZZ</td>\n",
       "      <td>Dentist</td>\n",
       "      <td>29.0</td>\n",
       "    </tr>\n",
       "    <tr>\n",
       "      <td>148956</td>\n",
       "      <td>1124415773</td>\n",
       "      <td>XX</td>\n",
       "      <td>Nurse Practitioner</td>\n",
       "      <td>15438.0</td>\n",
       "    </tr>\n",
       "    <tr>\n",
       "      <td>358905</td>\n",
       "      <td>1306903265</td>\n",
       "      <td>XX</td>\n",
       "      <td>Internal Medicine</td>\n",
       "      <td>10073.0</td>\n",
       "    </tr>\n",
       "    <tr>\n",
       "      <td>292165</td>\n",
       "      <td>1255328753</td>\n",
       "      <td>XX</td>\n",
       "      <td>General Surgery</td>\n",
       "      <td>99.0</td>\n",
       "    </tr>\n",
       "    <tr>\n",
       "      <td>358634</td>\n",
       "      <td>1306894159</td>\n",
       "      <td>XX</td>\n",
       "      <td>General Practice</td>\n",
       "      <td>123.0</td>\n",
       "    </tr>\n",
       "    <tr>\n",
       "      <td>555158</td>\n",
       "      <td>1477785731</td>\n",
       "      <td>XX</td>\n",
       "      <td>Certified Clinical Nurse Specialist</td>\n",
       "      <td>1073.0</td>\n",
       "    </tr>\n",
       "    <tr>\n",
       "      <td>983259</td>\n",
       "      <td>1841422094</td>\n",
       "      <td>WY</td>\n",
       "      <td>Vascular Surgery</td>\n",
       "      <td>329.0</td>\n",
       "    </tr>\n",
       "    <tr>\n",
       "      <td>318511</td>\n",
       "      <td>1275592024</td>\n",
       "      <td>WY</td>\n",
       "      <td>Urology</td>\n",
       "      <td>913.0</td>\n",
       "    </tr>\n",
       "    <tr>\n",
       "      <td>969098</td>\n",
       "      <td>1831209253</td>\n",
       "      <td>WY</td>\n",
       "      <td>Urology</td>\n",
       "      <td>330.0</td>\n",
       "    </tr>\n",
       "    <tr>\n",
       "      <td>347663</td>\n",
       "      <td>1295896751</td>\n",
       "      <td>WY</td>\n",
       "      <td>Urology</td>\n",
       "      <td>310.0</td>\n",
       "    </tr>\n",
       "    <tr>\n",
       "      <td>282871</td>\n",
       "      <td>1245293455</td>\n",
       "      <td>WY</td>\n",
       "      <td>Urology</td>\n",
       "      <td>234.0</td>\n",
       "    </tr>\n",
       "    <tr>\n",
       "      <td>351974</td>\n",
       "      <td>1306139050</td>\n",
       "      <td>WY</td>\n",
       "      <td>Urology</td>\n",
       "      <td>233.0</td>\n",
       "    </tr>\n",
       "    <tr>\n",
       "      <td>864255</td>\n",
       "      <td>1740291137</td>\n",
       "      <td>WY</td>\n",
       "      <td>Urology</td>\n",
       "      <td>203.0</td>\n",
       "    </tr>\n",
       "    <tr>\n",
       "      <td>1125105</td>\n",
       "      <td>1962765586</td>\n",
       "      <td>WY</td>\n",
       "      <td>Urology</td>\n",
       "      <td>203.0</td>\n",
       "    </tr>\n",
       "  </tbody>\n",
       "</table>\n",
       "</div>"
      ],
      "text/plain": [
       "                npi nppes_provider_state  \\\n",
       "314445   1265986087                   ZZ   \n",
       "80950    1063934396                   ZZ   \n",
       "792103   1689029159                   ZZ   \n",
       "996041   1851594634                   ZZ   \n",
       "22357    1013975481                   ZZ   \n",
       "795317   1689644619                   ZZ   \n",
       "350926   1306071816                   ZZ   \n",
       "65437    1053571794                   ZZ   \n",
       "238970   1205819497                   ZZ   \n",
       "912280   1780679258                   ZZ   \n",
       "938502   1801875836                   ZZ   \n",
       "796029   1689661845                   ZZ   \n",
       "1157972  1992780407                   ZZ   \n",
       "1054977  1902888563                   ZZ   \n",
       "350381   1306043484                   ZZ   \n",
       "967251   1831164607                   ZZ   \n",
       "731942   1629468145                   ZZ   \n",
       "184882   1154774933                   ZZ   \n",
       "746982   1649254392                   ZZ   \n",
       "642710   1558358077                   ZZ   \n",
       "725082   1629097506                   ZZ   \n",
       "892147   1760726707                   ZZ   \n",
       "618119   1538128665                   ZZ   \n",
       "278211   1235576695                   ZZ   \n",
       "998726   1851757348                   ZZ   \n",
       "12392    1013025915                   ZZ   \n",
       "1145528  1982699302                   ZZ   \n",
       "665686   1578542957                   ZZ   \n",
       "1133466  1972661726                   ZZ   \n",
       "956078   1821076738                   ZZ   \n",
       "357285   1306854732                   ZZ   \n",
       "130529   1114140811                   ZZ   \n",
       "623128   1538289293                   ZZ   \n",
       "224553   1194701524                   ZZ   \n",
       "684087   1588833677                   ZZ   \n",
       "1062551  1912241035                   ZZ   \n",
       "147402   1124318555                   ZZ   \n",
       "770946   1669467213                   ZZ   \n",
       "1088796  1932389574                   ZZ   \n",
       "972682   1831384247                   ZZ   \n",
       "25020    1023043734                   ZZ   \n",
       "781525   1679532550                   ZZ   \n",
       "808675   1699752410                   ZZ   \n",
       "292140   1255328068                   ZZ   \n",
       "1005652  1861582801                   ZZ   \n",
       "25823    1023067295                   ZZ   \n",
       "618600   1538140124                   ZZ   \n",
       "148956   1124415773                   XX   \n",
       "358905   1306903265                   XX   \n",
       "292165   1255328753                   XX   \n",
       "358634   1306894159                   XX   \n",
       "555158   1477785731                   XX   \n",
       "983259   1841422094                   WY   \n",
       "318511   1275592024                   WY   \n",
       "969098   1831209253                   WY   \n",
       "347663   1295896751                   WY   \n",
       "282871   1245293455                   WY   \n",
       "351974   1306139050                   WY   \n",
       "864255   1740291137                   WY   \n",
       "1125105  1962765586                   WY   \n",
       "\n",
       "                                     specialty_description  opioid_day_supply  \n",
       "314445                                             Urology              146.0  \n",
       "80950    Student in an Organized Health Care Education/...               63.0  \n",
       "792103   Student in an Organized Health Care Education/...               54.0  \n",
       "996041                                 Physician Assistant            13028.0  \n",
       "22357                                  Physician Assistant             1378.0  \n",
       "795317                                 Physician Assistant              391.0  \n",
       "350926                                 Physician Assistant               62.0  \n",
       "65437                                       Otolaryngology              224.0  \n",
       "238970                                      Otolaryngology              118.0  \n",
       "912280                                  Orthopedic Surgery              134.0  \n",
       "938502                         Oral Surgery (Dentist only)             1309.0  \n",
       "796029                         Oral Surgery (Dentist only)              261.0  \n",
       "1157972                            Obstetrics & Gynecology               79.0  \n",
       "1054977                                  Internal Medicine             6652.0  \n",
       "350381                                   Internal Medicine             3117.0  \n",
       "967251                                   Internal Medicine              131.0  \n",
       "731942                                     General Surgery               83.0  \n",
       "184882                                    General Practice             1449.0  \n",
       "746982                                    General Practice              249.0  \n",
       "642710                                     Family Practice            21078.0  \n",
       "725082                                     Family Practice             5494.0  \n",
       "892147                                     Family Practice             2130.0  \n",
       "618119                                     Family Practice             1800.0  \n",
       "278211                                     Family Practice              553.0  \n",
       "998726                                     Family Practice              391.0  \n",
       "12392                                      Family Practice              341.0  \n",
       "1145528                                    Family Practice              307.0  \n",
       "665686                                     Family Practice              290.0  \n",
       "1133466                                 Emergency Medicine              384.0  \n",
       "956078                                  Emergency Medicine              320.0  \n",
       "357285                                  Emergency Medicine              209.0  \n",
       "130529                                  Emergency Medicine               46.0  \n",
       "623128                                             Dentist              807.0  \n",
       "224553                                             Dentist              253.0  \n",
       "684087                                             Dentist              205.0  \n",
       "1062551                                            Dentist              193.0  \n",
       "147402                                             Dentist              165.0  \n",
       "770946                                             Dentist              143.0  \n",
       "1088796                                            Dentist              113.0  \n",
       "972682                                             Dentist               97.0  \n",
       "25020                                              Dentist               96.0  \n",
       "781525                                             Dentist               93.0  \n",
       "808675                                             Dentist               71.0  \n",
       "292140                                             Dentist               59.0  \n",
       "1005652                                            Dentist               31.0  \n",
       "25823                                              Dentist               30.0  \n",
       "618600                                             Dentist               29.0  \n",
       "148956                                  Nurse Practitioner            15438.0  \n",
       "358905                                   Internal Medicine            10073.0  \n",
       "292165                                     General Surgery               99.0  \n",
       "358634                                    General Practice              123.0  \n",
       "555158                 Certified Clinical Nurse Specialist             1073.0  \n",
       "983259                                    Vascular Surgery              329.0  \n",
       "318511                                             Urology              913.0  \n",
       "969098                                             Urology              330.0  \n",
       "347663                                             Urology              310.0  \n",
       "282871                                             Urology              234.0  \n",
       "351974                                             Urology              233.0  \n",
       "864255                                             Urology              203.0  \n",
       "1125105                                            Urology              203.0  "
      ]
     },
     "execution_count": 50,
     "metadata": {},
     "output_type": "execute_result"
    }
   ],
   "source": [
    "df_op_sort_by_state_specialty.iloc[0:60,0:5]"
   ]
  },
  {
   "cell_type": "code",
   "execution_count": 52,
   "metadata": {},
   "outputs": [
    {
     "data": {
      "text/html": [
       "<div>\n",
       "<style scoped>\n",
       "    .dataframe tbody tr th:only-of-type {\n",
       "        vertical-align: middle;\n",
       "    }\n",
       "\n",
       "    .dataframe tbody tr th {\n",
       "        vertical-align: top;\n",
       "    }\n",
       "\n",
       "    .dataframe thead th {\n",
       "        text-align: right;\n",
       "    }\n",
       "</style>\n",
       "<table border=\"1\" class=\"dataframe\">\n",
       "  <thead>\n",
       "    <tr style=\"text-align: right;\">\n",
       "      <th></th>\n",
       "      <th>opioid_day_supply</th>\n",
       "    </tr>\n",
       "    <tr>\n",
       "      <th>npi</th>\n",
       "      <th></th>\n",
       "    </tr>\n",
       "  </thead>\n",
       "  <tbody>\n",
       "    <tr>\n",
       "      <td>1003000126</td>\n",
       "      <td>134.0</td>\n",
       "    </tr>\n",
       "    <tr>\n",
       "      <td>1003000142</td>\n",
       "      <td>29238.0</td>\n",
       "    </tr>\n",
       "    <tr>\n",
       "      <td>1003000167</td>\n",
       "      <td>35.0</td>\n",
       "    </tr>\n",
       "    <tr>\n",
       "      <td>1003000175</td>\n",
       "      <td>0.0</td>\n",
       "    </tr>\n",
       "    <tr>\n",
       "      <td>1003000282</td>\n",
       "      <td>0.0</td>\n",
       "    </tr>\n",
       "    <tr>\n",
       "      <td>...</td>\n",
       "      <td>...</td>\n",
       "    </tr>\n",
       "    <tr>\n",
       "      <td>1992999791</td>\n",
       "      <td>1952.0</td>\n",
       "    </tr>\n",
       "    <tr>\n",
       "      <td>1992999817</td>\n",
       "      <td>85.0</td>\n",
       "    </tr>\n",
       "    <tr>\n",
       "      <td>1992999825</td>\n",
       "      <td>131.0</td>\n",
       "    </tr>\n",
       "    <tr>\n",
       "      <td>1992999833</td>\n",
       "      <td>0.0</td>\n",
       "    </tr>\n",
       "    <tr>\n",
       "      <td>1992999882</td>\n",
       "      <td>0.0</td>\n",
       "    </tr>\n",
       "  </tbody>\n",
       "</table>\n",
       "<p>834341 rows × 1 columns</p>\n",
       "</div>"
      ],
      "text/plain": [
       "            opioid_day_supply\n",
       "npi                          \n",
       "1003000126              134.0\n",
       "1003000142            29238.0\n",
       "1003000167               35.0\n",
       "1003000175                0.0\n",
       "1003000282                0.0\n",
       "...                       ...\n",
       "1992999791             1952.0\n",
       "1992999817               85.0\n",
       "1992999825              131.0\n",
       "1992999833                0.0\n",
       "1992999882                0.0\n",
       "\n",
       "[834341 rows x 1 columns]"
      ]
     },
     "execution_count": 52,
     "metadata": {},
     "output_type": "execute_result"
    }
   ],
   "source": [
    "# 4.2 - average length of an opioid prescription for each provider\n",
    "df_op_prov_pres = pd.pivot_table(df_op, values=['opioid_day_supply'], index=['npi'])\n",
    "df_op_prov_pres"
   ]
  },
  {
   "cell_type": "code",
   "execution_count": 53,
   "metadata": {},
   "outputs": [
    {
     "data": {
      "text/html": [
       "<div>\n",
       "<style scoped>\n",
       "    .dataframe tbody tr th:only-of-type {\n",
       "        vertical-align: middle;\n",
       "    }\n",
       "\n",
       "    .dataframe tbody tr th {\n",
       "        vertical-align: top;\n",
       "    }\n",
       "\n",
       "    .dataframe thead th {\n",
       "        text-align: right;\n",
       "    }\n",
       "</style>\n",
       "<table border=\"1\" class=\"dataframe\">\n",
       "  <thead>\n",
       "    <tr style=\"text-align: right;\">\n",
       "      <th></th>\n",
       "      <th>opioid_day_supply</th>\n",
       "    </tr>\n",
       "    <tr>\n",
       "      <th>npi</th>\n",
       "      <th></th>\n",
       "    </tr>\n",
       "  </thead>\n",
       "  <tbody>\n",
       "    <tr>\n",
       "      <td>1003000126</td>\n",
       "      <td>134.0</td>\n",
       "    </tr>\n",
       "    <tr>\n",
       "      <td>1003000142</td>\n",
       "      <td>29238.0</td>\n",
       "    </tr>\n",
       "    <tr>\n",
       "      <td>1003000167</td>\n",
       "      <td>35.0</td>\n",
       "    </tr>\n",
       "    <tr>\n",
       "      <td>1003000175</td>\n",
       "      <td>0.0</td>\n",
       "    </tr>\n",
       "    <tr>\n",
       "      <td>1003000282</td>\n",
       "      <td>0.0</td>\n",
       "    </tr>\n",
       "    <tr>\n",
       "      <td>...</td>\n",
       "      <td>...</td>\n",
       "    </tr>\n",
       "    <tr>\n",
       "      <td>1992999791</td>\n",
       "      <td>1952.0</td>\n",
       "    </tr>\n",
       "    <tr>\n",
       "      <td>1992999817</td>\n",
       "      <td>85.0</td>\n",
       "    </tr>\n",
       "    <tr>\n",
       "      <td>1992999825</td>\n",
       "      <td>131.0</td>\n",
       "    </tr>\n",
       "    <tr>\n",
       "      <td>1992999833</td>\n",
       "      <td>0.0</td>\n",
       "    </tr>\n",
       "    <tr>\n",
       "      <td>1992999882</td>\n",
       "      <td>0.0</td>\n",
       "    </tr>\n",
       "  </tbody>\n",
       "</table>\n",
       "<p>834341 rows × 1 columns</p>\n",
       "</div>"
      ],
      "text/plain": [
       "            opioid_day_supply\n",
       "npi                          \n",
       "1003000126              134.0\n",
       "1003000142            29238.0\n",
       "1003000167               35.0\n",
       "1003000175                0.0\n",
       "1003000282                0.0\n",
       "...                       ...\n",
       "1992999791             1952.0\n",
       "1992999817               85.0\n",
       "1992999825              131.0\n",
       "1992999833                0.0\n",
       "1992999882                0.0\n",
       "\n",
       "[834341 rows x 1 columns]"
      ]
     },
     "execution_count": 53,
     "metadata": {},
     "output_type": "execute_result"
    }
   ],
   "source": [
    "df_op_prov_pres_sort = df_op_prov_pres.sort_values(by=['npi'], ascending = True)\n",
    "df_op_prov_pres_sort"
   ]
  },
  {
   "cell_type": "code",
   "execution_count": null,
   "metadata": {},
   "outputs": [],
   "source": [
    "# 4.3 - for each (state, specialty) pair with at least 100 providers,\n",
    "#       calculate the average of this value across all providers"
   ]
  },
  {
   "cell_type": "code",
   "execution_count": null,
   "metadata": {},
   "outputs": [],
   "source": [
    "# 4.4 - ratio of this value to an equivalent quantity calculated from providers in each specialty across all states\n"
   ]
  },
  {
   "cell_type": "code",
   "execution_count": null,
   "metadata": {},
   "outputs": [],
   "source": [
    "# 4.5 - What is the largest such ratio?"
   ]
  },
  {
   "cell_type": "markdown",
   "metadata": {},
   "source": [
    "### Problem 5:"
   ]
  },
  {
   "cell_type": "code",
   "execution_count": 54,
   "metadata": {},
   "outputs": [],
   "source": [
    "op_agelis = df17[['npi',\n",
    "'total_claim_count',\n",
    "'total_claim_count_ge65',\n",
    "'lis_claim_count']]"
   ]
  },
  {
   "cell_type": "code",
   "execution_count": 55,
   "metadata": {},
   "outputs": [
    {
     "data": {
      "text/html": [
       "<div>\n",
       "<style scoped>\n",
       "    .dataframe tbody tr th:only-of-type {\n",
       "        vertical-align: middle;\n",
       "    }\n",
       "\n",
       "    .dataframe tbody tr th {\n",
       "        vertical-align: top;\n",
       "    }\n",
       "\n",
       "    .dataframe thead th {\n",
       "        text-align: right;\n",
       "    }\n",
       "</style>\n",
       "<table border=\"1\" class=\"dataframe\">\n",
       "  <thead>\n",
       "    <tr style=\"text-align: right;\">\n",
       "      <th></th>\n",
       "      <th>npi</th>\n",
       "      <th>total_claim_count</th>\n",
       "      <th>total_claim_count_ge65</th>\n",
       "      <th>lis_claim_count</th>\n",
       "    </tr>\n",
       "  </thead>\n",
       "  <tbody>\n",
       "    <tr>\n",
       "      <td>0</td>\n",
       "      <td>1003000126</td>\n",
       "      <td>677</td>\n",
       "      <td>516.0</td>\n",
       "      <td>305.0</td>\n",
       "    </tr>\n",
       "    <tr>\n",
       "      <td>1</td>\n",
       "      <td>1003000142</td>\n",
       "      <td>1946</td>\n",
       "      <td>881.0</td>\n",
       "      <td>1184.0</td>\n",
       "    </tr>\n",
       "    <tr>\n",
       "      <td>2</td>\n",
       "      <td>1003000167</td>\n",
       "      <td>55</td>\n",
       "      <td>NaN</td>\n",
       "      <td>NaN</td>\n",
       "    </tr>\n",
       "    <tr>\n",
       "      <td>3</td>\n",
       "      <td>1003000175</td>\n",
       "      <td>18</td>\n",
       "      <td>NaN</td>\n",
       "      <td>NaN</td>\n",
       "    </tr>\n",
       "    <tr>\n",
       "      <td>4</td>\n",
       "      <td>1003000282</td>\n",
       "      <td>90</td>\n",
       "      <td>65.0</td>\n",
       "      <td>73.0</td>\n",
       "    </tr>\n",
       "  </tbody>\n",
       "</table>\n",
       "</div>"
      ],
      "text/plain": [
       "          npi  total_claim_count  total_claim_count_ge65  lis_claim_count\n",
       "0  1003000126                677                   516.0            305.0\n",
       "1  1003000142               1946                   881.0           1184.0\n",
       "2  1003000167                 55                     NaN              NaN\n",
       "3  1003000175                 18                     NaN              NaN\n",
       "4  1003000282                 90                    65.0             73.0"
      ]
     },
     "execution_count": 55,
     "metadata": {},
     "output_type": "execute_result"
    }
   ],
   "source": [
    "op_agelis.head()"
   ]
  },
  {
   "cell_type": "code",
   "execution_count": 57,
   "metadata": {},
   "outputs": [
    {
     "data": {
      "text/html": [
       "<div>\n",
       "<style scoped>\n",
       "    .dataframe tbody tr th:only-of-type {\n",
       "        vertical-align: middle;\n",
       "    }\n",
       "\n",
       "    .dataframe tbody tr th {\n",
       "        vertical-align: top;\n",
       "    }\n",
       "\n",
       "    .dataframe thead th {\n",
       "        text-align: right;\n",
       "    }\n",
       "</style>\n",
       "<table border=\"1\" class=\"dataframe\">\n",
       "  <thead>\n",
       "    <tr style=\"text-align: right;\">\n",
       "      <th></th>\n",
       "      <th>npi</th>\n",
       "      <th>total_claim_count</th>\n",
       "      <th>total_claim_count_ge65</th>\n",
       "      <th>lis_claim_count</th>\n",
       "    </tr>\n",
       "  </thead>\n",
       "  <tbody>\n",
       "    <tr>\n",
       "      <td>0</td>\n",
       "      <td>1003000126</td>\n",
       "      <td>677</td>\n",
       "      <td>516.0</td>\n",
       "      <td>305.0</td>\n",
       "    </tr>\n",
       "    <tr>\n",
       "      <td>1</td>\n",
       "      <td>1003000142</td>\n",
       "      <td>1946</td>\n",
       "      <td>881.0</td>\n",
       "      <td>1184.0</td>\n",
       "    </tr>\n",
       "    <tr>\n",
       "      <td>2</td>\n",
       "      <td>1003000167</td>\n",
       "      <td>55</td>\n",
       "      <td>NaN</td>\n",
       "      <td>NaN</td>\n",
       "    </tr>\n",
       "    <tr>\n",
       "      <td>3</td>\n",
       "      <td>1003000175</td>\n",
       "      <td>18</td>\n",
       "      <td>NaN</td>\n",
       "      <td>NaN</td>\n",
       "    </tr>\n",
       "    <tr>\n",
       "      <td>4</td>\n",
       "      <td>1003000282</td>\n",
       "      <td>90</td>\n",
       "      <td>65.0</td>\n",
       "      <td>73.0</td>\n",
       "    </tr>\n",
       "  </tbody>\n",
       "</table>\n",
       "</div>"
      ],
      "text/plain": [
       "          npi  total_claim_count  total_claim_count_ge65  lis_claim_count\n",
       "0  1003000126                677                   516.0            305.0\n",
       "1  1003000142               1946                   881.0           1184.0\n",
       "2  1003000167                 55                     NaN              NaN\n",
       "3  1003000175                 18                     NaN              NaN\n",
       "4  1003000282                 90                    65.0             73.0"
      ]
     },
     "execution_count": 57,
     "metadata": {},
     "output_type": "execute_result"
    }
   ],
   "source": [
    "op_agelis1 = op_agelis[pd.notnull(op_agelis['total_claim_count'])]\n",
    "op_agelis1.head()"
   ]
  },
  {
   "cell_type": "code",
   "execution_count": 58,
   "metadata": {},
   "outputs": [
    {
     "data": {
      "text/plain": [
       "(1162898, 4)"
      ]
     },
     "execution_count": 58,
     "metadata": {},
     "output_type": "execute_result"
    }
   ],
   "source": [
    "op_agelis1.shape"
   ]
  },
  {
   "cell_type": "markdown",
   "metadata": {},
   "source": [
    "#### 5.1 For each provider where the relevant columns are not suppressed, \n",
    "####       work out the fraction of claims for beneficiaries age 65 and older."
   ]
  },
  {
   "cell_type": "code",
   "execution_count": 59,
   "metadata": {},
   "outputs": [
    {
     "data": {
      "text/html": [
       "<div>\n",
       "<style scoped>\n",
       "    .dataframe tbody tr th:only-of-type {\n",
       "        vertical-align: middle;\n",
       "    }\n",
       "\n",
       "    .dataframe tbody tr th {\n",
       "        vertical-align: top;\n",
       "    }\n",
       "\n",
       "    .dataframe thead th {\n",
       "        text-align: right;\n",
       "    }\n",
       "</style>\n",
       "<table border=\"1\" class=\"dataframe\">\n",
       "  <thead>\n",
       "    <tr style=\"text-align: right;\">\n",
       "      <th></th>\n",
       "      <th>npi</th>\n",
       "      <th>total_claim_count</th>\n",
       "      <th>total_claim_count_ge65</th>\n",
       "      <th>lis_claim_count</th>\n",
       "    </tr>\n",
       "  </thead>\n",
       "  <tbody>\n",
       "    <tr>\n",
       "      <td>0</td>\n",
       "      <td>1003000126</td>\n",
       "      <td>677</td>\n",
       "      <td>516.0</td>\n",
       "      <td>305.0</td>\n",
       "    </tr>\n",
       "    <tr>\n",
       "      <td>1</td>\n",
       "      <td>1003000142</td>\n",
       "      <td>1946</td>\n",
       "      <td>881.0</td>\n",
       "      <td>1184.0</td>\n",
       "    </tr>\n",
       "    <tr>\n",
       "      <td>4</td>\n",
       "      <td>1003000282</td>\n",
       "      <td>90</td>\n",
       "      <td>65.0</td>\n",
       "      <td>73.0</td>\n",
       "    </tr>\n",
       "    <tr>\n",
       "      <td>5</td>\n",
       "      <td>1003000407</td>\n",
       "      <td>2788</td>\n",
       "      <td>2700.0</td>\n",
       "      <td>1990.0</td>\n",
       "    </tr>\n",
       "    <tr>\n",
       "      <td>6</td>\n",
       "      <td>1003000423</td>\n",
       "      <td>200</td>\n",
       "      <td>118.0</td>\n",
       "      <td>70.0</td>\n",
       "    </tr>\n",
       "  </tbody>\n",
       "</table>\n",
       "</div>"
      ],
      "text/plain": [
       "          npi  total_claim_count  total_claim_count_ge65  lis_claim_count\n",
       "0  1003000126                677                   516.0            305.0\n",
       "1  1003000142               1946                   881.0           1184.0\n",
       "4  1003000282                 90                    65.0             73.0\n",
       "5  1003000407               2788                  2700.0           1990.0\n",
       "6  1003000423                200                   118.0             70.0"
      ]
     },
     "execution_count": 59,
     "metadata": {},
     "output_type": "execute_result"
    }
   ],
   "source": [
    "op_agelis2 = op_agelis1[pd.notnull(op_agelis1['total_claim_count_ge65'])]\n",
    "op_agelis2.head()"
   ]
  },
  {
   "cell_type": "code",
   "execution_count": 60,
   "metadata": {},
   "outputs": [
    {
     "data": {
      "text/plain": [
       "(910442, 4)"
      ]
     },
     "execution_count": 60,
     "metadata": {},
     "output_type": "execute_result"
    }
   ],
   "source": [
    "op_agelis2.shape"
   ]
  },
  {
   "cell_type": "code",
   "execution_count": 61,
   "metadata": {},
   "outputs": [],
   "source": [
    "op_agelis2a = op_agelis2.loc[\n",
    "    (op_agelis2['total_claim_count'] != 0.0) & \n",
    "    (op_agelis2['total_claim_count_ge65'] != 0.0)]"
   ]
  },
  {
   "cell_type": "code",
   "execution_count": 62,
   "metadata": {},
   "outputs": [
    {
     "data": {
      "text/plain": [
       "(901283, 4)"
      ]
     },
     "execution_count": 62,
     "metadata": {},
     "output_type": "execute_result"
    }
   ],
   "source": [
    "op_agelis2a.shape"
   ]
  },
  {
   "cell_type": "code",
   "execution_count": 63,
   "metadata": {},
   "outputs": [
    {
     "name": "stderr",
     "output_type": "stream",
     "text": [
      "/Applications/anaconda3/lib/python3.7/site-packages/ipykernel_launcher.py:1: SettingWithCopyWarning: \n",
      "A value is trying to be set on a copy of a slice from a DataFrame.\n",
      "Try using .loc[row_indexer,col_indexer] = value instead\n",
      "\n",
      "See the caveats in the documentation: http://pandas.pydata.org/pandas-docs/stable/user_guide/indexing.html#returning-a-view-versus-a-copy\n",
      "  \"\"\"Entry point for launching an IPython kernel.\n"
     ]
    }
   ],
   "source": [
    "op_agelis2a['frac_total_claim_count_ge65'] = op_agelis2a['total_claim_count_ge65'] / op_agelis2a['total_claim_count']"
   ]
  },
  {
   "cell_type": "code",
   "execution_count": 64,
   "metadata": {},
   "outputs": [
    {
     "data": {
      "text/html": [
       "<div>\n",
       "<style scoped>\n",
       "    .dataframe tbody tr th:only-of-type {\n",
       "        vertical-align: middle;\n",
       "    }\n",
       "\n",
       "    .dataframe tbody tr th {\n",
       "        vertical-align: top;\n",
       "    }\n",
       "\n",
       "    .dataframe thead th {\n",
       "        text-align: right;\n",
       "    }\n",
       "</style>\n",
       "<table border=\"1\" class=\"dataframe\">\n",
       "  <thead>\n",
       "    <tr style=\"text-align: right;\">\n",
       "      <th></th>\n",
       "      <th>npi</th>\n",
       "      <th>total_claim_count</th>\n",
       "      <th>total_claim_count_ge65</th>\n",
       "      <th>lis_claim_count</th>\n",
       "      <th>frac_total_claim_count_ge65</th>\n",
       "    </tr>\n",
       "  </thead>\n",
       "  <tbody>\n",
       "    <tr>\n",
       "      <td>0</td>\n",
       "      <td>1003000126</td>\n",
       "      <td>677</td>\n",
       "      <td>516.0</td>\n",
       "      <td>305.0</td>\n",
       "      <td>0.762186</td>\n",
       "    </tr>\n",
       "    <tr>\n",
       "      <td>1</td>\n",
       "      <td>1003000142</td>\n",
       "      <td>1946</td>\n",
       "      <td>881.0</td>\n",
       "      <td>1184.0</td>\n",
       "      <td>0.452724</td>\n",
       "    </tr>\n",
       "    <tr>\n",
       "      <td>4</td>\n",
       "      <td>1003000282</td>\n",
       "      <td>90</td>\n",
       "      <td>65.0</td>\n",
       "      <td>73.0</td>\n",
       "      <td>0.722222</td>\n",
       "    </tr>\n",
       "    <tr>\n",
       "      <td>5</td>\n",
       "      <td>1003000407</td>\n",
       "      <td>2788</td>\n",
       "      <td>2700.0</td>\n",
       "      <td>1990.0</td>\n",
       "      <td>0.968436</td>\n",
       "    </tr>\n",
       "    <tr>\n",
       "      <td>6</td>\n",
       "      <td>1003000423</td>\n",
       "      <td>200</td>\n",
       "      <td>118.0</td>\n",
       "      <td>70.0</td>\n",
       "      <td>0.590000</td>\n",
       "    </tr>\n",
       "  </tbody>\n",
       "</table>\n",
       "</div>"
      ],
      "text/plain": [
       "          npi  total_claim_count  total_claim_count_ge65  lis_claim_count  \\\n",
       "0  1003000126                677                   516.0            305.0   \n",
       "1  1003000142               1946                   881.0           1184.0   \n",
       "4  1003000282                 90                    65.0             73.0   \n",
       "5  1003000407               2788                  2700.0           1990.0   \n",
       "6  1003000423                200                   118.0             70.0   \n",
       "\n",
       "   frac_total_claim_count_ge65  \n",
       "0                     0.762186  \n",
       "1                     0.452724  \n",
       "4                     0.722222  \n",
       "5                     0.968436  \n",
       "6                     0.590000  "
      ]
     },
     "execution_count": 64,
     "metadata": {},
     "output_type": "execute_result"
    }
   ],
   "source": [
    "op_agelis2a.head()"
   ]
  },
  {
   "cell_type": "code",
   "execution_count": 65,
   "metadata": {},
   "outputs": [],
   "source": [
    "op_agelis2a_frac_by_prov = op_agelis2a.groupby(op_agelis2a['npi'])['frac_total_claim_count_ge65'].mean()"
   ]
  },
  {
   "cell_type": "code",
   "execution_count": 66,
   "metadata": {},
   "outputs": [
    {
     "data": {
      "text/plain": [
       "npi\n",
       "1003000126    0.762186\n",
       "1003000142    0.452724\n",
       "1003000282    0.722222\n",
       "1003000407    0.968436\n",
       "1003000423    0.590000\n",
       "                ...   \n",
       "1992999791    0.525140\n",
       "1992999825    0.848148\n",
       "1992999833    1.000000\n",
       "1992999874    0.814815\n",
       "1992999882    0.210938\n",
       "Name: frac_total_claim_count_ge65, Length: 901283, dtype: float64"
      ]
     },
     "execution_count": 66,
     "metadata": {},
     "output_type": "execute_result"
    }
   ],
   "source": [
    "op_agelis2a_frac_by_prov"
   ]
  },
  {
   "cell_type": "markdown",
   "metadata": {},
   "source": [
    "#### 5.2 For each provider where the relevant columns are not suppressed, \n",
    "####       the fraction of claims for beneficiaries with a low-income subsidy."
   ]
  },
  {
   "cell_type": "code",
   "execution_count": 67,
   "metadata": {},
   "outputs": [
    {
     "data": {
      "text/html": [
       "<div>\n",
       "<style scoped>\n",
       "    .dataframe tbody tr th:only-of-type {\n",
       "        vertical-align: middle;\n",
       "    }\n",
       "\n",
       "    .dataframe tbody tr th {\n",
       "        vertical-align: top;\n",
       "    }\n",
       "\n",
       "    .dataframe thead th {\n",
       "        text-align: right;\n",
       "    }\n",
       "</style>\n",
       "<table border=\"1\" class=\"dataframe\">\n",
       "  <thead>\n",
       "    <tr style=\"text-align: right;\">\n",
       "      <th></th>\n",
       "      <th>npi</th>\n",
       "      <th>total_claim_count</th>\n",
       "      <th>total_claim_count_ge65</th>\n",
       "      <th>lis_claim_count</th>\n",
       "    </tr>\n",
       "  </thead>\n",
       "  <tbody>\n",
       "    <tr>\n",
       "      <td>0</td>\n",
       "      <td>1003000126</td>\n",
       "      <td>677</td>\n",
       "      <td>516.0</td>\n",
       "      <td>305.0</td>\n",
       "    </tr>\n",
       "    <tr>\n",
       "      <td>1</td>\n",
       "      <td>1003000142</td>\n",
       "      <td>1946</td>\n",
       "      <td>881.0</td>\n",
       "      <td>1184.0</td>\n",
       "    </tr>\n",
       "    <tr>\n",
       "      <td>4</td>\n",
       "      <td>1003000282</td>\n",
       "      <td>90</td>\n",
       "      <td>65.0</td>\n",
       "      <td>73.0</td>\n",
       "    </tr>\n",
       "    <tr>\n",
       "      <td>5</td>\n",
       "      <td>1003000407</td>\n",
       "      <td>2788</td>\n",
       "      <td>2700.0</td>\n",
       "      <td>1990.0</td>\n",
       "    </tr>\n",
       "    <tr>\n",
       "      <td>6</td>\n",
       "      <td>1003000423</td>\n",
       "      <td>200</td>\n",
       "      <td>118.0</td>\n",
       "      <td>70.0</td>\n",
       "    </tr>\n",
       "  </tbody>\n",
       "</table>\n",
       "</div>"
      ],
      "text/plain": [
       "          npi  total_claim_count  total_claim_count_ge65  lis_claim_count\n",
       "0  1003000126                677                   516.0            305.0\n",
       "1  1003000142               1946                   881.0           1184.0\n",
       "4  1003000282                 90                    65.0             73.0\n",
       "5  1003000407               2788                  2700.0           1990.0\n",
       "6  1003000423                200                   118.0             70.0"
      ]
     },
     "execution_count": 67,
     "metadata": {},
     "output_type": "execute_result"
    }
   ],
   "source": [
    "op_agelis3 = op_agelis1[pd.notnull(op_agelis1['lis_claim_count'])]\n",
    "op_agelis3.head()"
   ]
  },
  {
   "cell_type": "code",
   "execution_count": 68,
   "metadata": {},
   "outputs": [
    {
     "data": {
      "text/plain": [
       "(922025, 4)"
      ]
     },
     "execution_count": 68,
     "metadata": {},
     "output_type": "execute_result"
    }
   ],
   "source": [
    "op_agelis3.shape"
   ]
  },
  {
   "cell_type": "code",
   "execution_count": 69,
   "metadata": {},
   "outputs": [],
   "source": [
    "op_agelis3a = op_agelis3.loc[\n",
    "    (op_agelis3['lis_claim_count'] != 0.0) & \n",
    "    (op_agelis3['total_claim_count'] != 0.0)]"
   ]
  },
  {
   "cell_type": "code",
   "execution_count": 70,
   "metadata": {},
   "outputs": [
    {
     "data": {
      "text/plain": [
       "(858413, 4)"
      ]
     },
     "execution_count": 70,
     "metadata": {},
     "output_type": "execute_result"
    }
   ],
   "source": [
    "op_agelis3a.shape"
   ]
  },
  {
   "cell_type": "code",
   "execution_count": 71,
   "metadata": {},
   "outputs": [
    {
     "name": "stderr",
     "output_type": "stream",
     "text": [
      "/Applications/anaconda3/lib/python3.7/site-packages/ipykernel_launcher.py:1: SettingWithCopyWarning: \n",
      "A value is trying to be set on a copy of a slice from a DataFrame.\n",
      "Try using .loc[row_indexer,col_indexer] = value instead\n",
      "\n",
      "See the caveats in the documentation: http://pandas.pydata.org/pandas-docs/stable/user_guide/indexing.html#returning-a-view-versus-a-copy\n",
      "  \"\"\"Entry point for launching an IPython kernel.\n"
     ]
    }
   ],
   "source": [
    "op_agelis3a['frac_lis_claim_count'] = op_agelis3a['lis_claim_count'] / op_agelis3a['total_claim_count']"
   ]
  },
  {
   "cell_type": "code",
   "execution_count": 72,
   "metadata": {},
   "outputs": [
    {
     "data": {
      "text/html": [
       "<div>\n",
       "<style scoped>\n",
       "    .dataframe tbody tr th:only-of-type {\n",
       "        vertical-align: middle;\n",
       "    }\n",
       "\n",
       "    .dataframe tbody tr th {\n",
       "        vertical-align: top;\n",
       "    }\n",
       "\n",
       "    .dataframe thead th {\n",
       "        text-align: right;\n",
       "    }\n",
       "</style>\n",
       "<table border=\"1\" class=\"dataframe\">\n",
       "  <thead>\n",
       "    <tr style=\"text-align: right;\">\n",
       "      <th></th>\n",
       "      <th>npi</th>\n",
       "      <th>total_claim_count</th>\n",
       "      <th>total_claim_count_ge65</th>\n",
       "      <th>lis_claim_count</th>\n",
       "      <th>frac_lis_claim_count</th>\n",
       "    </tr>\n",
       "  </thead>\n",
       "  <tbody>\n",
       "    <tr>\n",
       "      <td>0</td>\n",
       "      <td>1003000126</td>\n",
       "      <td>677</td>\n",
       "      <td>516.0</td>\n",
       "      <td>305.0</td>\n",
       "      <td>0.450517</td>\n",
       "    </tr>\n",
       "    <tr>\n",
       "      <td>1</td>\n",
       "      <td>1003000142</td>\n",
       "      <td>1946</td>\n",
       "      <td>881.0</td>\n",
       "      <td>1184.0</td>\n",
       "      <td>0.608428</td>\n",
       "    </tr>\n",
       "    <tr>\n",
       "      <td>4</td>\n",
       "      <td>1003000282</td>\n",
       "      <td>90</td>\n",
       "      <td>65.0</td>\n",
       "      <td>73.0</td>\n",
       "      <td>0.811111</td>\n",
       "    </tr>\n",
       "    <tr>\n",
       "      <td>5</td>\n",
       "      <td>1003000407</td>\n",
       "      <td>2788</td>\n",
       "      <td>2700.0</td>\n",
       "      <td>1990.0</td>\n",
       "      <td>0.713773</td>\n",
       "    </tr>\n",
       "    <tr>\n",
       "      <td>6</td>\n",
       "      <td>1003000423</td>\n",
       "      <td>200</td>\n",
       "      <td>118.0</td>\n",
       "      <td>70.0</td>\n",
       "      <td>0.350000</td>\n",
       "    </tr>\n",
       "  </tbody>\n",
       "</table>\n",
       "</div>"
      ],
      "text/plain": [
       "          npi  total_claim_count  total_claim_count_ge65  lis_claim_count  \\\n",
       "0  1003000126                677                   516.0            305.0   \n",
       "1  1003000142               1946                   881.0           1184.0   \n",
       "4  1003000282                 90                    65.0             73.0   \n",
       "5  1003000407               2788                  2700.0           1990.0   \n",
       "6  1003000423                200                   118.0             70.0   \n",
       "\n",
       "   frac_lis_claim_count  \n",
       "0              0.450517  \n",
       "1              0.608428  \n",
       "4              0.811111  \n",
       "5              0.713773  \n",
       "6              0.350000  "
      ]
     },
     "execution_count": 72,
     "metadata": {},
     "output_type": "execute_result"
    }
   ],
   "source": [
    "op_agelis3a.head()"
   ]
  },
  {
   "cell_type": "code",
   "execution_count": 73,
   "metadata": {},
   "outputs": [],
   "source": [
    "op_agelis3a_frac_by_prov = op_agelis3a.groupby(op_agelis3a['npi'])['frac_lis_claim_count'].mean()"
   ]
  },
  {
   "cell_type": "code",
   "execution_count": 74,
   "metadata": {},
   "outputs": [
    {
     "data": {
      "text/plain": [
       "npi\n",
       "1003000126    0.450517\n",
       "1003000142    0.608428\n",
       "1003000282    0.811111\n",
       "1003000407    0.713773\n",
       "1003000423    0.350000\n",
       "                ...   \n",
       "1992999759    0.725049\n",
       "1992999791    0.810056\n",
       "1992999825    0.214815\n",
       "1992999874    0.345679\n",
       "1992999882    0.859375\n",
       "Name: frac_lis_claim_count, Length: 858413, dtype: float64"
      ]
     },
     "execution_count": 74,
     "metadata": {},
     "output_type": "execute_result"
    }
   ],
   "source": [
    "op_agelis3a_frac_by_prov"
   ]
  },
  {
   "cell_type": "markdown",
   "metadata": {},
   "source": [
    "#### 5.3 (a) What is the Pearson correlation coefficient between these values - \n",
    "####            the fraction of claims for beneficiaries age 65 and older and\n",
    "####            the fraction of claims for beneficiaries with a low-income subsidy?"
   ]
  },
  {
   "cell_type": "code",
   "execution_count": 75,
   "metadata": {},
   "outputs": [
    {
     "data": {
      "text/html": [
       "<div>\n",
       "<style scoped>\n",
       "    .dataframe tbody tr th:only-of-type {\n",
       "        vertical-align: middle;\n",
       "    }\n",
       "\n",
       "    .dataframe tbody tr th {\n",
       "        vertical-align: top;\n",
       "    }\n",
       "\n",
       "    .dataframe thead th {\n",
       "        text-align: right;\n",
       "    }\n",
       "</style>\n",
       "<table border=\"1\" class=\"dataframe\">\n",
       "  <thead>\n",
       "    <tr style=\"text-align: right;\">\n",
       "      <th></th>\n",
       "      <th>npi</th>\n",
       "      <th>total_claim_count</th>\n",
       "      <th>total_claim_count_ge65</th>\n",
       "      <th>lis_claim_count</th>\n",
       "    </tr>\n",
       "  </thead>\n",
       "  <tbody>\n",
       "    <tr>\n",
       "      <td>0</td>\n",
       "      <td>1003000126</td>\n",
       "      <td>677</td>\n",
       "      <td>516.0</td>\n",
       "      <td>305.0</td>\n",
       "    </tr>\n",
       "    <tr>\n",
       "      <td>1</td>\n",
       "      <td>1003000142</td>\n",
       "      <td>1946</td>\n",
       "      <td>881.0</td>\n",
       "      <td>1184.0</td>\n",
       "    </tr>\n",
       "    <tr>\n",
       "      <td>4</td>\n",
       "      <td>1003000282</td>\n",
       "      <td>90</td>\n",
       "      <td>65.0</td>\n",
       "      <td>73.0</td>\n",
       "    </tr>\n",
       "    <tr>\n",
       "      <td>5</td>\n",
       "      <td>1003000407</td>\n",
       "      <td>2788</td>\n",
       "      <td>2700.0</td>\n",
       "      <td>1990.0</td>\n",
       "    </tr>\n",
       "    <tr>\n",
       "      <td>6</td>\n",
       "      <td>1003000423</td>\n",
       "      <td>200</td>\n",
       "      <td>118.0</td>\n",
       "      <td>70.0</td>\n",
       "    </tr>\n",
       "  </tbody>\n",
       "</table>\n",
       "</div>"
      ],
      "text/plain": [
       "          npi  total_claim_count  total_claim_count_ge65  lis_claim_count\n",
       "0  1003000126                677                   516.0            305.0\n",
       "1  1003000142               1946                   881.0           1184.0\n",
       "4  1003000282                 90                    65.0             73.0\n",
       "5  1003000407               2788                  2700.0           1990.0\n",
       "6  1003000423                200                   118.0             70.0"
      ]
     },
     "execution_count": 75,
     "metadata": {},
     "output_type": "execute_result"
    }
   ],
   "source": [
    "op_agelis4 = op_agelis1[pd.notnull(op_agelis1['total_claim_count_ge65'])]\n",
    "op_agelis4.head()"
   ]
  },
  {
   "cell_type": "code",
   "execution_count": 76,
   "metadata": {},
   "outputs": [
    {
     "data": {
      "text/plain": [
       "(910442, 4)"
      ]
     },
     "execution_count": 76,
     "metadata": {},
     "output_type": "execute_result"
    }
   ],
   "source": [
    "op_agelis4.shape"
   ]
  },
  {
   "cell_type": "code",
   "execution_count": 77,
   "metadata": {},
   "outputs": [
    {
     "data": {
      "text/html": [
       "<div>\n",
       "<style scoped>\n",
       "    .dataframe tbody tr th:only-of-type {\n",
       "        vertical-align: middle;\n",
       "    }\n",
       "\n",
       "    .dataframe tbody tr th {\n",
       "        vertical-align: top;\n",
       "    }\n",
       "\n",
       "    .dataframe thead th {\n",
       "        text-align: right;\n",
       "    }\n",
       "</style>\n",
       "<table border=\"1\" class=\"dataframe\">\n",
       "  <thead>\n",
       "    <tr style=\"text-align: right;\">\n",
       "      <th></th>\n",
       "      <th>npi</th>\n",
       "      <th>total_claim_count</th>\n",
       "      <th>total_claim_count_ge65</th>\n",
       "      <th>lis_claim_count</th>\n",
       "    </tr>\n",
       "  </thead>\n",
       "  <tbody>\n",
       "    <tr>\n",
       "      <td>0</td>\n",
       "      <td>1003000126</td>\n",
       "      <td>677</td>\n",
       "      <td>516.0</td>\n",
       "      <td>305.0</td>\n",
       "    </tr>\n",
       "    <tr>\n",
       "      <td>1</td>\n",
       "      <td>1003000142</td>\n",
       "      <td>1946</td>\n",
       "      <td>881.0</td>\n",
       "      <td>1184.0</td>\n",
       "    </tr>\n",
       "    <tr>\n",
       "      <td>4</td>\n",
       "      <td>1003000282</td>\n",
       "      <td>90</td>\n",
       "      <td>65.0</td>\n",
       "      <td>73.0</td>\n",
       "    </tr>\n",
       "    <tr>\n",
       "      <td>5</td>\n",
       "      <td>1003000407</td>\n",
       "      <td>2788</td>\n",
       "      <td>2700.0</td>\n",
       "      <td>1990.0</td>\n",
       "    </tr>\n",
       "    <tr>\n",
       "      <td>6</td>\n",
       "      <td>1003000423</td>\n",
       "      <td>200</td>\n",
       "      <td>118.0</td>\n",
       "      <td>70.0</td>\n",
       "    </tr>\n",
       "  </tbody>\n",
       "</table>\n",
       "</div>"
      ],
      "text/plain": [
       "          npi  total_claim_count  total_claim_count_ge65  lis_claim_count\n",
       "0  1003000126                677                   516.0            305.0\n",
       "1  1003000142               1946                   881.0           1184.0\n",
       "4  1003000282                 90                    65.0             73.0\n",
       "5  1003000407               2788                  2700.0           1990.0\n",
       "6  1003000423                200                   118.0             70.0"
      ]
     },
     "execution_count": 77,
     "metadata": {},
     "output_type": "execute_result"
    }
   ],
   "source": [
    "op_agelis4a = op_agelis4[pd.notnull(op_agelis4['lis_claim_count'])]\n",
    "op_agelis4a.head()"
   ]
  },
  {
   "cell_type": "code",
   "execution_count": 78,
   "metadata": {},
   "outputs": [
    {
     "data": {
      "text/plain": [
       "(834684, 4)"
      ]
     },
     "execution_count": 78,
     "metadata": {},
     "output_type": "execute_result"
    }
   ],
   "source": [
    "op_agelis4a.shape"
   ]
  },
  {
   "cell_type": "code",
   "execution_count": 79,
   "metadata": {},
   "outputs": [],
   "source": [
    "op_agelis4b = op_agelis4a.loc[\n",
    "    (op_agelis4a['lis_claim_count'] != 0.0) & \n",
    "    (op_agelis4a['total_claim_count'] != 0.0)]"
   ]
  },
  {
   "cell_type": "code",
   "execution_count": 80,
   "metadata": {},
   "outputs": [
    {
     "data": {
      "text/plain": [
       "(788529, 4)"
      ]
     },
     "execution_count": 80,
     "metadata": {},
     "output_type": "execute_result"
    }
   ],
   "source": [
    "op_agelis4b.shape"
   ]
  },
  {
   "cell_type": "code",
   "execution_count": 81,
   "metadata": {},
   "outputs": [],
   "source": [
    "op_agelis4c = op_agelis4b.loc[(op_agelis4b['total_claim_count_ge65'] != 0.0)]"
   ]
  },
  {
   "cell_type": "code",
   "execution_count": 82,
   "metadata": {},
   "outputs": [
    {
     "data": {
      "text/plain": [
       "(781327, 4)"
      ]
     },
     "execution_count": 82,
     "metadata": {},
     "output_type": "execute_result"
    }
   ],
   "source": [
    "op_agelis4c.shape"
   ]
  },
  {
   "cell_type": "code",
   "execution_count": 83,
   "metadata": {},
   "outputs": [
    {
     "data": {
      "text/html": [
       "<div>\n",
       "<style scoped>\n",
       "    .dataframe tbody tr th:only-of-type {\n",
       "        vertical-align: middle;\n",
       "    }\n",
       "\n",
       "    .dataframe tbody tr th {\n",
       "        vertical-align: top;\n",
       "    }\n",
       "\n",
       "    .dataframe thead th {\n",
       "        text-align: right;\n",
       "    }\n",
       "</style>\n",
       "<table border=\"1\" class=\"dataframe\">\n",
       "  <thead>\n",
       "    <tr style=\"text-align: right;\">\n",
       "      <th></th>\n",
       "      <th>npi</th>\n",
       "      <th>total_claim_count</th>\n",
       "      <th>total_claim_count_ge65</th>\n",
       "      <th>lis_claim_count</th>\n",
       "    </tr>\n",
       "  </thead>\n",
       "  <tbody>\n",
       "    <tr>\n",
       "      <td>0</td>\n",
       "      <td>1003000126</td>\n",
       "      <td>677</td>\n",
       "      <td>516.0</td>\n",
       "      <td>305.0</td>\n",
       "    </tr>\n",
       "    <tr>\n",
       "      <td>1</td>\n",
       "      <td>1003000142</td>\n",
       "      <td>1946</td>\n",
       "      <td>881.0</td>\n",
       "      <td>1184.0</td>\n",
       "    </tr>\n",
       "    <tr>\n",
       "      <td>4</td>\n",
       "      <td>1003000282</td>\n",
       "      <td>90</td>\n",
       "      <td>65.0</td>\n",
       "      <td>73.0</td>\n",
       "    </tr>\n",
       "    <tr>\n",
       "      <td>5</td>\n",
       "      <td>1003000407</td>\n",
       "      <td>2788</td>\n",
       "      <td>2700.0</td>\n",
       "      <td>1990.0</td>\n",
       "    </tr>\n",
       "    <tr>\n",
       "      <td>6</td>\n",
       "      <td>1003000423</td>\n",
       "      <td>200</td>\n",
       "      <td>118.0</td>\n",
       "      <td>70.0</td>\n",
       "    </tr>\n",
       "  </tbody>\n",
       "</table>\n",
       "</div>"
      ],
      "text/plain": [
       "          npi  total_claim_count  total_claim_count_ge65  lis_claim_count\n",
       "0  1003000126                677                   516.0            305.0\n",
       "1  1003000142               1946                   881.0           1184.0\n",
       "4  1003000282                 90                    65.0             73.0\n",
       "5  1003000407               2788                  2700.0           1990.0\n",
       "6  1003000423                200                   118.0             70.0"
      ]
     },
     "execution_count": 83,
     "metadata": {},
     "output_type": "execute_result"
    }
   ],
   "source": [
    "op_agelis4c.head()"
   ]
  },
  {
   "cell_type": "markdown",
   "metadata": {},
   "source": [
    "#### 5.3 (b) What is the Pearson correlation coefficient between these values - \n",
    "####            the fraction of claims for beneficiaries age 65 and older and\n",
    "####            the fraction of claims for beneficiaries with a low-income subsidy?"
   ]
  },
  {
   "cell_type": "code",
   "execution_count": 84,
   "metadata": {},
   "outputs": [
    {
     "name": "stderr",
     "output_type": "stream",
     "text": [
      "/Applications/anaconda3/lib/python3.7/site-packages/ipykernel_launcher.py:1: SettingWithCopyWarning: \n",
      "A value is trying to be set on a copy of a slice from a DataFrame.\n",
      "Try using .loc[row_indexer,col_indexer] = value instead\n",
      "\n",
      "See the caveats in the documentation: http://pandas.pydata.org/pandas-docs/stable/user_guide/indexing.html#returning-a-view-versus-a-copy\n",
      "  \"\"\"Entry point for launching an IPython kernel.\n"
     ]
    }
   ],
   "source": [
    "op_agelis4c['frac_total_claim_count_ge65'] = op_agelis4c['total_claim_count_ge65'] / op_agelis4c['total_claim_count']"
   ]
  },
  {
   "cell_type": "code",
   "execution_count": 85,
   "metadata": {},
   "outputs": [
    {
     "data": {
      "text/html": [
       "<div>\n",
       "<style scoped>\n",
       "    .dataframe tbody tr th:only-of-type {\n",
       "        vertical-align: middle;\n",
       "    }\n",
       "\n",
       "    .dataframe tbody tr th {\n",
       "        vertical-align: top;\n",
       "    }\n",
       "\n",
       "    .dataframe thead th {\n",
       "        text-align: right;\n",
       "    }\n",
       "</style>\n",
       "<table border=\"1\" class=\"dataframe\">\n",
       "  <thead>\n",
       "    <tr style=\"text-align: right;\">\n",
       "      <th></th>\n",
       "      <th>npi</th>\n",
       "      <th>total_claim_count</th>\n",
       "      <th>total_claim_count_ge65</th>\n",
       "      <th>lis_claim_count</th>\n",
       "      <th>frac_total_claim_count_ge65</th>\n",
       "    </tr>\n",
       "  </thead>\n",
       "  <tbody>\n",
       "    <tr>\n",
       "      <td>0</td>\n",
       "      <td>1003000126</td>\n",
       "      <td>677</td>\n",
       "      <td>516.0</td>\n",
       "      <td>305.0</td>\n",
       "      <td>0.762186</td>\n",
       "    </tr>\n",
       "    <tr>\n",
       "      <td>1</td>\n",
       "      <td>1003000142</td>\n",
       "      <td>1946</td>\n",
       "      <td>881.0</td>\n",
       "      <td>1184.0</td>\n",
       "      <td>0.452724</td>\n",
       "    </tr>\n",
       "    <tr>\n",
       "      <td>4</td>\n",
       "      <td>1003000282</td>\n",
       "      <td>90</td>\n",
       "      <td>65.0</td>\n",
       "      <td>73.0</td>\n",
       "      <td>0.722222</td>\n",
       "    </tr>\n",
       "    <tr>\n",
       "      <td>5</td>\n",
       "      <td>1003000407</td>\n",
       "      <td>2788</td>\n",
       "      <td>2700.0</td>\n",
       "      <td>1990.0</td>\n",
       "      <td>0.968436</td>\n",
       "    </tr>\n",
       "    <tr>\n",
       "      <td>6</td>\n",
       "      <td>1003000423</td>\n",
       "      <td>200</td>\n",
       "      <td>118.0</td>\n",
       "      <td>70.0</td>\n",
       "      <td>0.590000</td>\n",
       "    </tr>\n",
       "  </tbody>\n",
       "</table>\n",
       "</div>"
      ],
      "text/plain": [
       "          npi  total_claim_count  total_claim_count_ge65  lis_claim_count  \\\n",
       "0  1003000126                677                   516.0            305.0   \n",
       "1  1003000142               1946                   881.0           1184.0   \n",
       "4  1003000282                 90                    65.0             73.0   \n",
       "5  1003000407               2788                  2700.0           1990.0   \n",
       "6  1003000423                200                   118.0             70.0   \n",
       "\n",
       "   frac_total_claim_count_ge65  \n",
       "0                     0.762186  \n",
       "1                     0.452724  \n",
       "4                     0.722222  \n",
       "5                     0.968436  \n",
       "6                     0.590000  "
      ]
     },
     "execution_count": 85,
     "metadata": {},
     "output_type": "execute_result"
    }
   ],
   "source": [
    "op_agelis4c.head()"
   ]
  },
  {
   "cell_type": "code",
   "execution_count": 86,
   "metadata": {},
   "outputs": [
    {
     "name": "stderr",
     "output_type": "stream",
     "text": [
      "/Applications/anaconda3/lib/python3.7/site-packages/ipykernel_launcher.py:1: SettingWithCopyWarning: \n",
      "A value is trying to be set on a copy of a slice from a DataFrame.\n",
      "Try using .loc[row_indexer,col_indexer] = value instead\n",
      "\n",
      "See the caveats in the documentation: http://pandas.pydata.org/pandas-docs/stable/user_guide/indexing.html#returning-a-view-versus-a-copy\n",
      "  \"\"\"Entry point for launching an IPython kernel.\n"
     ]
    }
   ],
   "source": [
    "op_agelis4c['frac_lis_claim_count'] = op_agelis4c['lis_claim_count'] / op_agelis4c['total_claim_count']"
   ]
  },
  {
   "cell_type": "code",
   "execution_count": 87,
   "metadata": {},
   "outputs": [
    {
     "data": {
      "text/html": [
       "<div>\n",
       "<style scoped>\n",
       "    .dataframe tbody tr th:only-of-type {\n",
       "        vertical-align: middle;\n",
       "    }\n",
       "\n",
       "    .dataframe tbody tr th {\n",
       "        vertical-align: top;\n",
       "    }\n",
       "\n",
       "    .dataframe thead th {\n",
       "        text-align: right;\n",
       "    }\n",
       "</style>\n",
       "<table border=\"1\" class=\"dataframe\">\n",
       "  <thead>\n",
       "    <tr style=\"text-align: right;\">\n",
       "      <th></th>\n",
       "      <th>npi</th>\n",
       "      <th>total_claim_count</th>\n",
       "      <th>total_claim_count_ge65</th>\n",
       "      <th>lis_claim_count</th>\n",
       "      <th>frac_total_claim_count_ge65</th>\n",
       "      <th>frac_lis_claim_count</th>\n",
       "    </tr>\n",
       "  </thead>\n",
       "  <tbody>\n",
       "    <tr>\n",
       "      <td>0</td>\n",
       "      <td>1003000126</td>\n",
       "      <td>677</td>\n",
       "      <td>516.0</td>\n",
       "      <td>305.0</td>\n",
       "      <td>0.762186</td>\n",
       "      <td>0.450517</td>\n",
       "    </tr>\n",
       "    <tr>\n",
       "      <td>1</td>\n",
       "      <td>1003000142</td>\n",
       "      <td>1946</td>\n",
       "      <td>881.0</td>\n",
       "      <td>1184.0</td>\n",
       "      <td>0.452724</td>\n",
       "      <td>0.608428</td>\n",
       "    </tr>\n",
       "    <tr>\n",
       "      <td>4</td>\n",
       "      <td>1003000282</td>\n",
       "      <td>90</td>\n",
       "      <td>65.0</td>\n",
       "      <td>73.0</td>\n",
       "      <td>0.722222</td>\n",
       "      <td>0.811111</td>\n",
       "    </tr>\n",
       "    <tr>\n",
       "      <td>5</td>\n",
       "      <td>1003000407</td>\n",
       "      <td>2788</td>\n",
       "      <td>2700.0</td>\n",
       "      <td>1990.0</td>\n",
       "      <td>0.968436</td>\n",
       "      <td>0.713773</td>\n",
       "    </tr>\n",
       "    <tr>\n",
       "      <td>6</td>\n",
       "      <td>1003000423</td>\n",
       "      <td>200</td>\n",
       "      <td>118.0</td>\n",
       "      <td>70.0</td>\n",
       "      <td>0.590000</td>\n",
       "      <td>0.350000</td>\n",
       "    </tr>\n",
       "  </tbody>\n",
       "</table>\n",
       "</div>"
      ],
      "text/plain": [
       "          npi  total_claim_count  total_claim_count_ge65  lis_claim_count  \\\n",
       "0  1003000126                677                   516.0            305.0   \n",
       "1  1003000142               1946                   881.0           1184.0   \n",
       "4  1003000282                 90                    65.0             73.0   \n",
       "5  1003000407               2788                  2700.0           1990.0   \n",
       "6  1003000423                200                   118.0             70.0   \n",
       "\n",
       "   frac_total_claim_count_ge65  frac_lis_claim_count  \n",
       "0                     0.762186              0.450517  \n",
       "1                     0.452724              0.608428  \n",
       "4                     0.722222              0.811111  \n",
       "5                     0.968436              0.713773  \n",
       "6                     0.590000              0.350000  "
      ]
     },
     "execution_count": 87,
     "metadata": {},
     "output_type": "execute_result"
    }
   ],
   "source": [
    "op_agelis4c.head()"
   ]
  },
  {
   "cell_type": "code",
   "execution_count": 88,
   "metadata": {},
   "outputs": [],
   "source": [
    "op_agelis4e = op_agelis4c.drop('npi', axis = 1)"
   ]
  },
  {
   "cell_type": "code",
   "execution_count": 89,
   "metadata": {},
   "outputs": [
    {
     "data": {
      "text/html": [
       "<div>\n",
       "<style scoped>\n",
       "    .dataframe tbody tr th:only-of-type {\n",
       "        vertical-align: middle;\n",
       "    }\n",
       "\n",
       "    .dataframe tbody tr th {\n",
       "        vertical-align: top;\n",
       "    }\n",
       "\n",
       "    .dataframe thead th {\n",
       "        text-align: right;\n",
       "    }\n",
       "</style>\n",
       "<table border=\"1\" class=\"dataframe\">\n",
       "  <thead>\n",
       "    <tr style=\"text-align: right;\">\n",
       "      <th></th>\n",
       "      <th>total_claim_count</th>\n",
       "      <th>total_claim_count_ge65</th>\n",
       "      <th>lis_claim_count</th>\n",
       "      <th>frac_total_claim_count_ge65</th>\n",
       "      <th>frac_lis_claim_count</th>\n",
       "    </tr>\n",
       "  </thead>\n",
       "  <tbody>\n",
       "    <tr>\n",
       "      <td>0</td>\n",
       "      <td>677</td>\n",
       "      <td>516.0</td>\n",
       "      <td>305.0</td>\n",
       "      <td>0.762186</td>\n",
       "      <td>0.450517</td>\n",
       "    </tr>\n",
       "    <tr>\n",
       "      <td>1</td>\n",
       "      <td>1946</td>\n",
       "      <td>881.0</td>\n",
       "      <td>1184.0</td>\n",
       "      <td>0.452724</td>\n",
       "      <td>0.608428</td>\n",
       "    </tr>\n",
       "    <tr>\n",
       "      <td>4</td>\n",
       "      <td>90</td>\n",
       "      <td>65.0</td>\n",
       "      <td>73.0</td>\n",
       "      <td>0.722222</td>\n",
       "      <td>0.811111</td>\n",
       "    </tr>\n",
       "    <tr>\n",
       "      <td>5</td>\n",
       "      <td>2788</td>\n",
       "      <td>2700.0</td>\n",
       "      <td>1990.0</td>\n",
       "      <td>0.968436</td>\n",
       "      <td>0.713773</td>\n",
       "    </tr>\n",
       "    <tr>\n",
       "      <td>6</td>\n",
       "      <td>200</td>\n",
       "      <td>118.0</td>\n",
       "      <td>70.0</td>\n",
       "      <td>0.590000</td>\n",
       "      <td>0.350000</td>\n",
       "    </tr>\n",
       "  </tbody>\n",
       "</table>\n",
       "</div>"
      ],
      "text/plain": [
       "   total_claim_count  total_claim_count_ge65  lis_claim_count  \\\n",
       "0                677                   516.0            305.0   \n",
       "1               1946                   881.0           1184.0   \n",
       "4                 90                    65.0             73.0   \n",
       "5               2788                  2700.0           1990.0   \n",
       "6                200                   118.0             70.0   \n",
       "\n",
       "   frac_total_claim_count_ge65  frac_lis_claim_count  \n",
       "0                     0.762186              0.450517  \n",
       "1                     0.452724              0.608428  \n",
       "4                     0.722222              0.811111  \n",
       "5                     0.968436              0.713773  \n",
       "6                     0.590000              0.350000  "
      ]
     },
     "execution_count": 89,
     "metadata": {},
     "output_type": "execute_result"
    }
   ],
   "source": [
    "op_agelis4e.head()"
   ]
  },
  {
   "cell_type": "code",
   "execution_count": 90,
   "metadata": {},
   "outputs": [
    {
     "data": {
      "text/html": [
       "<div>\n",
       "<style scoped>\n",
       "    .dataframe tbody tr th:only-of-type {\n",
       "        vertical-align: middle;\n",
       "    }\n",
       "\n",
       "    .dataframe tbody tr th {\n",
       "        vertical-align: top;\n",
       "    }\n",
       "\n",
       "    .dataframe thead th {\n",
       "        text-align: right;\n",
       "    }\n",
       "</style>\n",
       "<table border=\"1\" class=\"dataframe\">\n",
       "  <thead>\n",
       "    <tr style=\"text-align: right;\">\n",
       "      <th></th>\n",
       "      <th>total_claim_count</th>\n",
       "      <th>total_claim_count_ge65</th>\n",
       "      <th>lis_claim_count</th>\n",
       "      <th>frac_total_claim_count_ge65</th>\n",
       "      <th>frac_lis_claim_count</th>\n",
       "    </tr>\n",
       "  </thead>\n",
       "  <tbody>\n",
       "    <tr>\n",
       "      <td>total_claim_count</td>\n",
       "      <td>1.000000</td>\n",
       "      <td>0.976948</td>\n",
       "      <td>0.855426</td>\n",
       "      <td>0.141495</td>\n",
       "      <td>0.002223</td>\n",
       "    </tr>\n",
       "    <tr>\n",
       "      <td>total_claim_count_ge65</td>\n",
       "      <td>0.976948</td>\n",
       "      <td>1.000000</td>\n",
       "      <td>0.805184</td>\n",
       "      <td>0.242831</td>\n",
       "      <td>-0.059901</td>\n",
       "    </tr>\n",
       "    <tr>\n",
       "      <td>lis_claim_count</td>\n",
       "      <td>0.855426</td>\n",
       "      <td>0.805184</td>\n",
       "      <td>1.000000</td>\n",
       "      <td>-0.008114</td>\n",
       "      <td>0.245342</td>\n",
       "    </tr>\n",
       "    <tr>\n",
       "      <td>frac_total_claim_count_ge65</td>\n",
       "      <td>0.141495</td>\n",
       "      <td>0.242831</td>\n",
       "      <td>-0.008114</td>\n",
       "      <td>1.000000</td>\n",
       "      <td>-0.583849</td>\n",
       "    </tr>\n",
       "    <tr>\n",
       "      <td>frac_lis_claim_count</td>\n",
       "      <td>0.002223</td>\n",
       "      <td>-0.059901</td>\n",
       "      <td>0.245342</td>\n",
       "      <td>-0.583849</td>\n",
       "      <td>1.000000</td>\n",
       "    </tr>\n",
       "  </tbody>\n",
       "</table>\n",
       "</div>"
      ],
      "text/plain": [
       "                             total_claim_count  total_claim_count_ge65  \\\n",
       "total_claim_count                     1.000000                0.976948   \n",
       "total_claim_count_ge65                0.976948                1.000000   \n",
       "lis_claim_count                       0.855426                0.805184   \n",
       "frac_total_claim_count_ge65           0.141495                0.242831   \n",
       "frac_lis_claim_count                  0.002223               -0.059901   \n",
       "\n",
       "                             lis_claim_count  frac_total_claim_count_ge65  \\\n",
       "total_claim_count                   0.855426                     0.141495   \n",
       "total_claim_count_ge65              0.805184                     0.242831   \n",
       "lis_claim_count                     1.000000                    -0.008114   \n",
       "frac_total_claim_count_ge65        -0.008114                     1.000000   \n",
       "frac_lis_claim_count                0.245342                    -0.583849   \n",
       "\n",
       "                             frac_lis_claim_count  \n",
       "total_claim_count                        0.002223  \n",
       "total_claim_count_ge65                  -0.059901  \n",
       "lis_claim_count                          0.245342  \n",
       "frac_total_claim_count_ge65             -0.583849  \n",
       "frac_lis_claim_count                     1.000000  "
      ]
     },
     "execution_count": 90,
     "metadata": {},
     "output_type": "execute_result"
    }
   ],
   "source": [
    "pearsoncorr = op_agelis4e.corr(method='pearson')\n",
    "pearsoncorr"
   ]
  },
  {
   "cell_type": "markdown",
   "metadata": {},
   "source": [
    "##### pearson correlation between 'total_claim_count_ge65' & 'lis_claim_count' = 0.8052"
   ]
  },
  {
   "cell_type": "markdown",
   "metadata": {},
   "source": [
    "##### pearson correlation between 'frac_total_claim_count_ge65' & 'frac_lis_claim_count' = -0.5838"
   ]
  },
  {
   "cell_type": "code",
   "execution_count": null,
   "metadata": {},
   "outputs": [],
   "source": [
    "# Problem 6:\n",
    "# 6.1 - For each provider for whom the information is not suppressed, \n",
    "# figure out the average cost per day of prescriptions in both 2016 and 2017. \n",
    "# 6.2 - Use this to estimate the inflation rate for daily prescription costs per provider. \n",
    "# 6.3 - What is the average inflation rate across all providers?"
   ]
  },
  {
   "cell_type": "code",
   "execution_count": null,
   "metadata": {},
   "outputs": [],
   "source": [
    "# Problem 7:\n",
    "# 7.1 - Consider all providers with a defined specialty in both years. Find the fraction of providers who left each specialty between 2016 and 2017. \n",
    "# 7.2 - What is the largest such fraction, when considering specialties with at least 1000 proviers in 2016? \n",
    "# Note that some specialties have a fraction of 1 due to specialty name changes between 2016 and 2017; \n",
    "# disregard these specialties in calculating your answer."
   ]
  }
 ],
 "metadata": {
  "kernelspec": {
   "display_name": "Python 3",
   "language": "python",
   "name": "python3"
  },
  "language_info": {
   "codemirror_mode": {
    "name": "ipython",
    "version": 3
   },
   "file_extension": ".py",
   "mimetype": "text/x-python",
   "name": "python",
   "nbconvert_exporter": "python",
   "pygments_lexer": "ipython3",
   "version": "3.7.4"
  }
 },
 "nbformat": 4,
 "nbformat_minor": 2
}
